{
 "cells": [
  {
   "cell_type": "markdown",
   "metadata": {
    "_cell_guid": "29ce58a2-2b6a-6869-8535-43ffdf2a040c"
   },
   "source": [
    "# Predicting Bike Sharing Demand Using Various Machine Learning Model\n",
    "## Predict how atmospheric conditions affect the number of bikes rented, analysis of bike rents and correlation with weather condition. applying various machine learning model to better predict the target variable."
   ]
  },
  {
   "cell_type": "code",
   "execution_count": 1,
   "metadata": {},
   "outputs": [
    {
     "data": {
      "text/html": [
       "<img src=\"https://statik.tempo.co/data/2020/07/04/id_950086/950086_720.jpg\" width=\"500\" height=\"500\"/>"
      ],
      "text/plain": [
       "<IPython.core.display.Image object>"
      ]
     },
     "execution_count": 1,
     "metadata": {},
     "output_type": "execute_result"
    }
   ],
   "source": [
    "# import image module\n",
    "from IPython.display import Image\n",
    "  \n",
    "# get the image\n",
    "Image(url=\"https://statik.tempo.co/data/2020/07/04/id_950086/950086_720.jpg\", width=500, height=500)"
   ]
  },
  {
   "cell_type": "markdown",
   "metadata": {},
   "source": [
    "## **Pendahuluan**\n",
    "notebook ini (akan) terbagi ke dalam 4 sub bab :\n",
    "1. Data preprocessing dan feature engineering\n",
    "2. EDA\n",
    "3. Data Visualization\n",
    "4. Model ML - dataset dibagi ke dalam df_train dan df_test"
   ]
  },
  {
   "cell_type": "markdown",
   "metadata": {
    "_cell_guid": "783f3ec4-bb24-8414-1055-5dc24748ce68"
   },
   "source": [
    "## About Dataset"
   ]
  },
  {
   "cell_type": "markdown",
   "metadata": {
    "_cell_guid": "d0754314-700d-e91c-6e39-55c083cf085e"
   },
   "source": [
    "#### **Overview**\n",
    "\n",
    "Bike sharing systems are a means of renting bicycles where the process of obtaining membership, rental, and bike return is automated via a network of kiosk locations throughout a city. Using these systems, people are able rent a bike from a one location and return it to a different place on an as-needed basis. Currently, there are over 500 bike-sharing programs around the world. Indonesia, in particular, has several companies engaged in this field, for example, Gowes which operates on my campus(Universitas Indonesia).\n",
    "\n",
    "#### **Data Fields**\n",
    "- Date : year-month-day -> dapat melakukan feature engineering pada kolom ini\n",
    "- Rented Bike count - Count of bikes rented at each hour\n",
    "- Hour - Hour of the day\n",
    "- Temperature-Temperature in Celsius\n",
    "- Humidity - %\n",
    "- Windspeed - m/s\n",
    "- Visibility - 10m\n",
    "- Dew point temperature - Celsius\n",
    "- Solar radiation - MJ/m2\n",
    "- Rainfall - mm\n",
    "- Snowfall - cm\n",
    "- Seasons - Winter, Spring, Summer, Autumn\n",
    "- Holiday - Holiday/No holiday\n",
    "- Functional Day - NoFunc(Non Functional Hours), Fun(Functional hours)\n",
    "\n",
    "apa itu dew temperature?\n",
    "Dew Point Temperature adalah titik embun udara atau titik saturasi artinya suhu di mana udara mulai mengembun menimbulkan titik-titik air. Dew Point -20 degC artinya udara hanya akan mengembun menjadi air ketika suhu turun menjadi -20degC.\n",
    "###\n",
    "Ini adalah rasio antara apa yang ada di udara dan berapa banyak yang bisa dipegang, dinyatakan sebagai persentase. Anda dapat menggunakan suhu titik embun untuk membantu menentukan seberapa lembap udara. Suhu titik embun yang mendekati suhu sebenarnya berarti bahwa udara cukup penuh dengan uap air dan dengan demikian sangat lembap. Jika titik embun secara signifikan lebih rendah dari suhu udara, udara menjadi kering dan masih bisa menampung banyak uap air tambahan.\n",
    "\n",
    "Umumnya, titik embun pada atau di bawah 55 adalah nyaman tetapi lebih dari 65 terasa menindas. Ketika Anda memiliki suhu tinggi dan tingkat kelembaban tinggi atau titik embun, Anda memiliki indeks panas yang lebih tinggi juga. Misalnya, mungkin hanya 90 derajat Fahrenheit, tetapi sebenarnya terasa seperti 96 karena kelembaban yang tinggi.\n",
    "  \n",
    "  **terdapat 14 kolom** "
   ]
  },
  {
   "cell_type": "markdown",
   "metadata": {},
   "source": [
    "# Deskripsi Masalah"
   ]
  },
  {
   "cell_type": "markdown",
   "metadata": {},
   "source": [
    "Penyewaan sepeda adalah salah satu solusi bagi masalah transportasi kota. selain menyehatkan, bersepeda juga turut berkontribusi pada kesehatan lingkungan karena merupakan moda transportasi yang menyumbang nol-emisi (zero-emission). Sistem penyewaan sepeda yang jamak digunakan adalah menyediakan shelter pada lokasi-lokasi tertentu sebagai tempat berangkat dan perhentian pengguna. secara umum, terdapat 2 skema penyewaan sepeda. skema pertama adalah sistem bike sharing publik yang tidak meanrik biaya dan sistem kedua adalah sistem subscription dimana akan dikenai biaya membership. mengutip wikipedia :\n",
    "\"A bicycle-sharing system, bike share program,[1] public bicycle scheme,[2] or public bike share (PBS) scheme,[3] is a shared transport service in which bicycles are made available for shared use to individuals on a short-term basis for a price or free.\"\n",
    "sistem bike sharing sangat bisa menggunakan data sains sebagai tools bisnisnya karena kaya akan data. misalnya saja data pengguna yang seperti gender, usia, dll, data shelter seperti longitude dan latitude -tidak digunakan pada dataset ini-, data yang berkaitan dengan waktu seperti waktu keberangkatan dan perhentian, dan juga data yang berkaitan dengan cuaca seperti yang banyak digunakan pada dataset ini. penggunaan data sains umumnya dan machine learning khususnya juga dapat membantu penyelesaian masalah seperti jumlah sepeda yang harus tersedia pada tiap shelter, waktu2 kapan saja yang cenderung memiliki demand tinggi, dsb.\n"
   ]
  },
  {
   "cell_type": "markdown",
   "metadata": {},
   "source": [
    "menurut paper, tujuan menggunakan data science adalah untuk mencari algoritma terbaik yang memprediksi demand penyewaan sepeda dengan skema bike-sharing per jam. algoritma terbaik kemudian akan dilatih dengan berbagai kombinasi fitur untuk menilai fitur mana yang paling berpengaruh dan mengetahui hubungan antar fitur.\n",
    "\n",
    "paper tsb menggunakan model : (a) LM, (b) GBM, (c) SVM, (d) BT and (e) XGBTree untuk memprediksi permintaan terhadap penyewaan sepeda publik kemudian meranking pengaruh dari prediktor dan parameter yang ada dalam model."
   ]
  },
  {
   "cell_type": "markdown",
   "metadata": {},
   "source": [
    "datanya cukup bersih, tidak ada missing value dan duplikat. tapi ada feature engineering berupa penambahan kolom waktu. kolom yang menunjukkan musim juga dibuat, begitu juga kolom yg menunjukkan apakah rental sepeda buka/tutup pada hari tsb."
   ]
  },
  {
   "cell_type": "markdown",
   "metadata": {},
   "source": [
    "# Importing Libraries"
   ]
  },
  {
   "cell_type": "code",
   "execution_count": 2,
   "metadata": {
    "_cell_guid": "548437f4-7dcb-60a4-0a79-74d9594b071b"
   },
   "outputs": [],
   "source": [
    "import pylab\n",
    "import calendar\n",
    "import numpy as np\n",
    "import pandas as pd\n",
    "import pandas_profiling as pp\n",
    "import seaborn as sns\n",
    "import xgboost as xgb\n",
    "from scipy import stats\n",
    "import missingno as msno\n",
    "from datetime import datetime\n",
    "import matplotlib.pyplot as plt\n",
    "import warnings\n",
    "pd.options.mode.chained_assignment = None\n",
    "warnings.filterwarnings(\"ignore\", category=DeprecationWarning)\n",
    "%matplotlib inline"
   ]
  },
  {
   "cell_type": "markdown",
   "metadata": {
    "_cell_guid": "ec94edf8-890a-0ba2-decc-914582ac316d"
   },
   "source": [
    "#### **Lets Read In The Dataset**"
   ]
  },
  {
   "cell_type": "code",
   "execution_count": 3,
   "metadata": {},
   "outputs": [],
   "source": [
    "df = pd.read_csv(r\"C:\\Users\\ASUS\\Downloads\\FinPro Dibimbing\\SeoulBikeData.csv\", encoding= 'unicode_escape')\n",
    "#Importing the dataset"
   ]
  },
  {
   "cell_type": "code",
   "execution_count": 4,
   "metadata": {},
   "outputs": [],
   "source": [
    "# mengganti nama kolom (agar mempermudah)\n",
    "df.rename(columns={'Rented Bike Count': 'Count',\n",
    "                  'Temperature(°C)': 'Temp',\n",
    "                   'Humidity(%)': 'Humidity',\n",
    "                  'Visibility (10m)': 'Visibility',\n",
    "                  'Dew point temperature(°C)': 'DewTemp',\n",
    "                  'Wind speed (m/s)' : 'WindSpeed',\n",
    "                  'Solar Radiation (MJ/m2)': 'SolarRad',\n",
    "                  'Rainfall(mm)': 'Rainfall',\n",
    "                  'Snowfall (cm)':'Snowfall',\n",
    "                   },\n",
    "          inplace=True, errors='raise')\n",
    "###\n",
    "df['Date'] = pd.to_datetime(df['Date'])"
   ]
  },
  {
   "cell_type": "code",
   "execution_count": 5,
   "metadata": {},
   "outputs": [
    {
     "name": "stdout",
     "output_type": "stream",
     "text": [
      "\n",
      "\u001b[1mKesimpulan:\u001b[0m Dataset terdiri atas 14 features & 8760 samples.\n"
     ]
    }
   ],
   "source": [
    "target = 'Count'\n",
    "features = [i for i in df.columns if i not in [target]]\n",
    "\n",
    "original_df = df.copy(deep=True)\n",
    "\n",
    "print('\\n\\033[1mKesimpulan:\\033[0m Dataset terdiri atas {} features & {} samples.'.format(df.shape[1], df.shape[0]))"
   ]
  },
  {
   "cell_type": "code",
   "execution_count": 6,
   "metadata": {
    "execution": {
     "iopub.execute_input": "2022-01-06T13:59:01.918004Z",
     "iopub.status.busy": "2022-01-06T13:59:01.916948Z",
     "iopub.status.idle": "2022-01-06T13:59:01.936432Z",
     "shell.execute_reply": "2022-01-06T13:59:01.933137Z",
     "shell.execute_reply.started": "2022-01-06T13:59:01.917948Z"
    },
    "papermill": {
     "duration": 0.07308,
     "end_time": "2021-12-25T16:07:59.774046",
     "exception": false,
     "start_time": "2021-12-25T16:07:59.700966",
     "status": "completed"
    },
    "tags": []
   },
   "outputs": [
    {
     "name": "stdout",
     "output_type": "stream",
     "text": [
      "\n",
      "\u001b[1mKesimpulan:\u001b[0m Dataset terdiri atas 10 kolom numerical & 3 kolom kategori.\n"
     ]
    }
   ],
   "source": [
    "#Checking number of unique rows in each feature\n",
    "\n",
    "nu = df[features].nunique().sort_values()\n",
    "nf = []; cf = []; nnf = 0; ncf = 0; #numerical & categorical features\n",
    "\n",
    "for i in range(df[features].shape[1]):\n",
    "    if nu.values[i]<=16:cf.append(nu.index[i])\n",
    "    else: nf.append(nu.index[i])\n",
    "\n",
    "print('\\n\\033[1mKesimpulan:\\033[0m Dataset terdiri atas {} kolom numerical & {} kolom kategori.'.format(len(nf),len(cf)))"
   ]
  },
  {
   "cell_type": "code",
   "execution_count": 7,
   "metadata": {
    "execution": {
     "iopub.execute_input": "2022-01-06T13:59:01.943995Z",
     "iopub.status.busy": "2022-01-06T13:59:01.94349Z",
     "iopub.status.idle": "2022-01-06T13:59:02.03014Z",
     "shell.execute_reply": "2022-01-06T13:59:02.029438Z",
     "shell.execute_reply.started": "2022-01-06T13:59:01.94395Z"
    },
    "papermill": {
     "duration": 0.09296,
     "end_time": "2021-12-25T16:07:59.925212",
     "exception": false,
     "start_time": "2021-12-25T16:07:59.832252",
     "status": "completed"
    },
    "tags": []
   },
   "outputs": [
    {
     "data": {
      "text/html": [
       "<div>\n",
       "<style scoped>\n",
       "    .dataframe tbody tr th:only-of-type {\n",
       "        vertical-align: middle;\n",
       "    }\n",
       "\n",
       "    .dataframe tbody tr th {\n",
       "        vertical-align: top;\n",
       "    }\n",
       "\n",
       "    .dataframe thead th {\n",
       "        text-align: right;\n",
       "    }\n",
       "</style>\n",
       "<table border=\"1\" class=\"dataframe\">\n",
       "  <thead>\n",
       "    <tr style=\"text-align: right;\">\n",
       "      <th></th>\n",
       "      <th>Count</th>\n",
       "      <th>Hour</th>\n",
       "      <th>Temp</th>\n",
       "      <th>Humidity</th>\n",
       "      <th>WindSpeed</th>\n",
       "      <th>Visibility</th>\n",
       "      <th>DewTemp</th>\n",
       "      <th>SolarRad</th>\n",
       "      <th>Rainfall</th>\n",
       "      <th>Snowfall</th>\n",
       "    </tr>\n",
       "  </thead>\n",
       "  <tbody>\n",
       "    <tr>\n",
       "      <th>count</th>\n",
       "      <td>8760.000000</td>\n",
       "      <td>8760.000000</td>\n",
       "      <td>8760.000000</td>\n",
       "      <td>8760.000000</td>\n",
       "      <td>8760.000000</td>\n",
       "      <td>8760.000000</td>\n",
       "      <td>8760.000000</td>\n",
       "      <td>8760.000000</td>\n",
       "      <td>8760.000000</td>\n",
       "      <td>8760.000000</td>\n",
       "    </tr>\n",
       "    <tr>\n",
       "      <th>mean</th>\n",
       "      <td>704.602055</td>\n",
       "      <td>11.500000</td>\n",
       "      <td>12.882922</td>\n",
       "      <td>58.226256</td>\n",
       "      <td>1.724909</td>\n",
       "      <td>1436.825799</td>\n",
       "      <td>4.073813</td>\n",
       "      <td>0.569111</td>\n",
       "      <td>0.148687</td>\n",
       "      <td>0.075068</td>\n",
       "    </tr>\n",
       "    <tr>\n",
       "      <th>std</th>\n",
       "      <td>644.997468</td>\n",
       "      <td>6.922582</td>\n",
       "      <td>11.944825</td>\n",
       "      <td>20.362413</td>\n",
       "      <td>1.036300</td>\n",
       "      <td>608.298712</td>\n",
       "      <td>13.060369</td>\n",
       "      <td>0.868746</td>\n",
       "      <td>1.128193</td>\n",
       "      <td>0.436746</td>\n",
       "    </tr>\n",
       "    <tr>\n",
       "      <th>min</th>\n",
       "      <td>0.000000</td>\n",
       "      <td>0.000000</td>\n",
       "      <td>-17.800000</td>\n",
       "      <td>0.000000</td>\n",
       "      <td>0.000000</td>\n",
       "      <td>27.000000</td>\n",
       "      <td>-30.600000</td>\n",
       "      <td>0.000000</td>\n",
       "      <td>0.000000</td>\n",
       "      <td>0.000000</td>\n",
       "    </tr>\n",
       "    <tr>\n",
       "      <th>25%</th>\n",
       "      <td>191.000000</td>\n",
       "      <td>5.750000</td>\n",
       "      <td>3.500000</td>\n",
       "      <td>42.000000</td>\n",
       "      <td>0.900000</td>\n",
       "      <td>940.000000</td>\n",
       "      <td>-4.700000</td>\n",
       "      <td>0.000000</td>\n",
       "      <td>0.000000</td>\n",
       "      <td>0.000000</td>\n",
       "    </tr>\n",
       "    <tr>\n",
       "      <th>50%</th>\n",
       "      <td>504.500000</td>\n",
       "      <td>11.500000</td>\n",
       "      <td>13.700000</td>\n",
       "      <td>57.000000</td>\n",
       "      <td>1.500000</td>\n",
       "      <td>1698.000000</td>\n",
       "      <td>5.100000</td>\n",
       "      <td>0.010000</td>\n",
       "      <td>0.000000</td>\n",
       "      <td>0.000000</td>\n",
       "    </tr>\n",
       "    <tr>\n",
       "      <th>75%</th>\n",
       "      <td>1065.250000</td>\n",
       "      <td>17.250000</td>\n",
       "      <td>22.500000</td>\n",
       "      <td>74.000000</td>\n",
       "      <td>2.300000</td>\n",
       "      <td>2000.000000</td>\n",
       "      <td>14.800000</td>\n",
       "      <td>0.930000</td>\n",
       "      <td>0.000000</td>\n",
       "      <td>0.000000</td>\n",
       "    </tr>\n",
       "    <tr>\n",
       "      <th>max</th>\n",
       "      <td>3556.000000</td>\n",
       "      <td>23.000000</td>\n",
       "      <td>39.400000</td>\n",
       "      <td>98.000000</td>\n",
       "      <td>7.400000</td>\n",
       "      <td>2000.000000</td>\n",
       "      <td>27.200000</td>\n",
       "      <td>3.520000</td>\n",
       "      <td>35.000000</td>\n",
       "      <td>8.800000</td>\n",
       "    </tr>\n",
       "  </tbody>\n",
       "</table>\n",
       "</div>"
      ],
      "text/plain": [
       "             Count         Hour         Temp     Humidity    WindSpeed  \\\n",
       "count  8760.000000  8760.000000  8760.000000  8760.000000  8760.000000   \n",
       "mean    704.602055    11.500000    12.882922    58.226256     1.724909   \n",
       "std     644.997468     6.922582    11.944825    20.362413     1.036300   \n",
       "min       0.000000     0.000000   -17.800000     0.000000     0.000000   \n",
       "25%     191.000000     5.750000     3.500000    42.000000     0.900000   \n",
       "50%     504.500000    11.500000    13.700000    57.000000     1.500000   \n",
       "75%    1065.250000    17.250000    22.500000    74.000000     2.300000   \n",
       "max    3556.000000    23.000000    39.400000    98.000000     7.400000   \n",
       "\n",
       "        Visibility      DewTemp     SolarRad     Rainfall     Snowfall  \n",
       "count  8760.000000  8760.000000  8760.000000  8760.000000  8760.000000  \n",
       "mean   1436.825799     4.073813     0.569111     0.148687     0.075068  \n",
       "std     608.298712    13.060369     0.868746     1.128193     0.436746  \n",
       "min      27.000000   -30.600000     0.000000     0.000000     0.000000  \n",
       "25%     940.000000    -4.700000     0.000000     0.000000     0.000000  \n",
       "50%    1698.000000     5.100000     0.010000     0.000000     0.000000  \n",
       "75%    2000.000000    14.800000     0.930000     0.000000     0.000000  \n",
       "max    2000.000000    27.200000     3.520000    35.000000     8.800000  "
      ]
     },
     "metadata": {},
     "output_type": "display_data"
    }
   ],
   "source": [
    "#Checking the stats of all the columns\n",
    "\n",
    "display(df.describe())"
   ]
  },
  {
   "cell_type": "markdown",
   "metadata": {
    "papermill": {
     "duration": 0.059885,
     "end_time": "2021-12-25T16:08:00.044925",
     "exception": false,
     "start_time": "2021-12-25T16:07:59.98504",
     "status": "completed"
    },
    "tags": []
   },
   "source": [
    "**Inference:** The stats seem to be fine, let us do further analysis on the Dataset"
   ]
  },
  {
   "cell_type": "markdown",
   "metadata": {
    "papermill": {
     "duration": 0.059004,
     "end_time": "2021-12-25T16:08:00.163017",
     "exception": false,
     "start_time": "2021-12-25T16:08:00.104013",
     "status": "completed"
    },
    "tags": []
   },
   "source": [
    "---"
   ]
  },
  {
   "cell_type": "markdown",
   "metadata": {
    "papermill": {
     "duration": 0.059045,
     "end_time": "2021-12-25T16:08:00.281867",
     "exception": false,
     "start_time": "2021-12-25T16:08:00.222822",
     "status": "completed"
    },
    "tags": []
   },
   "source": [
    "# <center> 2. Exploratory Data Analysis (EDA)"
   ]
  },
  {
   "cell_type": "code",
   "execution_count": 8,
   "metadata": {
    "execution": {
     "iopub.execute_input": "2022-01-06T13:59:02.031821Z",
     "iopub.status.busy": "2022-01-06T13:59:02.03151Z",
     "iopub.status.idle": "2022-01-06T13:59:02.450642Z",
     "shell.execute_reply": "2022-01-06T13:59:02.449261Z",
     "shell.execute_reply.started": "2022-01-06T13:59:02.031788Z"
    },
    "papermill": {
     "duration": 0.36649,
     "end_time": "2021-12-25T16:08:00.707843",
     "exception": false,
     "start_time": "2021-12-25T16:08:00.341353",
     "status": "completed"
    },
    "scrolled": true,
    "tags": []
   },
   "outputs": [
    {
     "name": "stderr",
     "output_type": "stream",
     "text": [
      "C:\\Users\\ASUS\\anaconda3\\lib\\site-packages\\seaborn\\distributions.py:2619: FutureWarning: `distplot` is a deprecated function and will be removed in a future version. Please adapt your code to use either `displot` (a figure-level function with similar flexibility) or `histplot` (an axes-level function for histograms).\n",
      "  warnings.warn(msg, FutureWarning)\n"
     ]
    },
    {
     "data": {
      "image/png": "[encoded data removed]",
      "text/plain": [
       "<Figure size 576x288 with 1 Axes>"
      ]
     },
     "metadata": {
      "needs_background": "light"
     },
     "output_type": "display_data"
    }
   ],
   "source": [
    "#Let us first analyze the distribution of the target variable\n",
    "\n",
    "plt.figure(figsize=[8,4])\n",
    "sns.distplot(df[target], color='g',hist_kws=dict(edgecolor=\"black\", linewidth=2), bins=30)\n",
    "plt.title('Target Variable Distribution - Median Value of Rented Bike Count')\n",
    "plt.show()"
   ]
  },
  {
   "cell_type": "markdown",
   "metadata": {},
   "source": [
    "tidak normally distributed"
   ]
  },
  {
   "cell_type": "code",
   "execution_count": 9,
   "metadata": {
    "execution": {
     "iopub.execute_input": "2022-01-06T14:00:38.965053Z",
     "iopub.status.busy": "2022-01-06T14:00:38.964745Z",
     "iopub.status.idle": "2022-01-06T14:00:38.983361Z",
     "shell.execute_reply": "2022-01-06T14:00:38.982356Z",
     "shell.execute_reply.started": "2022-01-06T14:00:38.96501Z"
    },
    "papermill": {
     "duration": 0.097666,
     "end_time": "2021-12-25T16:08:22.757567",
     "exception": false,
     "start_time": "2021-12-25T16:08:22.659901",
     "status": "completed"
    },
    "tags": []
   },
   "outputs": [
    {
     "name": "stdout",
     "output_type": "stream",
     "text": [
      "                 Total Null Values  Percentage\n",
      "Date                             0         0.0\n",
      "Count                            0         0.0\n",
      "Hour                             0         0.0\n",
      "Temp                             0         0.0\n",
      "Humidity                         0         0.0\n",
      "WindSpeed                        0         0.0\n",
      "Visibility                       0         0.0\n",
      "DewTemp                          0         0.0\n",
      "SolarRad                         0         0.0\n",
      "Rainfall                         0         0.0\n",
      "Snowfall                         0         0.0\n",
      "Seasons                          0         0.0\n",
      "Holiday                          0         0.0\n",
      "Functioning Day                  0         0.0\n"
     ]
    }
   ],
   "source": [
    "#Check for empty elements\n",
    "\n",
    "nvc = pd.DataFrame(df.isnull().sum().sort_values(), columns=['Total Null Values'])\n",
    "nvc['Percentage'] = round(nvc['Total Null Values']/df.shape[0],3)*100\n",
    "print(nvc)"
   ]
  },
  {
   "cell_type": "code",
   "execution_count": 10,
   "metadata": {
    "execution": {
     "iopub.execute_input": "2022-01-06T14:00:38.949898Z",
     "iopub.status.busy": "2022-01-06T14:00:38.948965Z",
     "iopub.status.idle": "2022-01-06T14:00:38.963347Z",
     "shell.execute_reply": "2022-01-06T14:00:38.962422Z",
     "shell.execute_reply.started": "2022-01-06T14:00:38.949837Z"
    },
    "papermill": {
     "duration": 0.096907,
     "end_time": "2021-12-25T16:08:22.572248",
     "exception": false,
     "start_time": "2021-12-25T16:08:22.475341",
     "status": "completed"
    },
    "tags": []
   },
   "outputs": [
    {
     "name": "stdout",
     "output_type": "stream",
     "text": [
      "\n",
      "\u001b[1mInference:\u001b[0m The dataset doesn't have any duplicates\n"
     ]
    }
   ],
   "source": [
    "#Removal of any Duplicate rows (if any)\n",
    "\n",
    "counter = 0\n",
    "rs,cs = original_df.shape\n",
    "\n",
    "df.drop_duplicates(inplace=True)\n",
    "\n",
    "if df.shape==(rs,cs):\n",
    "    print('\\n\\033[1mInference:\\033[0m The dataset doesn\\'t have any duplicates')\n",
    "else:\n",
    "    print(f'\\n\\033[1mInference:\\033[0m Number of duplicates dropped/fixed ---> {rs-df.shape[0]}')"
   ]
  },
  {
   "cell_type": "code",
   "execution_count": null,
   "metadata": {
    "execution": {
     "iopub.execute_input": "2022-01-06T14:00:39.028192Z",
     "iopub.status.busy": "2022-01-06T14:00:39.027919Z",
     "iopub.status.idle": "2022-01-06T14:00:39.076516Z",
     "shell.execute_reply": "2022-01-06T14:00:39.075697Z",
     "shell.execute_reply.started": "2022-01-06T14:00:39.028158Z"
    },
    "papermill": {
     "duration": 0.131585,
     "end_time": "2021-12-25T16:08:23.887598",
     "exception": false,
     "start_time": "2021-12-25T16:08:23.756013",
     "status": "completed"
    },
    "tags": []
   },
   "outputs": [],
   "source": [
    "#Removal of outlier:\n",
    "\n",
    "df1 = df.copy()\n",
    "\n",
    "#features1 = [i for i in features if i not in ['CHAS','RAD']]\n",
    "features1 = nf\n",
    "\n",
    "for i in features1:\n",
    "    Q1 = df1[i].quantile(0.25)\n",
    "    Q3 = df1[i].quantile(0.75)\n",
    "    IQR = Q3 - Q1\n",
    "    df1 = df1[df1[i] <= (Q3+(1.5*IQR))]\n",
    "    df1 = df1[df1[i] >= (Q1-(1.5*IQR))]\n",
    "    df1 = df1.reset_index(drop=True)\n",
    "display(df1.head())\n",
    "print('\\n\\033[1mInference:\\033[0m\\nBefore removal of outliers, The dataset had {} samples.'.format(df.shape[0]))\n",
    "print('After removal of outliers, The dataset now has {} samples.'.format(df1.shape[0]))"
   ]
  },
  {
   "cell_type": "code",
   "execution_count": null,
   "metadata": {
    "execution": {
     "iopub.execute_input": "2022-01-06T14:00:39.078891Z",
     "iopub.status.busy": "2022-01-06T14:00:39.077972Z",
     "iopub.status.idle": "2022-01-06T14:00:39.238013Z",
     "shell.execute_reply": "2022-01-06T14:00:39.236974Z",
     "shell.execute_reply.started": "2022-01-06T14:00:39.078844Z"
    },
    "papermill": {
     "duration": 0.233283,
     "end_time": "2021-12-25T16:08:24.210205",
     "exception": false,
     "start_time": "2021-12-25T16:08:23.976922",
     "status": "completed"
    },
    "tags": []
   },
   "outputs": [],
   "source": [
    "#Final Dataset size after performing Preprocessing\n",
    "\n",
    "df = df1.copy()\n",
    "df.columns=[i.replace('-','_') for i in df.columns]\n",
    "\n",
    "plt.title('Final Dataset')\n",
    "plt.pie([df.shape[0], original_df.shape[0]-df.shape[0]], radius = 1, labels=['Retained','Dropped'], counterclock=False, \n",
    "        autopct='%1.1f%%', pctdistance=0.9, explode=[0,0], shadow=True)\n",
    "plt.pie([df.shape[0]], labels=['100%'], labeldistance=-0, radius=0.78)\n",
    "plt.show()\n",
    "\n",
    "print(f'\\n\\033[1mInference:\\033[0m After the cleanup process, {original_df.shape[0]-df.shape[0]} samples were dropped, \\\n",
    "while retaining {round(100 - (df.shape[0]*100/(original_df.shape[0])),2)}% of the data.')"
   ]
  },
  {
   "cell_type": "code",
   "execution_count": null,
   "metadata": {},
   "outputs": [],
   "source": [
    "df1.shape"
   ]
  },
  {
   "cell_type": "markdown",
   "metadata": {
    "_cell_guid": "579ef8b7-02ad-7087-f27e-cc817f58f90a"
   },
   "source": [
    "#### **Shape Of The Dataset**"
   ]
  },
  {
   "cell_type": "code",
   "execution_count": null,
   "metadata": {},
   "outputs": [],
   "source": [
    "list(df1)"
   ]
  },
  {
   "cell_type": "code",
   "execution_count": null,
   "metadata": {},
   "outputs": [],
   "source": [
    "# BEFORE\n",
    "original_df.apply(lambda x: len(x.unique()))"
   ]
  },
  {
   "cell_type": "code",
   "execution_count": null,
   "metadata": {},
   "outputs": [],
   "source": [
    "df1.columns\n",
    "# nama kolom harus diubah agar mempermudah"
   ]
  },
  {
   "cell_type": "code",
   "execution_count": null,
   "metadata": {},
   "outputs": [],
   "source": [
    "# unique values\n",
    "df1.apply(lambda x: len(x.unique()))"
   ]
  },
  {
   "cell_type": "code",
   "execution_count": null,
   "metadata": {},
   "outputs": [],
   "source": [
    "df.shape"
   ]
  },
  {
   "cell_type": "markdown",
   "metadata": {},
   "source": [
    "# Tipe-tipe Variabel:\n",
    "\n",
    "- Categorical - Seasons, Holiday, Functioning Day -> akan bertambah: Day, Month, Year, weekday, day of week\n",
    "- Timeseries - Date\n",
    "- Numerical - the rest of columns"
   ]
  },
  {
   "cell_type": "code",
   "execution_count": null,
   "metadata": {},
   "outputs": [],
   "source": [
    "# The record dates are weird. Dates are unsorted\n",
    "# ubah dulu tipe kolom menjadi datetime\n",
    "df['Date'] = pd.to_datetime(df['Date'])\n",
    "df.plot(y='Date')\n"
   ]
  },
  {
   "cell_type": "code",
   "execution_count": null,
   "metadata": {},
   "outputs": [],
   "source": [
    "# membuat kolom hh:00:00 dari kolom hour \n",
    "hour_str = [str(hour)+':00:00' if hour>9 else '0'+str(hour)+':00:00' for hour in df['Hour']]\n",
    "\n",
    "# Add hh:00:00 after date columns\n",
    "df['Date'] = [str(date)[:10]+' '+hour for date, hour in zip(df['Date'].values, hour_str)]\n",
    "\n",
    "# Convert to datetime\n",
    "df['Date'] = pd.to_datetime(df['Date'])\n",
    "df.head(5)"
   ]
  },
  {
   "cell_type": "code",
   "execution_count": null,
   "metadata": {},
   "outputs": [],
   "source": [
    "# Sort dates\n",
    "df = df.sort_values(by=['Date']).reset_index(drop=True)\n",
    "\n",
    "df.plot(y='Date')"
   ]
  },
  {
   "cell_type": "markdown",
   "metadata": {},
   "source": [
    "sekarang terlihat lebih beraturan"
   ]
  },
  {
   "cell_type": "code",
   "execution_count": null,
   "metadata": {
    "execution": {
     "iopub.execute_input": "2021-12-03T03:54:17.790022Z",
     "iopub.status.busy": "2021-12-03T03:54:17.789587Z",
     "iopub.status.idle": "2021-12-03T03:54:17.803544Z",
     "shell.execute_reply": "2021-12-03T03:54:17.802439Z",
     "shell.execute_reply.started": "2021-12-03T03:54:17.789971Z"
    }
   },
   "outputs": [],
   "source": [
    "# Bike count is recorded on 12 every month from Jan to Dec 2017\n",
    "df['Date'].dt.date.unique()[:12]"
   ]
  },
  {
   "cell_type": "code",
   "execution_count": null,
   "metadata": {
    "execution": {
     "iopub.execute_input": "2021-12-03T03:54:17.806097Z",
     "iopub.status.busy": "2021-12-03T03:54:17.80576Z",
     "iopub.status.idle": "2021-12-03T03:54:17.819964Z",
     "shell.execute_reply": "2021-12-03T03:54:17.818804Z",
     "shell.execute_reply.started": "2021-12-03T03:54:17.80605Z"
    }
   },
   "outputs": [],
   "source": [
    "# From 12 Dec onwards, bike count is recorded everyday\n",
    "df['Date'].dt.date.unique()[12:24]"
   ]
  },
  {
   "cell_type": "code",
   "execution_count": null,
   "metadata": {
    "execution": {
     "iopub.execute_input": "2021-12-03T03:54:17.896851Z",
     "iopub.status.busy": "2021-12-03T03:54:17.896234Z",
     "iopub.status.idle": "2021-12-03T03:54:18.435892Z",
     "shell.execute_reply": "2021-12-03T03:54:18.435101Z",
     "shell.execute_reply.started": "2021-12-03T03:54:17.896802Z"
    }
   },
   "outputs": [],
   "source": [
    "df.plot(x='Date', y='Count', figsize=(15,4))"
   ]
  },
  {
   "cell_type": "code",
   "execution_count": null,
   "metadata": {},
   "outputs": [],
   "source": [
    "# Resample data weekly \n",
    "df_w = df.resample('W', on='Date').mean().dropna()\n",
    "\n",
    "plt.figure(figsize=(15,4))\n",
    "plt.plot(df_w.index, df_w.Count)"
   ]
  },
  {
   "cell_type": "markdown",
   "metadata": {
    "_cell_guid": "25e226ba-1c12-3fd3-08d8-fe69f9748b73"
   },
   "source": [
    "## Feature Engineering\n",
    "### perlu dilakukan untuk mengekstrak kolom waktu dari kolom 'Date'"
   ]
  },
  {
   "cell_type": "code",
   "execution_count": null,
   "metadata": {
    "_cell_guid": "18f7c3fc-ffdf-4bc6-1d4c-c455fb4e0141"
   },
   "outputs": [],
   "source": [
    "# mengubah tipe kolom 'date'\n",
    "df['Date'] = pd.to_datetime(df['Date'])\n",
    "# membagi-bagi data waktu ke dalam tahun, bulan, dan hari\n",
    "df['Day']=df['Date'].dt.day\n",
    "df['Month']=df['Date'].dt.month\n",
    "df['Year']=df['Date'].dt.year\n",
    "\n",
    "# Change holiday/no holiday to yes/no\n",
    "label = {'Holiday': {'Holiday': 'Yes', 'No Holiday': 'No'}}\n",
    "\n",
    "df = df.replace(label)\n",
    "\n",
    "\n",
    "# drop kolom date agar tidak redundant\n",
    "# df.drop('Date', axis = 1, inplace = True) "
   ]
  },
  {
   "cell_type": "code",
   "execution_count": null,
   "metadata": {},
   "outputs": [],
   "source": [
    "#Convert string to datatime and create Hour, Month and Day of week\n",
    "#df['Date'] = pd.to_datetime(df['Date'])\n",
    "#df['Hour'] = df['Date'].apply(lambda x:x.hour)\n",
    "#df['Month'] = df['Date'].apply(lambda x:x.month)\n",
    "#df['Day of Week'] = df['Date'].apply(lambda x:x.dayofweek)"
   ]
  },
  {
   "cell_type": "code",
   "execution_count": null,
   "metadata": {},
   "outputs": [],
   "source": [
    "### add interpreted features\n",
    "#df['Date']=pd.to_datetime(df['Date'])\n",
    "#df['Year']=df['Date'].dt.year\n",
    "#df['Month']=df['Date'].dt.month\n",
    "#df['Day']=df['Date'].dt.day\n",
    "#Convert string to datatime and create Hour, Month and Day of week\n",
    "#df['Hour'] = df['Date'].apply(lambda x:x.hour)\n",
    "#df['WeekDay']=df['Date'].dt.day_name()\n",
    "#mapping_dictDay={'Monday':1,'Tuesday':2,'Wednesday':3,'Thursday':4,'Friday':5,'Saturday':6,'Sunday':7}\n",
    "#df['Day of Week']=df['WeekDay'].map(mapping_dictDay)\n",
    "### mappingnya diakhir aja\n",
    "#df['Functioning Day']=df['Functioning Day'].map({'Yes':1,'No':0})\n",
    "#df['Holiday']=df['Holiday'].map({'Yes':1,'No':0})\n",
    "###\n",
    "## no rentals on a non functioning day, since it is not open for rentals. Ignore these entries\n",
    "#df=df[df['Functioning Day']!=0]"
   ]
  },
  {
   "cell_type": "code",
   "execution_count": null,
   "metadata": {},
   "outputs": [],
   "source": [
    "df.sample(5)"
   ]
  },
  {
   "cell_type": "markdown",
   "metadata": {
    "_cell_guid": "d390d70a-24ba-1e0a-33af-f4bf58862f93"
   },
   "source": [
    "#### **Menggunakan Package Panda Profiling untuk melihat ringkasan nilai setiap kolom/feature**"
   ]
  },
  {
   "cell_type": "code",
   "execution_count": null,
   "metadata": {},
   "outputs": [],
   "source": [
    "pp.ProfileReport(df)\n",
    "#msno.matrix(df,figsize=(12,5))"
   ]
  },
  {
   "cell_type": "markdown",
   "metadata": {},
   "source": [
    "## **Mengecek missing value, duplicate, dan irrelevant entries**"
   ]
  },
  {
   "cell_type": "code",
   "execution_count": null,
   "metadata": {},
   "outputs": [],
   "source": [
    "msno.matrix(df,figsize=(12,5))"
   ]
  },
  {
   "cell_type": "code",
   "execution_count": null,
   "metadata": {},
   "outputs": [],
   "source": [
    "df_dup = df.copy()\n",
    "\n",
    "# Checking for duplicates and dropping the entire duplicate row if any\n",
    "df_dup.drop_duplicates(subset=None, inplace=True)\n",
    "# df.shape, jika sama berarti tidak ada duplikat\n",
    "\n",
    "#Create a copy of the  dataframe, without the 'instant' column, \n",
    "#as this will have unique values, and donot make sense to do a value count on it.\n",
    "\n",
    "df_dummy=df.iloc[:,1:16]\n",
    "for col in df_dummy:\n",
    "    print(df_dummy[col].value_counts(ascending=False), '\\n\\n\\n')"
   ]
  },
  {
   "cell_type": "code",
   "execution_count": null,
   "metadata": {},
   "outputs": [],
   "source": [
    "df_dup.shape"
   ]
  },
  {
   "cell_type": "code",
   "execution_count": null,
   "metadata": {},
   "outputs": [],
   "source": [
    "df.shape\n",
    "## karena hasilnya sama, berarti tidak da duplikat value"
   ]
  },
  {
   "cell_type": "markdown",
   "metadata": {},
   "source": [
    "# Data Visualization"
   ]
  },
  {
   "cell_type": "code",
   "execution_count": null,
   "metadata": {},
   "outputs": [],
   "source": [
    "#Histogram for count\n",
    "sns.set_style('whitegrid')\n",
    "sns.displot(df['Count'], bins = 100, color = 'blue')\n",
    "plt.show()"
   ]
  },
  {
   "cell_type": "code",
   "execution_count": null,
   "metadata": {},
   "outputs": [],
   "source": [
    "#Q-Q Plot\n",
    "from scipy import stats\n",
    "plt = stats.probplot(df['Count'], plot=sns.mpl.pyplot)"
   ]
  },
  {
   "cell_type": "code",
   "execution_count": null,
   "metadata": {},
   "outputs": [],
   "source": [
    "#Boxplot for count\n",
    "import matplotlib.pyplot as plt\n",
    "sns.boxplot(x = 'Count', data = df, color = 'lightgreen')\n",
    "plt.show()"
   ]
  },
  {
   "cell_type": "code",
   "execution_count": null,
   "metadata": {},
   "outputs": [],
   "source": [
    "#Calculating the number of outliers\n",
    "Q1 = df['Count'].quantile(0.25)\n",
    "Q3 = df['Count'].quantile(0.75)\n",
    "IQR = Q3 - Q1\n",
    "outliers = df[(df['Count'] < (Q1 - 1.5 * IQR)) | (df['Count'] > (Q3 + 1.5 * IQR))]\n",
    "print((len(outliers)/len(df))*100)"
   ]
  },
  {
   "cell_type": "markdown",
   "metadata": {},
   "source": [
    "1.8% of the target values are above Q3 + 1.5IQR"
   ]
  },
  {
   "cell_type": "code",
   "execution_count": null,
   "metadata": {},
   "outputs": [],
   "source": [
    "#Data without the outliers in count\n",
    "df = df[~df.isin(outliers)]\n"
   ]
  },
  {
   "cell_type": "markdown",
   "metadata": {},
   "source": [
    "## Coercing into categorical variable\n"
   ]
  },
  {
   "cell_type": "code",
   "execution_count": null,
   "metadata": {},
   "outputs": [],
   "source": [
    "#list_var_kategori = [\"Seasons\",\"Holiday\",\"Functioning_Day\",\"Day\",\"Month\",\"Year\"]\n",
    "#for var in list_var_kategori:\n",
    "#    df[var] = df[var].astype(\"category\")"
   ]
  },
  {
   "cell_type": "code",
   "execution_count": null,
   "metadata": {},
   "outputs": [],
   "source": [
    "# Convert to 'category' data type/coercing into categorical variable\n",
    "\n",
    "#df['Season']=df['Seasons'].astype('category')\n",
    "#df['Holiday']=df['Holiday'].astype('category')\n",
    "#df['Functioning_Day']=df['Functioning_Day'].astype('category')\n",
    "#df['Day']=df['Day'].astype('category')\n",
    "#df['Month']=df['Month'].astype('category')\n",
    "d#f['Year']=df['Year'].astype('category')"
   ]
  },
  {
   "cell_type": "code",
   "execution_count": null,
   "metadata": {},
   "outputs": [],
   "source": [
    "# This code does 3 things:\n",
    "# 1) Create Dummy variable\n",
    "# 2) Drop original variable for which the dummy was created\n",
    "# 3) Drop first dummy variable for each set of dummies created.\n",
    "\n",
    "#df_new = pd.get_dummies(df, drop_first=True)\n",
    "#df_new.info()"
   ]
  },
  {
   "cell_type": "markdown",
   "metadata": {},
   "source": [
    "\n",
    "- Verify the info and shape of the dataframes after split:"
   ]
  },
  {
   "cell_type": "code",
   "execution_count": null,
   "metadata": {},
   "outputs": [],
   "source": [
    "# Create a new dataframe of only numeric variables:\n",
    "\n",
    "df_num=df[[ 'Temp', 'Humidity','WindSpeed', 'Visibility', 'DewTemp','SolarRad','Rainfall','Snowfall','Count']]\n",
    "\n",
    "sns.pairplot(df_num, diag_kind='kde')\n",
    "plt.show()"
   ]
  },
  {
   "cell_type": "code",
   "execution_count": null,
   "metadata": {},
   "outputs": [],
   "source": [
    "#Build boxplot of all categorical variables (before creating dummies) againt the target variable 'Count' \n",
    "# to see how each of the predictor variable stackup against the target variable.\n",
    "\n",
    "plt.figure(figsize=(25, 10))\n",
    "plt.subplot(2,3,1)\n",
    "sns.boxplot(x = 'Seasons', y = 'Count', data = df)\n",
    "plt.subplot(2,3,2)\n",
    "sns.boxplot(x = 'Month', y = 'Count', data = df)\n",
    "plt.subplot(2,3,3)\n",
    "sns.boxplot(x = 'Functioning_Day', y = 'Count', data = df)\n",
    "plt.subplot(2,3,4)\n",
    "sns.boxplot(x = 'Holiday', y = 'Count', data = df)\n",
    "plt.subplot(2,3,5)\n",
    "sns.boxplot(x = 'Day', y = 'Count', data = df)\n",
    "plt.subplot(2,3,6)\n",
    "sns.boxplot(x = 'Year', y = 'Count', data = df)\n",
    "plt.show()"
   ]
  },
  {
   "cell_type": "markdown",
   "metadata": {},
   "source": [
    "# Correlation Matrix"
   ]
  },
  {
   "cell_type": "code",
   "execution_count": null,
   "metadata": {
    "scrolled": true
   },
   "outputs": [],
   "source": [
    "corrMatt = df[['Temp', 'Humidity','WindSpeed', 'Visibility', 'DewTemp','SolarRad','Rainfall','Snowfall','Count']].corr()\n",
    "mask = np.array(corrMatt)\n",
    "mask[np.tril_indices_from(mask)] = False\n",
    "fig,ax= plt.subplots()\n",
    "fig.set_size_inches(20,10)\n",
    "sns.heatmap(corrMatt, mask=mask,vmax=.8, square=True,annot=True)\n",
    "\n",
    "###\n",
    "plt.style.use('seaborn-white')\n",
    "\n",
    "df_cluster2 = df.corr()\n",
    "plot_kws={\"s\": 1}\n",
    "sns.clustermap(df_cluster2,\n",
    "            cmap='RdYlBu',\n",
    "            linewidths=0.1,\n",
    "            figsize=(15,15),\n",
    "               annot=True,\n",
    "            linecolor='white')"
   ]
  },
  {
   "cell_type": "code",
   "execution_count": null,
   "metadata": {},
   "outputs": [],
   "source": [
    "# lebih bagus heatmap correlation-nya\n",
    "plt.figure(figsize=(5, 10))\n",
    "heatmap = sns.heatmap(corrMatt[['Count']].sort_values(by='Count', ascending=False), vmin=-1, vmax=1, annot=True, cmap='BrBG')\n",
    "heatmap.set_title('Features Correlating with Rented Bike Count', fontdict={'fontsize':18}, pad=16)"
   ]
  },
  {
   "cell_type": "markdown",
   "metadata": {},
   "source": [
    "# Univariate/ Bivariate Analysis"
   ]
  },
  {
   "cell_type": "code",
   "execution_count": null,
   "metadata": {},
   "outputs": [],
   "source": [
    "plt.title(\"Hours\")\n",
    "df['Hour'].value_counts().plot(kind='pie')\n",
    "plt.show()"
   ]
  },
  {
   "cell_type": "code",
   "execution_count": null,
   "metadata": {},
   "outputs": [],
   "source": [
    "df['Year'].value_counts()"
   ]
  },
  {
   "cell_type": "code",
   "execution_count": null,
   "metadata": {},
   "outputs": [],
   "source": [
    "fig, (ax1, ax2, ax3, ax4) = plt.subplots(nrows = 4)\n",
    "fig.set_size_inches(18,25)\n",
    "\n",
    "sns.regplot(data = df, x = \"Hour\", y = \"Count\", ax = ax1)\n",
    "sns.regplot(data = df, x = \"Temp\", y = \"Count\",  ax = ax2)\n",
    "sns.regplot(data = df, x = \"WindSpeed\", y = \"Count\",  ax = ax3)\n",
    "sns.regplot(data = df, x = \"Humidity\", y = \"Count\",   ax = ax4)"
   ]
  },
  {
   "cell_type": "code",
   "execution_count": null,
   "metadata": {},
   "outputs": [],
   "source": [
    "plt.figure(figsize = (8,4))\n",
    "sns.lineplot(x = 'Month', y = 'Count', data = df, estimator = np.average, hue = 'Seasons', palette = 'coolwarm')\n",
    "plt.ylabel('Rata-rata penyewaan sepeda per musim')\n",
    "plt.show()"
   ]
  },
  {
   "cell_type": "code",
   "execution_count": null,
   "metadata": {},
   "outputs": [],
   "source": [
    "fig, axes = plt.subplots(ncols = 2, figsize = (17,7), sharey = True)\n",
    "sns.pointplot(x = 'Hour', y = 'Count', data = df, estimator = np.average, hue = 'Functioning_Day', ax = axes[0], palette = 'muted')\n",
    "sns.pointplot(x = 'Hour', y = 'Count', data = df, estimator = np.average, hue = 'Holiday', ax = axes[1], palette = 'muted')\n",
    "ax = [0,1]\n",
    "for i in ax:\n",
    "    axes[i].set(ylabel='Average Count')"
   ]
  },
  {
   "cell_type": "code",
   "execution_count": null,
   "metadata": {},
   "outputs": [],
   "source": [
    "plt.figure(figsize = (15,5))\n",
    "sns.pointplot(x = 'Hour', y = 'Count', data = df, estimator=np.average, hue = 'WeekDay', palette='coolwarm')"
   ]
  },
  {
   "cell_type": "code",
   "execution_count": null,
   "metadata": {},
   "outputs": [],
   "source": [
    "plt.figure(figsize = (15,5))\n",
    "sns.pointplot(x = 'Hour', y = 'Count', data = df, estimator=np.average, hue = 'Month', palette='coolwarm')"
   ]
  },
  {
   "cell_type": "markdown",
   "metadata": {},
   "source": [
    "# Analysis of bike rents and correlation with weather conditions"
   ]
  },
  {
   "cell_type": "markdown",
   "metadata": {},
   "source": [
    "The highest number of bike rents occur in summer while the least bike rents occur in winter. From day to day basis, the trend of bike rents is almost similar with slight peaking demands on Thursday while drops on Sunday. In monthly basis, there are two peaks occur in June and October. In hourly basis, the bike counts peak in the afternoon (from 15.00 to 20.00). There are two peak occurences, at 7.00 and at 17.00, which is most likely to be caused by workers going to office in the morning and going back home in the afternoon.\n",
    "\n",
    "Jumlah sewa sepeda tertinggi terjadi di musim panas sedangkan sewa sepeda paling sedikit terjadi di musim dingin. Dari hari ke hari, tren sewa sepeda hampir sama dengan permintaan yang sedikit memuncak pada hari Kamis dan turun pada hari Minggu. Secara bulanan, ada dua puncak yang terjadi pada bulan Juni dan Oktober. Dalam hitungan jam, sepeda menghitung puncak di sore hari (dari 15.00 hingga 20.00). Terdapat dua kejadian puncak, yaitu pada pukul 07.00 dan pukul 17.00 yang kemungkinan besar disebabkan oleh pekerja yang berangkat ke kantor pada pagi hari dan pulang pada sore hari.\n",
    "\n",
    "\n",
    "berikut pembagian musim di kota Seoul:\n",
    "* Spring (pertengahan Maret sampai akhir Mei)\n",
    "* Summer (Juni sampai Agustus)\n",
    "* Autumn (September sampai Novemberr)\n",
    "* Winter (Desember sampai pertengahan Maret)"
   ]
  },
  {
   "cell_type": "code",
   "execution_count": null,
   "metadata": {
    "execution": {
     "iopub.execute_input": "2021-12-03T03:57:46.258105Z",
     "iopub.status.busy": "2021-12-03T03:57:46.257452Z",
     "iopub.status.idle": "2021-12-03T03:57:49.586262Z",
     "shell.execute_reply": "2021-12-03T03:57:49.585229Z",
     "shell.execute_reply.started": "2021-12-03T03:57:46.258058Z"
    }
   },
   "outputs": [],
   "source": [
    "x = [['Seasons', 'Day'], ['Month', 'Hour']]\n",
    "title = [['Seasonal Bike Rents', 'Daily Bike Rents'], \n",
    "         ['Monthly Bike Rents', 'Hourly Bike Rents']]\n",
    "\n",
    "f, ax = plt.subplots(2,2,figsize=(10,6))\n",
    "\n",
    "for i in range(2):\n",
    "    for j in range(2):\n",
    "        if i==0:\n",
    "            sns.barplot(data=df, x=x[i][j], y='Count', ax=ax[i][j], palette='ch:s=-.2,r=.6')\n",
    "            if j==1:\n",
    "                sns.barplot(data=df, x=x[i][j], y='Count', ax=ax[i][j], palette='YlOrBr')\n",
    "\n",
    "        else:\n",
    "            sns.lineplot(data=df, x=x[i][j], y='Count', ax=ax[i][j])\n",
    "\n",
    "        ax[i][j].set_title(title[i][j])\n",
    "\n",
    "plt.tight_layout()"
   ]
  },
  {
   "cell_type": "markdown",
   "metadata": {},
   "source": [
    "The hourly movement of bike counts seems to correlate with temperature, visibility, windspeed, and humidity. The bike counts peak in the afternoon (from 15.00 to 20.00) where temperature is the highest, with the most visibility, windspeed, and least humidity. "
   ]
  },
  {
   "cell_type": "code",
   "execution_count": null,
   "metadata": {
    "execution": {
     "iopub.execute_input": "2021-12-03T03:57:09.49295Z",
     "iopub.status.busy": "2021-12-03T03:57:09.492326Z",
     "iopub.status.idle": "2021-12-03T03:57:16.322339Z",
     "shell.execute_reply": "2021-12-03T03:57:16.321187Z",
     "shell.execute_reply.started": "2021-12-03T03:57:09.492909Z"
    }
   },
   "outputs": [],
   "source": [
    "y = [['Count', 'Temp'], ['Visibility', 'WindSpeed'], ['SolarRad', 'Humidity']]\n",
    "title = [['Bike Counts', 'Temperature [°C]'], ['Visibility [10 m]', 'Wind Speed [m/s]'], \n",
    "         ['Solar Radiation [MJ/m2]', 'Humidity [%]']]\n",
    "\n",
    "f, ax = plt.subplots(3,2,figsize=(11,9))\n",
    "\n",
    "for i in range(3):\n",
    "    for j in range(2):\n",
    "        sns.lineplot(data=df, x='Hour', y=y[i][j], ax=ax[i][j], color='y')\n",
    "        ax[i][j].set_title(title[i][j])\n",
    "\n",
    "plt.tight_layout()"
   ]
  },
  {
   "cell_type": "markdown",
   "metadata": {},
   "source": [
    "The monthly movement of bike counts seems only to correlate with temperature. The movement of snowfall correlates with season i.e. high snowfall from January to March during winter season. However, there is a bizarre drop of rainfall in July. It seems there is no rain during the occassionally rainy season in July. "
   ]
  },
  {
   "cell_type": "code",
   "execution_count": null,
   "metadata": {
    "execution": {
     "iopub.execute_input": "2021-12-03T03:58:08.173984Z",
     "iopub.status.busy": "2021-12-03T03:58:08.173703Z",
     "iopub.status.idle": "2021-12-03T03:58:12.410658Z",
     "shell.execute_reply": "2021-12-03T03:58:12.409889Z",
     "shell.execute_reply.started": "2021-12-03T03:58:08.173952Z"
    }
   },
   "outputs": [],
   "source": [
    "y = [['Count', 'Temp'], ['Visibility', 'WindSpeed'], ['Snowfall', 'Rainfall']]\n",
    "title = [['Bike Counts', 'Temperature [°C]'], ['Visibility [10 m]', 'Wind Speed [m/s]'], \n",
    "         ['Snowfall [cm]', 'Rainfall [mm]']]\n",
    "\n",
    "f, ax = plt.subplots(3,2,figsize=(11,9))\n",
    "\n",
    "for i in range(3):\n",
    "    for j in range(2):\n",
    "        sns.lineplot(data=df, x='Month', y=y[i][j], ax=ax[i][j], color='green')\n",
    "        ax[i][j].set_title(title[i][j])\n",
    "\n",
    "plt.tight_layout()        "
   ]
  },
  {
   "cell_type": "markdown",
   "metadata": {},
   "source": [
    "The seasonal movement of bike counts correlates very well with temperature, solar radiation, and humidity. The highest count of rented bikes occurs in summer, while the least occurs in winter."
   ]
  },
  {
   "cell_type": "code",
   "execution_count": null,
   "metadata": {
    "execution": {
     "iopub.execute_input": "2021-12-03T03:55:17.186038Z",
     "iopub.status.busy": "2021-12-03T03:55:17.185726Z",
     "iopub.status.idle": "2021-12-03T03:55:19.673337Z",
     "shell.execute_reply": "2021-12-03T03:55:19.672387Z",
     "shell.execute_reply.started": "2021-12-03T03:55:17.186004Z"
    }
   },
   "outputs": [],
   "source": [
    "y = [['Count', 'Temp'], ['Rainfall', 'Snowfall'], ['SolarRad', 'Humidity']]\n",
    "title = [['Bike Counts', 'Temperature [°C]'], ['Rainfall [mm]', 'Snowfall [cm]'], \n",
    "         ['Solar Radiation [MJ/m2]', 'Humidity [%]']]\n",
    "\n",
    "f, ax = plt.subplots(3,2,figsize=(9,9))\n",
    "\n",
    "for i in range(3):\n",
    "    for j in range(2):\n",
    "        sns.barplot(data=df, x='Seasons', y=y[i][j], ax=ax[i][j], palette='RdBu')\n",
    "        ax[i][j].set_title(title[i][j])\n",
    "\n",
    "plt.tight_layout()        "
   ]
  },
  {
   "cell_type": "markdown",
   "metadata": {},
   "source": [
    "# When does bike rents sharing facility not function?"
   ]
  },
  {
   "cell_type": "markdown",
   "metadata": {},
   "source": [
    "* In autumn, there are 24 records when that day is holiday but not functioning and 223 records when that day is a work day but not functioning\n",
    "* In spring, there are 48 records when that day is work day but not functioning\n",
    "\n",
    "In conclusion, the bike rents do not function on some days in autumn and spring."
   ]
  },
  {
   "cell_type": "code",
   "execution_count": null,
   "metadata": {
    "execution": {
     "iopub.execute_input": "2021-12-03T03:56:26.530964Z",
     "iopub.status.busy": "2021-12-03T03:56:26.53015Z",
     "iopub.status.idle": "2021-12-03T03:56:26.597131Z",
     "shell.execute_reply": "2021-12-03T03:56:26.596432Z",
     "shell.execute_reply.started": "2021-12-03T03:56:26.53093Z"
    }
   },
   "outputs": [],
   "source": [
    "pd.pivot_table(df, index=['Holiday', 'Functioning Day'], columns='Seasons', values='Count',\n",
    "               aggfunc=lambda x: len(x), margins=True, margins_name='TOTAL')"
   ]
  },
  {
   "cell_type": "markdown",
   "metadata": {},
   "source": [
    "# Is there a day when the bike share is temporarily down or not functioning?"
   ]
  },
  {
   "cell_type": "code",
   "execution_count": null,
   "metadata": {
    "execution": {
     "iopub.execute_input": "2021-12-03T03:56:26.599064Z",
     "iopub.status.busy": "2021-12-03T03:56:26.59884Z",
     "iopub.status.idle": "2021-12-03T03:56:26.610275Z",
     "shell.execute_reply": "2021-12-03T03:56:26.609449Z",
     "shell.execute_reply.started": "2021-12-03T03:56:26.599035Z"
    }
   },
   "outputs": [],
   "source": [
    "dates = df[(df.Holiday=='No') & (df.Functioning Day=='No')].Date.dt.date.unique()\n",
    "\n",
    "dates"
   ]
  },
  {
   "cell_type": "code",
   "execution_count": null,
   "metadata": {},
   "outputs": [],
   "source": [
    "df.sample()"
   ]
  },
  {
   "cell_type": "code",
   "execution_count": null,
   "metadata": {},
   "outputs": [],
   "source": [
    "df['Functioning_Day'].nunique()"
   ]
  },
  {
   "cell_type": "markdown",
   "metadata": {},
   "source": [
    "It was found that on 10 June 2018, the bike share facility did not function temporarily from 00.00 midnight to 10.00 in the morning."
   ]
  },
  {
   "cell_type": "code",
   "execution_count": null,
   "metadata": {
    "execution": {
     "iopub.execute_input": "2021-12-03T03:56:26.611889Z",
     "iopub.status.busy": "2021-12-03T03:56:26.611672Z",
     "iopub.status.idle": "2021-12-03T03:56:26.926446Z",
     "shell.execute_reply": "2021-12-03T03:56:26.925514Z",
     "shell.execute_reply.started": "2021-12-03T03:56:26.611861Z"
    }
   },
   "outputs": [],
   "source": [
    "# Special occasion when the bike share not functioning temporarily\n",
    "print(dates[3])\n",
    "\n",
    "df[df.Date.dt.date==dates[3]].plot(x='Date', y='Count')"
   ]
  },
  {
   "cell_type": "markdown",
   "metadata": {},
   "source": [
    "Surprisingly on holidays, the bike share facility is working. The listed dates when holiday below are in fact public holidays in Korea, for example Korean New Year on 15-17 February 2018, Buddha's birthday on 22 March 2018, and Chuseok on 23-25 September. Except on 10 March 2018, when it was the same date of South Korea and North Korea presidential meeting with US President Donald Trump."
   ]
  },
  {
   "cell_type": "code",
   "execution_count": null,
   "metadata": {
    "execution": {
     "iopub.execute_input": "2021-12-03T03:56:26.928773Z",
     "iopub.status.busy": "2021-12-03T03:56:26.927867Z",
     "iopub.status.idle": "2021-12-03T03:56:26.940531Z",
     "shell.execute_reply": "2021-12-03T03:56:26.939567Z",
     "shell.execute_reply.started": "2021-12-03T03:56:26.928731Z"
    }
   },
   "outputs": [],
   "source": [
    "# On public holidays it keeps operating\n",
    "df[(df.Holiday==\"Yes\") & (df.Functioning Day==\"Yes\")].Date.dt.date.unique()"
   ]
  },
  {
   "cell_type": "code",
   "execution_count": null,
   "metadata": {},
   "outputs": [],
   "source": [
    "#Histogram for Windspeed\n",
    "sns.set_style('whitegrid')\n",
    "sns.distplot(df['WindSpeed'], bins = 100, color = 'blue') #Windspeed cannot be 0.\n",
    "plt.show()"
   ]
  },
  {
   "cell_type": "code",
   "execution_count": null,
   "metadata": {},
   "outputs": [],
   "source": [
    "#Replacing 0s in windspeed with the mean value grouped by season\n",
    "#df['WindSpeed'] = df['WindSpeed'].replace(0, np.nan)\n",
    "#df['WindSpeed'] = df['WindSpeed'].fillna(df.groupby('SolarRad')['Seasons'].transform('mean'))\n",
    "#sns.distplot(df['WindSpeed'], bins = 100, color = 'red')\n",
    "#plt.show()"
   ]
  },
  {
   "cell_type": "code",
   "execution_count": null,
   "metadata": {},
   "outputs": [],
   "source": [
    "sns.jointplot(x = 'Temp', y = 'Count', data = df, kind = 'kde', cmap = 'plasma')\n",
    "plt.show()"
   ]
  },
  {
   "cell_type": "code",
   "execution_count": null,
   "metadata": {},
   "outputs": [],
   "source": [
    "#list_var_kategori = [\"Seasons\",\"Holiday\",\"Functioning Day\",\"Day\",\"Month\",\"Year\"]\n",
    "#for var in list_var_kategori:\n",
    "#    df[var] = df[var].astype(\"category\")"
   ]
  },
  {
   "cell_type": "markdown",
   "metadata": {},
   "source": [
    "# DARI SINI MASALAHNYA KAK :)\n",
    "## Melakukan encoding"
   ]
  },
  {
   "cell_type": "code",
   "execution_count": 12,
   "metadata": {},
   "outputs": [],
   "source": [
    "df['Date']=pd.to_datetime(df['Date'])\n",
    "df['Year']=df['Date'].dt.year\n",
    "df['Month']=df['Date'].dt.month\n",
    "df['Day']=df['Date'].dt.day\n",
    "df['WeekDay']=df['Date'].dt.day_name()"
   ]
  },
  {
   "cell_type": "code",
   "execution_count": 13,
   "metadata": {},
   "outputs": [],
   "source": [
    "df = pd.get_dummies(df, columns = ['Seasons','Holiday','Functioning Day','Month','Year','WeekDay'],drop_first=True)\n",
    "#df = pd.get_dummies(df, columns = ['Month','Year'], prefix=True)"
   ]
  },
  {
   "cell_type": "code",
   "execution_count": 14,
   "metadata": {},
   "outputs": [
    {
     "name": "stdout",
     "output_type": "stream",
     "text": [
      "<class 'pandas.core.frame.DataFrame'>\n",
      "Int64Index: 8760 entries, 0 to 8759\n",
      "Data columns (total 35 columns):\n",
      " #   Column               Non-Null Count  Dtype         \n",
      "---  ------               --------------  -----         \n",
      " 0   Date                 8760 non-null   datetime64[ns]\n",
      " 1   Count                8760 non-null   int64         \n",
      " 2   Hour                 8760 non-null   int64         \n",
      " 3   Temp                 8760 non-null   float64       \n",
      " 4   Humidity             8760 non-null   int64         \n",
      " 5   WindSpeed            8760 non-null   float64       \n",
      " 6   Visibility           8760 non-null   int64         \n",
      " 7   DewTemp              8760 non-null   float64       \n",
      " 8   SolarRad             8760 non-null   float64       \n",
      " 9   Rainfall             8760 non-null   float64       \n",
      " 10  Snowfall             8760 non-null   float64       \n",
      " 11  Day                  8760 non-null   int64         \n",
      " 12  Seasons_Spring       8760 non-null   uint8         \n",
      " 13  Seasons_Summer       8760 non-null   uint8         \n",
      " 14  Seasons_Winter       8760 non-null   uint8         \n",
      " 15  Holiday_No Holiday   8760 non-null   uint8         \n",
      " 16  Functioning Day_Yes  8760 non-null   uint8         \n",
      " 17  Month_2              8760 non-null   uint8         \n",
      " 18  Month_3              8760 non-null   uint8         \n",
      " 19  Month_4              8760 non-null   uint8         \n",
      " 20  Month_5              8760 non-null   uint8         \n",
      " 21  Month_6              8760 non-null   uint8         \n",
      " 22  Month_7              8760 non-null   uint8         \n",
      " 23  Month_8              8760 non-null   uint8         \n",
      " 24  Month_9              8760 non-null   uint8         \n",
      " 25  Month_10             8760 non-null   uint8         \n",
      " 26  Month_11             8760 non-null   uint8         \n",
      " 27  Month_12             8760 non-null   uint8         \n",
      " 28  Year_2018            8760 non-null   uint8         \n",
      " 29  WeekDay_Monday       8760 non-null   uint8         \n",
      " 30  WeekDay_Saturday     8760 non-null   uint8         \n",
      " 31  WeekDay_Sunday       8760 non-null   uint8         \n",
      " 32  WeekDay_Thursday     8760 non-null   uint8         \n",
      " 33  WeekDay_Tuesday      8760 non-null   uint8         \n",
      " 34  WeekDay_Wednesday    8760 non-null   uint8         \n",
      "dtypes: datetime64[ns](1), float64(6), int64(5), uint8(23)\n",
      "memory usage: 1.1 MB\n"
     ]
    }
   ],
   "source": [
    "df.info()"
   ]
  },
  {
   "cell_type": "code",
   "execution_count": null,
   "metadata": {},
   "outputs": [],
   "source": [
    "# Convert to 'category' data type/coercing into categorical variable\n",
    "\n",
    "#df['Seasons']=df['Seasons'].astype('category')\n",
    "#df['Holiday']=df['Holiday'].astype('category')\n",
    "#df['Functioning Day']=df['Functioning Day'].astype('category')\n",
    "#df['Day']=df['Day'].astype('category')\n",
    "#df['Month']=df['Month'].astype('category')\n",
    "#df['Year']=df['Year'].astype('category')\n",
    "#df['WeekDay']=df['WeekDay'].astype('category')\n",
    "\n",
    "#Converting the Date column in Datetime Dtype\n",
    "#df['Date']=pd.to_datetime(df['Date'])\n",
    "\n",
    "#Breaking Down the Date into 3 Components\n",
    "#df['Day']=df['Date'].dt.day\n",
    "#df['Month']=df['Date'].dt.month\n",
    "#df['Year']=df['Date'].dt.year\n",
    "#df['WeekDay']=df['Date'].dt.day_name()"
   ]
  },
  {
   "cell_type": "code",
   "execution_count": 15,
   "metadata": {},
   "outputs": [],
   "source": [
    "# karena sudah diekstrak, kolom Date bisa dihapus\n",
    "df.drop('Date',axis = 1, inplace = True) "
   ]
  },
  {
   "cell_type": "code",
   "execution_count": null,
   "metadata": {},
   "outputs": [],
   "source": [
    "# This code does 3 things:\n",
    "# 1) Create Dummy variable\n",
    "# 2) Drop original variable for which the dummy was created\n",
    "# 3) Drop first dummy variable for each set of dummies created.\n",
    "\n",
    "#df_new = pd.get_dummies(df, drop_first=True)\n",
    "#df_new.info()"
   ]
  },
  {
   "cell_type": "code",
   "execution_count": null,
   "metadata": {},
   "outputs": [],
   "source": [
    "#df_new.head()\n",
    "# ada 36 kolom"
   ]
  },
  {
   "cell_type": "markdown",
   "metadata": {},
   "source": [
    "As the target variable is a highly skewed data, we will try to transform this data using either log, square-root or box-cox transformation. After trying out all three, log square gives the best result. Also as the evaluation metric is RMSLE, using log would help as it would allow to less penalize the large difference in final variable values."
   ]
  },
  {
   "cell_type": "code",
   "execution_count": 17,
   "metadata": {},
   "outputs": [],
   "source": [
    "df.drop('Day', axis = 1, inplace = True) "
   ]
  },
  {
   "cell_type": "markdown",
   "metadata": {},
   "source": [
    "## Step 5: Splitting the Data into Training and Testing Sets"
   ]
  },
  {
   "cell_type": "code",
   "execution_count": 18,
   "metadata": {},
   "outputs": [],
   "source": [
    "from sklearn.model_selection import train_test_split\n",
    "\n",
    "np.random.seed(0)\n",
    "df_train, df_test = train_test_split(df, train_size = 0.7, test_size = 0.3, random_state = 100)"
   ]
  },
  {
   "cell_type": "markdown",
   "metadata": {},
   "source": [
    "### Rescaling the Features"
   ]
  },
  {
   "cell_type": "code",
   "execution_count": 19,
   "metadata": {},
   "outputs": [],
   "source": [
    "from sklearn.preprocessing import StandardScaler\n",
    "scaler= StandardScaler()"
   ]
  },
  {
   "cell_type": "code",
   "execution_count": 20,
   "metadata": {},
   "outputs": [],
   "source": [
    "# Apply scaler() to all the columns except the'dummy' variables.\n",
    "\n",
    "num_vars=['Temp', 'Humidity','WindSpeed', 'Visibility', 'SolarRad','Rainfall','Snowfall','Count']\n",
    "\n",
    "df_train[num_vars]= scaler.fit_transform(df_train[num_vars])"
   ]
  },
  {
   "cell_type": "code",
   "execution_count": 21,
   "metadata": {},
   "outputs": [
    {
     "data": {
      "text/plain": [
       "<matplotlib.collections.PathCollection at 0x1dca5e8f310>"
      ]
     },
     "execution_count": 21,
     "metadata": {},
     "output_type": "execute_result"
    },
    {
     "data": {
      "image/png": "[encoded data removed]",
      "text/plain": [
       "<Figure size 432x288 with 1 Axes>"
      ]
     },
     "metadata": {
      "needs_background": "light"
     },
     "output_type": "display_data"
    }
   ],
   "source": [
    "plt.scatter('Temp','Count',data=df_train)"
   ]
  },
  {
   "cell_type": "markdown",
   "metadata": {},
   "source": [
    "### Dividing into X and Y sets for the model building"
   ]
  },
  {
   "cell_type": "code",
   "execution_count": 22,
   "metadata": {},
   "outputs": [],
   "source": [
    "y_train = df_train.pop('Count')\n",
    "X_train = df_train"
   ]
  },
  {
   "cell_type": "code",
   "execution_count": 23,
   "metadata": {},
   "outputs": [
    {
     "data": {
      "text/html": [
       "<div>\n",
       "<style scoped>\n",
       "    .dataframe tbody tr th:only-of-type {\n",
       "        vertical-align: middle;\n",
       "    }\n",
       "\n",
       "    .dataframe tbody tr th {\n",
       "        vertical-align: top;\n",
       "    }\n",
       "\n",
       "    .dataframe thead th {\n",
       "        text-align: right;\n",
       "    }\n",
       "</style>\n",
       "<table border=\"1\" class=\"dataframe\">\n",
       "  <thead>\n",
       "    <tr style=\"text-align: right;\">\n",
       "      <th></th>\n",
       "      <th>Hour</th>\n",
       "      <th>Temp</th>\n",
       "      <th>Humidity</th>\n",
       "      <th>WindSpeed</th>\n",
       "      <th>Visibility</th>\n",
       "      <th>DewTemp</th>\n",
       "      <th>SolarRad</th>\n",
       "      <th>Rainfall</th>\n",
       "      <th>Snowfall</th>\n",
       "      <th>Seasons_Spring</th>\n",
       "      <th>...</th>\n",
       "      <th>Month_10</th>\n",
       "      <th>Month_11</th>\n",
       "      <th>Month_12</th>\n",
       "      <th>Year_2018</th>\n",
       "      <th>WeekDay_Monday</th>\n",
       "      <th>WeekDay_Saturday</th>\n",
       "      <th>WeekDay_Sunday</th>\n",
       "      <th>WeekDay_Thursday</th>\n",
       "      <th>WeekDay_Tuesday</th>\n",
       "      <th>WeekDay_Wednesday</th>\n",
       "    </tr>\n",
       "  </thead>\n",
       "  <tbody>\n",
       "    <tr>\n",
       "      <th>5584</th>\n",
       "      <td>16</td>\n",
       "      <td>2.000319</td>\n",
       "      <td>-1.378583</td>\n",
       "      <td>1.036599</td>\n",
       "      <td>0.523850</td>\n",
       "      <td>16.3</td>\n",
       "      <td>2.099460</td>\n",
       "      <td>-0.126892</td>\n",
       "      <td>-0.171549</td>\n",
       "      <td>0</td>\n",
       "      <td>...</td>\n",
       "      <td>0</td>\n",
       "      <td>0</td>\n",
       "      <td>0</td>\n",
       "      <td>1</td>\n",
       "      <td>0</td>\n",
       "      <td>1</td>\n",
       "      <td>0</td>\n",
       "      <td>0</td>\n",
       "      <td>0</td>\n",
       "      <td>0</td>\n",
       "    </tr>\n",
       "    <tr>\n",
       "      <th>5308</th>\n",
       "      <td>4</td>\n",
       "      <td>0.643583</td>\n",
       "      <td>1.911145</td>\n",
       "      <td>-1.192842</td>\n",
       "      <td>0.908334</td>\n",
       "      <td>20.1</td>\n",
       "      <td>-0.654804</td>\n",
       "      <td>-0.126892</td>\n",
       "      <td>-0.171549</td>\n",
       "      <td>0</td>\n",
       "      <td>...</td>\n",
       "      <td>1</td>\n",
       "      <td>0</td>\n",
       "      <td>0</td>\n",
       "      <td>1</td>\n",
       "      <td>0</td>\n",
       "      <td>0</td>\n",
       "      <td>1</td>\n",
       "      <td>0</td>\n",
       "      <td>0</td>\n",
       "      <td>0</td>\n",
       "    </tr>\n",
       "    <tr>\n",
       "      <th>5446</th>\n",
       "      <td>22</td>\n",
       "      <td>1.221452</td>\n",
       "      <td>0.929137</td>\n",
       "      <td>-0.805113</td>\n",
       "      <td>0.560153</td>\n",
       "      <td>23.0</td>\n",
       "      <td>-0.654804</td>\n",
       "      <td>-0.126892</td>\n",
       "      <td>-0.171549</td>\n",
       "      <td>0</td>\n",
       "      <td>...</td>\n",
       "      <td>0</td>\n",
       "      <td>0</td>\n",
       "      <td>0</td>\n",
       "      <td>1</td>\n",
       "      <td>0</td>\n",
       "      <td>0</td>\n",
       "      <td>1</td>\n",
       "      <td>0</td>\n",
       "      <td>0</td>\n",
       "      <td>0</td>\n",
       "    </tr>\n",
       "    <tr>\n",
       "      <th>7554</th>\n",
       "      <td>18</td>\n",
       "      <td>-0.068284</td>\n",
       "      <td>-0.887579</td>\n",
       "      <td>0.648871</td>\n",
       "      <td>0.685564</td>\n",
       "      <td>-1.1</td>\n",
       "      <td>-0.449092</td>\n",
       "      <td>-0.126892</td>\n",
       "      <td>-0.171549</td>\n",
       "      <td>0</td>\n",
       "      <td>...</td>\n",
       "      <td>0</td>\n",
       "      <td>1</td>\n",
       "      <td>0</td>\n",
       "      <td>1</td>\n",
       "      <td>0</td>\n",
       "      <td>1</td>\n",
       "      <td>0</td>\n",
       "      <td>0</td>\n",
       "      <td>0</td>\n",
       "      <td>0</td>\n",
       "    </tr>\n",
       "    <tr>\n",
       "      <th>3290</th>\n",
       "      <td>2</td>\n",
       "      <td>-0.378156</td>\n",
       "      <td>-0.642077</td>\n",
       "      <td>-0.805113</td>\n",
       "      <td>0.905033</td>\n",
       "      <td>-2.8</td>\n",
       "      <td>-0.654804</td>\n",
       "      <td>-0.126892</td>\n",
       "      <td>-0.171549</td>\n",
       "      <td>1</td>\n",
       "      <td>...</td>\n",
       "      <td>0</td>\n",
       "      <td>0</td>\n",
       "      <td>0</td>\n",
       "      <td>1</td>\n",
       "      <td>0</td>\n",
       "      <td>0</td>\n",
       "      <td>0</td>\n",
       "      <td>0</td>\n",
       "      <td>1</td>\n",
       "      <td>0</td>\n",
       "    </tr>\n",
       "  </tbody>\n",
       "</table>\n",
       "<p>5 rows × 32 columns</p>\n",
       "</div>"
      ],
      "text/plain": [
       "      Hour      Temp  Humidity  WindSpeed  Visibility  DewTemp  SolarRad  \\\n",
       "5584    16  2.000319 -1.378583   1.036599    0.523850     16.3  2.099460   \n",
       "5308     4  0.643583  1.911145  -1.192842    0.908334     20.1 -0.654804   \n",
       "5446    22  1.221452  0.929137  -0.805113    0.560153     23.0 -0.654804   \n",
       "7554    18 -0.068284 -0.887579   0.648871    0.685564     -1.1 -0.449092   \n",
       "3290     2 -0.378156 -0.642077  -0.805113    0.905033     -2.8 -0.654804   \n",
       "\n",
       "      Rainfall  Snowfall  Seasons_Spring  ...  Month_10  Month_11  Month_12  \\\n",
       "5584 -0.126892 -0.171549               0  ...         0         0         0   \n",
       "5308 -0.126892 -0.171549               0  ...         1         0         0   \n",
       "5446 -0.126892 -0.171549               0  ...         0         0         0   \n",
       "7554 -0.126892 -0.171549               0  ...         0         1         0   \n",
       "3290 -0.126892 -0.171549               1  ...         0         0         0   \n",
       "\n",
       "      Year_2018  WeekDay_Monday  WeekDay_Saturday  WeekDay_Sunday  \\\n",
       "5584          1               0                 1               0   \n",
       "5308          1               0                 0               1   \n",
       "5446          1               0                 0               1   \n",
       "7554          1               0                 1               0   \n",
       "3290          1               0                 0               0   \n",
       "\n",
       "      WeekDay_Thursday  WeekDay_Tuesday  WeekDay_Wednesday  \n",
       "5584                 0                0                  0  \n",
       "5308                 0                0                  0  \n",
       "5446                 0                0                  0  \n",
       "7554                 0                0                  0  \n",
       "3290                 0                1                  0  \n",
       "\n",
       "[5 rows x 32 columns]"
      ]
     },
     "execution_count": 23,
     "metadata": {},
     "output_type": "execute_result"
    }
   ],
   "source": [
    "X_train.head()"
   ]
  },
  {
   "cell_type": "markdown",
   "metadata": {},
   "source": [
    "## Step 6: Building a linear model"
   ]
  },
  {
   "cell_type": "markdown",
   "metadata": {},
   "source": [
    "### Using Recursive feature elimination(RFE) for automated Feature Selection approach"
   ]
  },
  {
   "cell_type": "code",
   "execution_count": 24,
   "metadata": {},
   "outputs": [],
   "source": [
    "# Importing RFE and LinearRegression\n",
    "from sklearn.feature_selection import RFE\n",
    "from sklearn.linear_model import LinearRegression"
   ]
  },
  {
   "cell_type": "code",
   "execution_count": null,
   "metadata": {},
   "outputs": [],
   "source": [
    "# menghapus NaN value pada X_train\n",
    "#X_train = X_train.dropna( how='any',\n",
    "                    #subset=None)\n",
    "X_train = X_train.fillna(lambda x: x.median())"
   ]
  },
  {
   "cell_type": "code",
   "execution_count": 25,
   "metadata": {},
   "outputs": [
    {
     "name": "stdout",
     "output_type": "stream",
     "text": [
      "<class 'pandas.core.frame.DataFrame'>\n",
      "Int64Index: 6132 entries, 5584 to 5640\n",
      "Data columns (total 32 columns):\n",
      " #   Column               Non-Null Count  Dtype  \n",
      "---  ------               --------------  -----  \n",
      " 0   Hour                 6132 non-null   int64  \n",
      " 1   Temp                 6132 non-null   float64\n",
      " 2   Humidity             6132 non-null   float64\n",
      " 3   WindSpeed            6132 non-null   float64\n",
      " 4   Visibility           6132 non-null   float64\n",
      " 5   DewTemp              6132 non-null   float64\n",
      " 6   SolarRad             6132 non-null   float64\n",
      " 7   Rainfall             6132 non-null   float64\n",
      " 8   Snowfall             6132 non-null   float64\n",
      " 9   Seasons_Spring       6132 non-null   uint8  \n",
      " 10  Seasons_Summer       6132 non-null   uint8  \n",
      " 11  Seasons_Winter       6132 non-null   uint8  \n",
      " 12  Holiday_No Holiday   6132 non-null   uint8  \n",
      " 13  Functioning Day_Yes  6132 non-null   uint8  \n",
      " 14  Month_2              6132 non-null   uint8  \n",
      " 15  Month_3              6132 non-null   uint8  \n",
      " 16  Month_4              6132 non-null   uint8  \n",
      " 17  Month_5              6132 non-null   uint8  \n",
      " 18  Month_6              6132 non-null   uint8  \n",
      " 19  Month_7              6132 non-null   uint8  \n",
      " 20  Month_8              6132 non-null   uint8  \n",
      " 21  Month_9              6132 non-null   uint8  \n",
      " 22  Month_10             6132 non-null   uint8  \n",
      " 23  Month_11             6132 non-null   uint8  \n",
      " 24  Month_12             6132 non-null   uint8  \n",
      " 25  Year_2018            6132 non-null   uint8  \n",
      " 26  WeekDay_Monday       6132 non-null   uint8  \n",
      " 27  WeekDay_Saturday     6132 non-null   uint8  \n",
      " 28  WeekDay_Sunday       6132 non-null   uint8  \n",
      " 29  WeekDay_Thursday     6132 non-null   uint8  \n",
      " 30  WeekDay_Tuesday      6132 non-null   uint8  \n",
      " 31  WeekDay_Wednesday    6132 non-null   uint8  \n",
      "dtypes: float64(8), int64(1), uint8(23)\n",
      "memory usage: 616.8 KB\n"
     ]
    }
   ],
   "source": [
    "X_train.info()"
   ]
  },
  {
   "cell_type": "code",
   "execution_count": null,
   "metadata": {},
   "outputs": [],
   "source": [
    "# mengubah tipe kolom dari float menjadi integer\n",
    "## ga usah karena kan udh di transform\n",
    "#cols = ['Day', 'Month','Year','Hour','Humidity','Visibility']\n",
    "#X_train[cols] = X_train[cols].applymap(np.int64)"
   ]
  },
  {
   "cell_type": "markdown",
   "metadata": {},
   "source": [
    "# SAMA DISINI"
   ]
  },
  {
   "cell_type": "code",
   "execution_count": 34,
   "metadata": {},
   "outputs": [],
   "source": [
    "# Running RFE with the output number of the variable equal to 10\n",
    "\n",
    "lm = LinearRegression()\n",
    "lm.fit(X_train, y_train)\n",
    "\n",
    "rfe = RFE(estimator=lm,n_features_to_select=15) # running RFE\n",
    "rfe = rfe.fit(X_train, y_train)"
   ]
  },
  {
   "cell_type": "code",
   "execution_count": 35,
   "metadata": {},
   "outputs": [
    {
     "data": {
      "text/plain": [
       "[('Hour', False, 8),\n",
       " ('Temp', True, 1),\n",
       " ('Humidity', True, 1),\n",
       " ('WindSpeed', False, 10),\n",
       " ('Visibility', False, 13),\n",
       " ('DewTemp', False, 15),\n",
       " ('SolarRad', True, 1),\n",
       " ('Rainfall', True, 1),\n",
       " ('Snowfall', False, 14),\n",
       " ('Seasons_Spring', True, 1),\n",
       " ('Seasons_Summer', True, 1),\n",
       " ('Seasons_Winter', True, 1),\n",
       " ('Holiday_No Holiday', True, 1),\n",
       " ('Functioning Day_Yes', True, 1),\n",
       " ('Month_2', True, 1),\n",
       " ('Month_3', False, 6),\n",
       " ('Month_4', False, 16),\n",
       " ('Month_5', True, 1),\n",
       " ('Month_6', True, 1),\n",
       " ('Month_7', False, 3),\n",
       " ('Month_8', False, 5),\n",
       " ('Month_9', False, 4),\n",
       " ('Month_10', True, 1),\n",
       " ('Month_11', False, 7),\n",
       " ('Month_12', False, 9),\n",
       " ('Year_2018', True, 1),\n",
       " ('WeekDay_Monday', False, 18),\n",
       " ('WeekDay_Saturday', False, 11),\n",
       " ('WeekDay_Sunday', True, 1),\n",
       " ('WeekDay_Thursday', False, 12),\n",
       " ('WeekDay_Tuesday', False, 2),\n",
       " ('WeekDay_Wednesday', False, 17)]"
      ]
     },
     "execution_count": 35,
     "metadata": {},
     "output_type": "execute_result"
    }
   ],
   "source": [
    "list(zip(X_train.columns,rfe.support_,rfe.ranking_))"
   ]
  },
  {
   "cell_type": "code",
   "execution_count": 36,
   "metadata": {},
   "outputs": [
    {
     "data": {
      "text/plain": [
       "Index(['Temp', 'Humidity', 'SolarRad', 'Rainfall', 'Seasons_Spring',\n",
       "       'Seasons_Summer', 'Seasons_Winter', 'Holiday_No Holiday',\n",
       "       'Functioning Day_Yes', 'Month_2', 'Month_5', 'Month_6', 'Month_10',\n",
       "       'Year_2018', 'WeekDay_Sunday'],\n",
       "      dtype='object')"
      ]
     },
     "execution_count": 36,
     "metadata": {},
     "output_type": "execute_result"
    }
   ],
   "source": [
    "col = X_train.columns[rfe.support_]\n",
    "col"
   ]
  },
  {
   "cell_type": "code",
   "execution_count": 37,
   "metadata": {},
   "outputs": [],
   "source": [
    "# Creating X_test dataframe with RFE selected variables\n",
    "X_train_rfe = X_train[col]"
   ]
  },
  {
   "cell_type": "code",
   "execution_count": 38,
   "metadata": {},
   "outputs": [
    {
     "name": "stderr",
     "output_type": "stream",
     "text": [
      "C:\\Users\\ASUS\\anaconda3\\lib\\site-packages\\statsmodels\\tsa\\tsatools.py:142: FutureWarning: In a future version of pandas all arguments of concat except for the argument 'objs' will be keyword-only\n",
      "  x = pd.concat(x[::order], 1)\n"
     ]
    }
   ],
   "source": [
    "# Adding a constant variable \n",
    "import statsmodels.api as sm  \n",
    "X_train_rfe = sm.add_constant(X_train_rfe)"
   ]
  },
  {
   "cell_type": "code",
   "execution_count": 39,
   "metadata": {},
   "outputs": [],
   "source": [
    "lm = sm.OLS(y_train,X_train_rfe).fit()   # Running the linear model"
   ]
  },
  {
   "cell_type": "code",
   "execution_count": 40,
   "metadata": {},
   "outputs": [
    {
     "data": {
      "text/html": [
       "<table class=\"simpletable\">\n",
       "<caption>OLS Regression Results</caption>\n",
       "<tr>\n",
       "  <th>Dep. Variable:</th>          <td>Count</td>      <th>  R-squared:         </th> <td>   0.483</td> \n",
       "</tr>\n",
       "<tr>\n",
       "  <th>Model:</th>                   <td>OLS</td>       <th>  Adj. R-squared:    </th> <td>   0.482</td> \n",
       "</tr>\n",
       "<tr>\n",
       "  <th>Method:</th>             <td>Least Squares</td>  <th>  F-statistic:       </th> <td>   380.8</td> \n",
       "</tr>\n",
       "<tr>\n",
       "  <th>Date:</th>             <td>Fri, 20 May 2022</td> <th>  Prob (F-statistic):</th>  <td>  0.00</td>  \n",
       "</tr>\n",
       "<tr>\n",
       "  <th>Time:</th>                 <td>21:38:00</td>     <th>  Log-Likelihood:    </th> <td> -6678.8</td> \n",
       "</tr>\n",
       "<tr>\n",
       "  <th>No. Observations:</th>      <td>  6132</td>      <th>  AIC:               </th> <td>1.339e+04</td>\n",
       "</tr>\n",
       "<tr>\n",
       "  <th>Df Residuals:</th>          <td>  6116</td>      <th>  BIC:               </th> <td>1.350e+04</td>\n",
       "</tr>\n",
       "<tr>\n",
       "  <th>Df Model:</th>              <td>    15</td>      <th>                     </th>     <td> </td>    \n",
       "</tr>\n",
       "<tr>\n",
       "  <th>Covariance Type:</th>      <td>nonrobust</td>    <th>                     </th>     <td> </td>    \n",
       "</tr>\n",
       "</table>\n",
       "<table class=\"simpletable\">\n",
       "<tr>\n",
       "           <td></td>              <th>coef</th>     <th>std err</th>      <th>t</th>      <th>P>|t|</th>  <th>[0.025</th>    <th>0.975]</th>  \n",
       "</tr>\n",
       "<tr>\n",
       "  <th>const</th>               <td>   -1.3019</td> <td>    0.076</td> <td>  -17.043</td> <td> 0.000</td> <td>   -1.452</td> <td>   -1.152</td>\n",
       "</tr>\n",
       "<tr>\n",
       "  <th>Temp</th>                <td>    0.6573</td> <td>    0.021</td> <td>   31.591</td> <td> 0.000</td> <td>    0.616</td> <td>    0.698</td>\n",
       "</tr>\n",
       "<tr>\n",
       "  <th>Humidity</th>            <td>   -0.3667</td> <td>    0.012</td> <td>  -31.027</td> <td> 0.000</td> <td>   -0.390</td> <td>   -0.344</td>\n",
       "</tr>\n",
       "<tr>\n",
       "  <th>SolarRad</th>            <td>   -0.1352</td> <td>    0.012</td> <td>  -11.127</td> <td> 0.000</td> <td>   -0.159</td> <td>   -0.111</td>\n",
       "</tr>\n",
       "<tr>\n",
       "  <th>Rainfall</th>            <td>   -0.0805</td> <td>    0.009</td> <td>   -8.502</td> <td> 0.000</td> <td>   -0.099</td> <td>   -0.062</td>\n",
       "</tr>\n",
       "<tr>\n",
       "  <th>Seasons_Spring</th>      <td>   -0.1774</td> <td>    0.029</td> <td>   -6.212</td> <td> 0.000</td> <td>   -0.233</td> <td>   -0.121</td>\n",
       "</tr>\n",
       "<tr>\n",
       "  <th>Seasons_Summer</th>      <td>   -0.4416</td> <td>    0.036</td> <td>  -12.193</td> <td> 0.000</td> <td>   -0.513</td> <td>   -0.371</td>\n",
       "</tr>\n",
       "<tr>\n",
       "  <th>Seasons_Winter</th>      <td>   -0.3579</td> <td>    0.045</td> <td>   -8.032</td> <td> 0.000</td> <td>   -0.445</td> <td>   -0.271</td>\n",
       "</tr>\n",
       "<tr>\n",
       "  <th>Holiday_No Holiday</th>  <td>    0.2114</td> <td>    0.044</td> <td>    4.816</td> <td> 0.000</td> <td>    0.125</td> <td>    0.298</td>\n",
       "</tr>\n",
       "<tr>\n",
       "  <th>Functioning Day_Yes</th> <td>    1.4795</td> <td>    0.054</td> <td>   27.278</td> <td> 0.000</td> <td>    1.373</td> <td>    1.586</td>\n",
       "</tr>\n",
       "<tr>\n",
       "  <th>Month_2</th>             <td>   -0.1094</td> <td>    0.037</td> <td>   -2.928</td> <td> 0.003</td> <td>   -0.183</td> <td>   -0.036</td>\n",
       "</tr>\n",
       "<tr>\n",
       "  <th>Month_5</th>             <td>    0.1562</td> <td>    0.036</td> <td>    4.361</td> <td> 0.000</td> <td>    0.086</td> <td>    0.226</td>\n",
       "</tr>\n",
       "<tr>\n",
       "  <th>Month_6</th>             <td>    0.4577</td> <td>    0.036</td> <td>   12.730</td> <td> 0.000</td> <td>    0.387</td> <td>    0.528</td>\n",
       "</tr>\n",
       "<tr>\n",
       "  <th>Month_10</th>            <td>    0.1900</td> <td>    0.035</td> <td>    5.399</td> <td> 0.000</td> <td>    0.121</td> <td>    0.259</td>\n",
       "</tr>\n",
       "<tr>\n",
       "  <th>Year_2018</th>           <td>   -0.1380</td> <td>    0.041</td> <td>   -3.348</td> <td> 0.001</td> <td>   -0.219</td> <td>   -0.057</td>\n",
       "</tr>\n",
       "<tr>\n",
       "  <th>WeekDay_Sunday</th>      <td>   -0.1207</td> <td>    0.026</td> <td>   -4.649</td> <td> 0.000</td> <td>   -0.172</td> <td>   -0.070</td>\n",
       "</tr>\n",
       "</table>\n",
       "<table class=\"simpletable\">\n",
       "<tr>\n",
       "  <th>Omnibus:</th>       <td>887.103</td> <th>  Durbin-Watson:     </th> <td>   2.010</td>\n",
       "</tr>\n",
       "<tr>\n",
       "  <th>Prob(Omnibus):</th> <td> 0.000</td>  <th>  Jarque-Bera (JB):  </th> <td>1642.333</td>\n",
       "</tr>\n",
       "<tr>\n",
       "  <th>Skew:</th>          <td> 0.922</td>  <th>  Prob(JB):          </th> <td>    0.00</td>\n",
       "</tr>\n",
       "<tr>\n",
       "  <th>Kurtosis:</th>      <td> 4.741</td>  <th>  Cond. No.          </th> <td>    19.6</td>\n",
       "</tr>\n",
       "</table><br/><br/>Notes:<br/>[1] Standard Errors assume that the covariance matrix of the errors is correctly specified."
      ],
      "text/plain": [
       "<class 'statsmodels.iolib.summary.Summary'>\n",
       "\"\"\"\n",
       "                            OLS Regression Results                            \n",
       "==============================================================================\n",
       "Dep. Variable:                  Count   R-squared:                       0.483\n",
       "Model:                            OLS   Adj. R-squared:                  0.482\n",
       "Method:                 Least Squares   F-statistic:                     380.8\n",
       "Date:                Fri, 20 May 2022   Prob (F-statistic):               0.00\n",
       "Time:                        21:38:00   Log-Likelihood:                -6678.8\n",
       "No. Observations:                6132   AIC:                         1.339e+04\n",
       "Df Residuals:                    6116   BIC:                         1.350e+04\n",
       "Df Model:                          15                                         \n",
       "Covariance Type:            nonrobust                                         \n",
       "=======================================================================================\n",
       "                          coef    std err          t      P>|t|      [0.025      0.975]\n",
       "---------------------------------------------------------------------------------------\n",
       "const                  -1.3019      0.076    -17.043      0.000      -1.452      -1.152\n",
       "Temp                    0.6573      0.021     31.591      0.000       0.616       0.698\n",
       "Humidity               -0.3667      0.012    -31.027      0.000      -0.390      -0.344\n",
       "SolarRad               -0.1352      0.012    -11.127      0.000      -0.159      -0.111\n",
       "Rainfall               -0.0805      0.009     -8.502      0.000      -0.099      -0.062\n",
       "Seasons_Spring         -0.1774      0.029     -6.212      0.000      -0.233      -0.121\n",
       "Seasons_Summer         -0.4416      0.036    -12.193      0.000      -0.513      -0.371\n",
       "Seasons_Winter         -0.3579      0.045     -8.032      0.000      -0.445      -0.271\n",
       "Holiday_No Holiday      0.2114      0.044      4.816      0.000       0.125       0.298\n",
       "Functioning Day_Yes     1.4795      0.054     27.278      0.000       1.373       1.586\n",
       "Month_2                -0.1094      0.037     -2.928      0.003      -0.183      -0.036\n",
       "Month_5                 0.1562      0.036      4.361      0.000       0.086       0.226\n",
       "Month_6                 0.4577      0.036     12.730      0.000       0.387       0.528\n",
       "Month_10                0.1900      0.035      5.399      0.000       0.121       0.259\n",
       "Year_2018              -0.1380      0.041     -3.348      0.001      -0.219      -0.057\n",
       "WeekDay_Sunday         -0.1207      0.026     -4.649      0.000      -0.172      -0.070\n",
       "==============================================================================\n",
       "Omnibus:                      887.103   Durbin-Watson:                   2.010\n",
       "Prob(Omnibus):                  0.000   Jarque-Bera (JB):             1642.333\n",
       "Skew:                           0.922   Prob(JB):                         0.00\n",
       "Kurtosis:                       4.741   Cond. No.                         19.6\n",
       "==============================================================================\n",
       "\n",
       "Notes:\n",
       "[1] Standard Errors assume that the covariance matrix of the errors is correctly specified.\n",
       "\"\"\""
      ]
     },
     "execution_count": 40,
     "metadata": {},
     "output_type": "execute_result"
    }
   ],
   "source": [
    "lm.summary()"
   ]
  },
  {
   "cell_type": "code",
   "execution_count": null,
   "metadata": {},
   "outputs": [],
   "source": [
    "X_train1= X_train_rfe.drop('Mon',1)"
   ]
  },
  {
   "cell_type": "code",
   "execution_count": null,
   "metadata": {},
   "outputs": [],
   "source": [
    "X_train2= sm.add_constant(X_train1)\n",
    "lm1 = sm.OLS(y_train,X_train2).fit() "
   ]
  },
  {
   "cell_type": "code",
   "execution_count": null,
   "metadata": {},
   "outputs": [],
   "source": [
    "lm1.summary()"
   ]
  },
  {
   "cell_type": "markdown",
   "metadata": {},
   "source": [
    "### Now we have all the variables with p-value less than 0.05."
   ]
  },
  {
   "cell_type": "code",
   "execution_count": null,
   "metadata": {},
   "outputs": [],
   "source": [
    "X_train_new= X_train2.drop('const',axis=1)"
   ]
  },
  {
   "cell_type": "markdown",
   "metadata": {},
   "source": [
    "### Variance Inflation Factor(VIF)"
   ]
  },
  {
   "cell_type": "code",
   "execution_count": null,
   "metadata": {},
   "outputs": [],
   "source": [
    "from statsmodels.stats.outliers_influence import variance_inflation_factor\n",
    "\n",
    "vif = pd.DataFrame()\n",
    "X = X_train_new\n",
    "vif['Features'] = X.columns\n",
    "vif['VIF'] = [variance_inflation_factor(X.values, i) for i in range(X.shape[1])]\n",
    "vif['VIF'] = round(vif['VIF'], 2)\n",
    "vif = vif.sort_values(by = \"VIF\", ascending = False)\n",
    "vif"
   ]
  },
  {
   "cell_type": "markdown",
   "metadata": {},
   "source": [
    "### All the variables have VIF less than 5 and it's perfect!"
   ]
  },
  {
   "cell_type": "markdown",
   "metadata": {},
   "source": [
    "## Step 7: Residual Analysis of the train data"
   ]
  },
  {
   "cell_type": "code",
   "execution_count": null,
   "metadata": {},
   "outputs": [],
   "source": [
    "y_train_pred = lm1.predict(X_train2)"
   ]
  },
  {
   "cell_type": "code",
   "execution_count": null,
   "metadata": {},
   "outputs": [],
   "source": [
    "fig = plt.figure()\n",
    "sns.distplot((y_train - y_train_pred), bins = 20)\n",
    "fig.suptitle('Error Terms', fontsize = 20)                  # Plot heading \n",
    "plt.xlabel('Errors', fontsize = 18)     "
   ]
  },
  {
   "cell_type": "markdown",
   "metadata": {},
   "source": [
    "## Step 8: Making Predictions"
   ]
  },
  {
   "cell_type": "code",
   "execution_count": null,
   "metadata": {},
   "outputs": [],
   "source": [
    "num_vars=['temp','humidity','windspeed','count']\n",
    "\n",
    "df_test[num_vars]= scaler.transform(df_test[num_vars])"
   ]
  },
  {
   "cell_type": "markdown",
   "metadata": {},
   "source": [
    "### Dividing into X_test and y_test"
   ]
  },
  {
   "cell_type": "code",
   "execution_count": null,
   "metadata": {},
   "outputs": [],
   "source": [
    "y_test = df_test.pop('count')\n",
    "X_test = df_test"
   ]
  },
  {
   "cell_type": "code",
   "execution_count": null,
   "metadata": {},
   "outputs": [],
   "source": [
    "# Now let's use our model to make predictions.\n",
    "\n",
    "# Creating X_test_new dataframe by dropping variables from X_test\n",
    "X_test_new = X_test[X_train_new.columns]\n",
    "\n",
    "# Adding a constant variable \n",
    "X_test_new = sm.add_constant(X_test_new)"
   ]
  },
  {
   "cell_type": "code",
   "execution_count": null,
   "metadata": {},
   "outputs": [],
   "source": [
    "# Making predictions\n",
    "y_test_pred = lm1.predict(X_test_new)"
   ]
  },
  {
   "cell_type": "markdown",
   "metadata": {},
   "source": [
    "## Step 9: Model Evaluation"
   ]
  },
  {
   "cell_type": "code",
   "execution_count": null,
   "metadata": {},
   "outputs": [],
   "source": [
    "# Plotting y_test and y_pred to understand the spread.\n",
    "fig = plt.figure()\n",
    "plt.scatter(y_test,y_test_pred)\n",
    "fig.suptitle('Actual vs Predictions', fontsize=20)              # Plot heading \n",
    "plt.xlabel('Actual', fontsize=18)                          # X-label\n",
    "plt.ylabel('Predictions', fontsize=16)                          # Y-label"
   ]
  },
  {
   "cell_type": "code",
   "execution_count": null,
   "metadata": {},
   "outputs": [],
   "source": [
    "from sklearn.metrics import r2_score\n",
    "r2_score(y_test, y_test_pred)"
   ]
  },
  {
   "cell_type": "markdown",
   "metadata": {},
   "source": [
    "## Conclusion:\n",
    "    \n",
    "**The top 5 variables that are seen effecting and benefitting the Bike Rental count are as follows:**\n",
    "\n",
    "* Spring season : -0.6842\n",
    "* Temperature   :  0.3999\n",
    "* Mist\t        : -0.3647\n",
    "* Sun\t        :  0.2749\n",
    "* working_day\t:  0.2327"
   ]
  },
  {
   "cell_type": "markdown",
   "metadata": {},
   "source": [
    "## **Assumptions of Linear Regression:**\n",
    "\n",
    "* The error terms are normally distributed.\n",
    "* The training and testing accuracy are nearly equal hence there is no Overfit/Underfit situation.\n",
    "* The predicted values have linear relationship with the actual values.****"
   ]
  },
  {
   "cell_type": "markdown",
   "metadata": {},
   "source": [
    "# Pakai Model Lain\n"
   ]
  },
  {
   "cell_type": "code",
   "execution_count": 41,
   "metadata": {
    "execution": {
     "iopub.execute_input": "2022-05-10T13:57:33.420043Z",
     "iopub.status.busy": "2022-05-10T13:57:33.418996Z",
     "iopub.status.idle": "2022-05-10T13:57:33.429961Z",
     "shell.execute_reply": "2022-05-10T13:57:33.42888Z",
     "shell.execute_reply.started": "2022-05-10T13:57:33.419949Z"
    }
   },
   "outputs": [],
   "source": [
    "model_performance = pd.DataFrame(columns=['R2','RMSE', 'time to train','time to predict','total time'])"
   ]
  },
  {
   "cell_type": "markdown",
   "metadata": {
    "tags": []
   },
   "source": [
    "## Decision Tree"
   ]
  },
  {
   "cell_type": "code",
   "execution_count": 42,
   "metadata": {
    "execution": {
     "iopub.execute_input": "2022-05-10T13:57:33.434842Z",
     "iopub.status.busy": "2022-05-10T13:57:33.434Z",
     "iopub.status.idle": "2022-05-10T13:57:33.499287Z",
     "shell.execute_reply": "2022-05-10T13:57:33.498664Z",
     "shell.execute_reply.started": "2022-05-10T13:57:33.434776Z"
    }
   },
   "outputs": [
    {
     "ename": "NameError",
     "evalue": "name 'time' is not defined",
     "output_type": "error",
     "traceback": [
      "\u001b[1;31m---------------------------------------------------------------------------\u001b[0m",
      "\u001b[1;31mNameError\u001b[0m                                 Traceback (most recent call last)",
      "\u001b[1;32m<timed exec>\u001b[0m in \u001b[0;36m<module>\u001b[1;34m\u001b[0m\n",
      "\u001b[1;31mNameError\u001b[0m: name 'time' is not defined"
     ]
    }
   ],
   "source": [
    "%%time\n",
    "from sklearn.tree import DecisionTreeRegressor\n",
    "start = time.time()\n",
    "model = DecisionTreeRegressor(min_samples_leaf=21).fit(X_train,y_train)\n",
    "end_train = time.time()\n",
    "y_predictions = model.predict(X_test) # These are the predictions from the test data.\n",
    "end_predict = time.time()\n",
    "\n",
    "model_performance.loc['Decision Tree'] = [model.score(X_test,y_test), \n",
    "                                   mean_squared_error(y_test,y_predictions,squared=False),\n",
    "                                   end_train-start,\n",
    "                                   end_predict-end_train,\n",
    "                                   end_predict-start]\n",
    "\n",
    "print('R-squared error: '+ \"{:.2%}\".format(model.score(X_test,y_test)))\n",
    "print('Root Mean Squared Error: '+ \"{:.2f}\".format(mean_squared_error(y_test,y_predictions,squared=False)))"
   ]
  },
  {
   "cell_type": "code",
   "execution_count": null,
   "metadata": {
    "execution": {
     "iopub.execute_input": "2022-05-10T13:57:33.501087Z",
     "iopub.status.busy": "2022-05-10T13:57:33.500675Z",
     "iopub.status.idle": "2022-05-10T13:57:34.113912Z",
     "shell.execute_reply": "2022-05-10T13:57:34.112924Z",
     "shell.execute_reply.started": "2022-05-10T13:57:33.50101Z"
    }
   },
   "outputs": [],
   "source": [
    "plt.style.use('seaborn-white')\n",
    "plt.rcParams['figure.figsize']=10,10 \n",
    "plt.rcParams['font.family'] = 'Calibri'\n",
    "plt.rcParams['lines.linewidth'] = 3\n",
    "plt.rcParams['axes.labelsize']=20\n",
    "plt.rcParams['xtick.labelsize']=16\n",
    "plt.rcParams['ytick.labelsize']=16\n",
    "plt.rcParams['legend.fontsize']=16\n",
    "\n",
    "fig,ax = plt.subplots()\n",
    "plt.title('Actual vs Predicted')\n",
    "plt.xlabel('Actual')\n",
    "plt.ylabel('Predicted')\n",
    "g = sns.scatterplot(x=y_test,\n",
    "                y=y_predictions,\n",
    "                s=100,\n",
    "                alpha=0.6,\n",
    "                linewidth=1,\n",
    "                edgecolor='black',\n",
    "                ax=ax)\n",
    "f = sns.lineplot(x=[min(y_test),max(y_test)],\n",
    "             y=[min(y_test),max(y_test)],\n",
    "             linewidth=4,\n",
    "             color='gray',\n",
    "             ax=ax)\n",
    "\n",
    "plt.annotate(text=('R-squared error: '+ \"{:.2%}\".format(model.score(X_test,y_test)) +'\\n' +\n",
    "                  'Root Mean Squared Error: '+ \"{:.2f}\".format(mean_squared_error(y_test,y_predictions,squared=False))),\n",
    "             xy=(0,3000),\n",
    "             size='medium')\n",
    "\n",
    "xlabels = ['{:,.0f}'.format(x) for x in g.get_xticks()]\n",
    "g.set_xticklabels(xlabels)\n",
    "ylabels = ['{:,.0f}'.format(x) for x in g.get_yticks()]\n",
    "g.set_yticklabels(ylabels)\n",
    "sns.despine()"
   ]
  },
  {
   "cell_type": "code",
   "execution_count": null,
   "metadata": {
    "execution": {
     "iopub.execute_input": "2022-05-10T13:57:34.115755Z",
     "iopub.status.busy": "2022-05-10T13:57:34.115433Z",
     "iopub.status.idle": "2022-05-10T13:57:34.121025Z",
     "shell.execute_reply": "2022-05-10T13:57:34.119988Z",
     "shell.execute_reply.started": "2022-05-10T13:57:34.115718Z"
    }
   },
   "outputs": [],
   "source": [
    "# import graphviz\n",
    "# from sklearn import tree\n",
    "# # DOT data\n",
    "# dot_data = tree.export_graphviz(model, out_file=None, \n",
    "#                                 # feature_names=X.columns,  \n",
    "#                                 # class_names=['Benign','Malignant'],\n",
    "#                                 filled=True)\n",
    "\n",
    "# # Draw graph\n",
    "# graph = graphviz.Source(dot_data, format=\"png\") \n",
    "# graph"
   ]
  },
  {
   "cell_type": "code",
   "execution_count": null,
   "metadata": {
    "execution": {
     "iopub.execute_input": "2022-05-10T13:57:34.122852Z",
     "iopub.status.busy": "2022-05-10T13:57:34.122555Z",
     "iopub.status.idle": "2022-05-10T13:57:35.341136Z",
     "shell.execute_reply": "2022-05-10T13:57:35.34001Z",
     "shell.execute_reply.started": "2022-05-10T13:57:34.122796Z"
    }
   },
   "outputs": [],
   "source": [
    "R2E = []\n",
    "RMSE = []\n",
    "\n",
    "for nr in range(1,41):\n",
    "    model = DecisionTreeRegressor(min_samples_leaf=nr\n",
    "                                  ).fit(X_train,y_train)\n",
    "    y_predictions = model.predict(X_test) # These are the predictions from the test data.\n",
    "    R2E.append(model.score(X_test,y_test))\n",
    "    RMSE.append(mean_squared_error(y_test,y_predictions,squared=False))\n",
    " \n",
    "                                   "
   ]
  },
  {
   "cell_type": "code",
   "execution_count": null,
   "metadata": {
    "execution": {
     "iopub.execute_input": "2022-05-10T13:57:35.343846Z",
     "iopub.status.busy": "2022-05-10T13:57:35.342479Z",
     "iopub.status.idle": "2022-05-10T13:57:35.859607Z",
     "shell.execute_reply": "2022-05-10T13:57:35.858865Z",
     "shell.execute_reply.started": "2022-05-10T13:57:35.343797Z"
    }
   },
   "outputs": [],
   "source": [
    "plt.style.use('seaborn-whitegrid')\n",
    "plt.rcParams['figure.figsize']=10,10 \n",
    "plt.rcParams['font.family'] = 'Calibri'\n",
    "plt.rcParams['lines.linewidth'] = 3\n",
    "plt.rcParams['font.size']=16\n",
    "\n",
    "fig,ax = plt.subplots()\n",
    "plt.title('R-Squared error')\n",
    "plt.ylabel('error')\n",
    "plt.xlabel('minimum number of samples per leaf node')\n",
    "\n",
    "f = sns.lineplot(x=range(1,41),\n",
    "             y=R2E,\n",
    "             linewidth=3,\n",
    "             color='gray',\n",
    "             ax=ax,\n",
    "                )\n",
    "\n",
    "\n",
    "sns.despine()"
   ]
  },
  {
   "cell_type": "code",
   "execution_count": null,
   "metadata": {},
   "outputs": [],
   "source": []
  },
  {
   "cell_type": "code",
   "execution_count": null,
   "metadata": {},
   "outputs": [],
   "source": []
  },
  {
   "cell_type": "markdown",
   "metadata": {
    "tags": []
   },
   "source": [
    "## kNN"
   ]
  },
  {
   "cell_type": "code",
   "execution_count": null,
   "metadata": {
    "execution": {
     "iopub.execute_input": "2022-05-10T13:57:35.861517Z",
     "iopub.status.busy": "2022-05-10T13:57:35.860705Z",
     "iopub.status.idle": "2022-05-10T13:57:35.971093Z",
     "shell.execute_reply": "2022-05-10T13:57:35.970005Z",
     "shell.execute_reply.started": "2022-05-10T13:57:35.861477Z"
    }
   },
   "outputs": [],
   "source": [
    "%%time\n",
    "from sklearn.neighbors import KNeighborsRegressor\n",
    "start = time.time()\n",
    "model = KNeighborsRegressor(n_neighbors=4).fit(X_train,y_train)\n",
    "end_train = time.time()\n",
    "y_predictions = model.predict(X_test) # These are the predictions from the test data.\n",
    "end_predict = time.time()\n",
    "\n",
    "model_performance.loc['kNN'] = [model.score(X_test,y_test), \n",
    "                                   mean_squared_error(y_test,y_predictions,squared=False),\n",
    "                                   end_train-start,\n",
    "                                   end_predict-end_train,\n",
    "                                   end_predict-start]\n",
    "\n",
    "print('R-squared error: '+ \"{:.2%}\".format(model.score(X_test,y_test)))\n",
    "print('Root Mean Squared Error: '+ \"{:.2f}\".format(mean_squared_error(y_test,y_predictions,squared=False)))"
   ]
  },
  {
   "cell_type": "code",
   "execution_count": null,
   "metadata": {
    "execution": {
     "iopub.execute_input": "2022-05-10T13:57:35.972619Z",
     "iopub.status.busy": "2022-05-10T13:57:35.972373Z",
     "iopub.status.idle": "2022-05-10T13:57:36.594234Z",
     "shell.execute_reply": "2022-05-10T13:57:36.593322Z",
     "shell.execute_reply.started": "2022-05-10T13:57:35.972582Z"
    }
   },
   "outputs": [],
   "source": [
    "plt.style.use('seaborn-white')\n",
    "plt.rcParams['figure.figsize']=10,10 \n",
    "\n",
    "fig,ax = plt.subplots()\n",
    "plt.title('Actual vs Predicted')\n",
    "plt.xlabel('Actual')\n",
    "plt.ylabel('Predicted')\n",
    "sns.scatterplot(x=y_test,\n",
    "                y=y_predictions,\n",
    "                s=100,\n",
    "                alpha=0.6,\n",
    "                linewidth=1,\n",
    "                edgecolor='black',\n",
    "                ax=ax)\n",
    "sns.lineplot(x=[min(y_test),max(y_test)],\n",
    "             y=[min(y_test),max(y_test)],\n",
    "             linewidth=4,\n",
    "             color='gray',\n",
    "             ax=ax)\n",
    "\n",
    "plt.annotate(text=('R-squared error: '+ \"{:.2%}\".format(model.score(X_test,y_test)) +'\\n' +\n",
    "                  'Root Mean Squared Error: '+ \"{:.2f}\".format(mean_squared_error(y_test,y_predictions,squared=False))),\n",
    "             xy=(0,3000),\n",
    "             size='medium')\n",
    "\n",
    "xlabels = ['{:,.0f}'.format(x) for x in g.get_xticks()]\n",
    "g.set_xticklabels(xlabels)\n",
    "ylabels = ['{:,.0f}'.format(x) for x in g.get_yticks()]\n",
    "g.set_yticklabels(ylabels)\n",
    "sns.despine()"
   ]
  },
  {
   "cell_type": "code",
   "execution_count": null,
   "metadata": {
    "execution": {
     "iopub.execute_input": "2022-05-10T13:57:36.595805Z",
     "iopub.status.busy": "2022-05-10T13:57:36.595555Z",
     "iopub.status.idle": "2022-05-10T13:57:39.343223Z",
     "shell.execute_reply": "2022-05-10T13:57:39.342389Z",
     "shell.execute_reply.started": "2022-05-10T13:57:36.595774Z"
    }
   },
   "outputs": [],
   "source": [
    "R2E = []\n",
    "RMSE = []\n",
    "\n",
    "for nr in range(1,41):\n",
    "    model = KNeighborsRegressor(n_neighbors=nr\n",
    "                                  ).fit(X_train,y_train)\n",
    "    y_predictions = model.predict(X_test) # These are the predictions from the test data.\n",
    "    R2E.append(model.score(X_test,y_test))\n",
    "    RMSE.append(mean_squared_error(y_test,y_predictions,squared=False))\n",
    " \n",
    "                                   "
   ]
  },
  {
   "cell_type": "code",
   "execution_count": null,
   "metadata": {
    "execution": {
     "iopub.execute_input": "2022-05-10T13:57:39.344707Z",
     "iopub.status.busy": "2022-05-10T13:57:39.344481Z",
     "iopub.status.idle": "2022-05-10T13:57:39.869165Z",
     "shell.execute_reply": "2022-05-10T13:57:39.868174Z",
     "shell.execute_reply.started": "2022-05-10T13:57:39.344681Z"
    }
   },
   "outputs": [],
   "source": [
    "plt.style.use('seaborn-whitegrid')\n",
    "plt.rcParams['figure.figsize']=10,10 \n",
    "\n",
    "fig,ax = plt.subplots()\n",
    "plt.title('R-Squared error')\n",
    "plt.ylabel('min samples per leaf node')\n",
    "plt.xlabel('minimum number of samples per leaf node')\n",
    "\n",
    "f = sns.lineplot(x=range(1,41),\n",
    "             y=R2E,\n",
    "             linewidth=3,\n",
    "             color='gray',\n",
    "             ax=ax,\n",
    "                )\n",
    "\n",
    "\n",
    "sns.despine()"
   ]
  },
  {
   "cell_type": "code",
   "execution_count": null,
   "metadata": {},
   "outputs": [],
   "source": []
  },
  {
   "cell_type": "markdown",
   "metadata": {
    "tags": []
   },
   "source": [
    "## Random Forest"
   ]
  },
  {
   "cell_type": "code",
   "execution_count": null,
   "metadata": {
    "execution": {
     "iopub.execute_input": "2022-05-10T13:57:39.870853Z",
     "iopub.status.busy": "2022-05-10T13:57:39.870459Z",
     "iopub.status.idle": "2022-05-10T13:57:44.288893Z",
     "shell.execute_reply": "2022-05-10T13:57:44.287575Z",
     "shell.execute_reply.started": "2022-05-10T13:57:39.870819Z"
    }
   },
   "outputs": [],
   "source": [
    "%%time\n",
    "from sklearn.ensemble import RandomForestRegressor\n",
    "start = time.time()\n",
    "model = RandomForestRegressor(n_jobs=-1,\n",
    "                              n_estimators=500,\n",
    "                              min_samples_leaf=2,\n",
    "                             ).fit(X_train,y_train)\n",
    "end_train = time.time()\n",
    "y_predictions = model.predict(X_test) # These are the predictions from the test data.\n",
    "end_predict = time.time()\n",
    "\n",
    "model_performance.loc['Random Forest'] = [model.score(X_test,y_test), \n",
    "                                   mean_squared_error(y_test,y_predictions,squared=False),\n",
    "                                   end_train-start,\n",
    "                                   end_predict-end_train,\n",
    "                                   end_predict-start]\n",
    "\n",
    "print('R-squared error: '+ \"{:.2%}\".format(model.score(X_test,y_test)))\n",
    "print('Root Mean Squared Error: '+ \"{:.2f}\".format(mean_squared_error(y_test,y_predictions,squared=False)))"
   ]
  },
  {
   "cell_type": "code",
   "execution_count": null,
   "metadata": {
    "execution": {
     "iopub.execute_input": "2022-05-10T13:57:44.290944Z",
     "iopub.status.busy": "2022-05-10T13:57:44.290339Z",
     "iopub.status.idle": "2022-05-10T13:57:45.194997Z",
     "shell.execute_reply": "2022-05-10T13:57:45.194053Z",
     "shell.execute_reply.started": "2022-05-10T13:57:44.2909Z"
    }
   },
   "outputs": [],
   "source": [
    "plt.style.use('seaborn-white')\n",
    "plt.rcParams['figure.figsize']=10,10 \n",
    "\n",
    "fig,ax = plt.subplots()\n",
    "plt.title('Actual vs Predicted')\n",
    "plt.xlabel('Actual')\n",
    "plt.ylabel('Predicted')\n",
    "g = sns.scatterplot(x=y_test,\n",
    "                y=y_predictions,\n",
    "                s=100,\n",
    "                alpha=0.6,\n",
    "                linewidth=1,\n",
    "                edgecolor='black',\n",
    "                ax=ax)\n",
    "f = sns.lineplot(x=[min(y_test),max(y_test)],\n",
    "             y=[min(y_test),max(y_test)],\n",
    "             linewidth=4,\n",
    "             color='gray',\n",
    "             ax=ax)\n",
    "\n",
    "plt.annotate(text=('R-squared error: '+ \"{:.2%}\".format(model.score(X_test,y_test)) +'\\n' +\n",
    "                  'Root Mean Squared Error: '+ \"{:.2f}\".format(mean_squared_error(y_test,y_predictions,squared=False))),\n",
    "             xy=(0,3000),\n",
    "             size='medium')\n",
    "\n",
    "xlabels = ['{:,.0f}'.format(x) for x in g.get_xticks()]\n",
    "g.set_xticklabels(xlabels)\n",
    "ylabels = ['{:,.0f}'.format(x) for x in g.get_yticks()]\n",
    "g.set_yticklabels(ylabels)\n",
    "sns.despine()"
   ]
  },
  {
   "cell_type": "code",
   "execution_count": null,
   "metadata": {
    "execution": {
     "iopub.execute_input": "2022-05-10T13:57:45.197386Z",
     "iopub.status.busy": "2022-05-10T13:57:45.196774Z",
     "iopub.status.idle": "2022-05-10T13:59:07.993826Z",
     "shell.execute_reply": "2022-05-10T13:59:07.992822Z",
     "shell.execute_reply.started": "2022-05-10T13:57:45.197318Z"
    }
   },
   "outputs": [],
   "source": [
    "R2E = []\n",
    "RMSE = []\n",
    "\n",
    "for nr in range(1,41):\n",
    "    model = RandomForestRegressor(n_jobs=-1,\n",
    "                                  n_estimators=500,\n",
    "                                  min_samples_leaf=nr\n",
    "                                  ).fit(X_train,y_train)\n",
    "    y_predictions = model.predict(X_test) # These are the predictions from the test data.\n",
    "    R2E.append(model.score(X_test,y_test))\n",
    "    RMSE.append(mean_squared_error(y_test,y_predictions,squared=False))\n",
    " \n",
    "                                   "
   ]
  },
  {
   "cell_type": "code",
   "execution_count": null,
   "metadata": {
    "execution": {
     "iopub.execute_input": "2022-05-10T13:59:07.995784Z",
     "iopub.status.busy": "2022-05-10T13:59:07.995448Z",
     "iopub.status.idle": "2022-05-10T13:59:08.491002Z",
     "shell.execute_reply": "2022-05-10T13:59:08.489993Z",
     "shell.execute_reply.started": "2022-05-10T13:59:07.995742Z"
    }
   },
   "outputs": [],
   "source": [
    "plt.style.use('seaborn-whitegrid')\n",
    "plt.rcParams['figure.figsize']=10,10 \n",
    "\n",
    "fig,ax = plt.subplots()\n",
    "plt.title('R-Squared error')\n",
    "plt.ylabel('error')\n",
    "plt.xlabel('minimum number of samples per leaf node')\n",
    "\n",
    "f = sns.lineplot(x=range(1,41),\n",
    "             y=R2E,\n",
    "             linewidth=3,\n",
    "             color='gray',\n",
    "             ax=ax,\n",
    "                )\n",
    "\n",
    "\n",
    "sns.despine()"
   ]
  },
  {
   "cell_type": "code",
   "execution_count": null,
   "metadata": {},
   "outputs": [],
   "source": []
  },
  {
   "cell_type": "markdown",
   "metadata": {},
   "source": [
    "# Evaluate\n",
    "\n",
    "The models are compared in this chapter to determine which give the best performance."
   ]
  },
  {
   "cell_type": "code",
   "execution_count": null,
   "metadata": {
    "execution": {
     "iopub.execute_input": "2022-05-10T13:59:08.492756Z",
     "iopub.status.busy": "2022-05-10T13:59:08.492448Z",
     "iopub.status.idle": "2022-05-10T13:59:08.49879Z",
     "shell.execute_reply": "2022-05-10T13:59:08.497712Z",
     "shell.execute_reply.started": "2022-05-10T13:59:08.492721Z"
    }
   },
   "outputs": [],
   "source": [
    "# model_performance"
   ]
  },
  {
   "cell_type": "code",
   "execution_count": null,
   "metadata": {
    "execution": {
     "iopub.execute_input": "2022-05-10T13:59:08.500888Z",
     "iopub.status.busy": "2022-05-10T13:59:08.500406Z",
     "iopub.status.idle": "2022-05-10T13:59:08.532297Z",
     "shell.execute_reply": "2022-05-10T13:59:08.530535Z",
     "shell.execute_reply.started": "2022-05-10T13:59:08.500845Z"
    }
   },
   "outputs": [],
   "source": [
    "# model_performance.fillna(.90,inplace=True)\n",
    "model_performance.style.background_gradient(cmap='RdYlBu_r').format({'R2': '{:.2%}',\n",
    "                                                                     'RMSE': '{:.2f}',\n",
    "                                                                     'time to train':'{:.3f}',\n",
    "                                                                     'time to predict':'{:.3f}',\n",
    "                                                                     'total time':'{:.3f}',\n",
    "                                                                     })"
   ]
  },
  {
   "cell_type": "code",
   "execution_count": null,
   "metadata": {},
   "outputs": [],
   "source": [
    "# Modelling\n",
    "\n",
    "\n",
    "model_performance = pd.DataFrame(columns=['R2','RMSE', 'time to train','time to predict','total time'])\n",
    "\n",
    "## Decision Tree\n",
    "\n",
    "%%time\n",
    "from sklearn.tree import DecisionTreeRegressor\n",
    "start = time.time()\n",
    "model = DecisionTreeRegressor(min_samples_leaf=21).fit(X_train,y_train)\n",
    "end_train = time.time()\n",
    "y_predictions = model.predict(X_test) # These are the predictions from the test data.\n",
    "end_predict = time.time()\n",
    "\n",
    "model_performance.loc['Decision Tree'] = [model.score(X_test,y_test), \n",
    "                                   mean_squared_error(y_test,y_predictions,squared=False),\n",
    "                                   end_train-start,\n",
    "                                   end_predict-end_train,\n",
    "                                   end_predict-start]\n",
    "\n",
    "print('R-squared error: '+ \"{:.2%}\".format(model.score(X_test,y_test)))\n",
    "print('Root Mean Squared Error: '+ \"{:.2f}\".format(mean_squared_error(y_test,y_predictions,squared=False)))\n",
    "\n",
    "plt.style.use('seaborn-white')\n",
    "plt.rcParams['figure.figsize']=10,10 \n",
    "plt.rcParams['font.family'] = 'Calibri'\n",
    "plt.rcParams['lines.linewidth'] = 3\n",
    "plt.rcParams['axes.labelsize']=20\n",
    "plt.rcParams['xtick.labelsize']=16\n",
    "plt.rcParams['ytick.labelsize']=16\n",
    "plt.rcParams['legend.fontsize']=16\n",
    "\n",
    "fig,ax = plt.subplots()\n",
    "plt.title('Actual vs Predicted')\n",
    "plt.xlabel('Actual')\n",
    "plt.ylabel('Predicted')\n",
    "g = sns.scatterplot(x=y_test,\n",
    "                y=y_predictions,\n",
    "                s=100,\n",
    "                alpha=0.6,\n",
    "                linewidth=1,\n",
    "                edgecolor='black',\n",
    "                ax=ax)\n",
    "f = sns.lineplot(x=[min(y_test),max(y_test)],\n",
    "             y=[min(y_test),max(y_test)],\n",
    "             linewidth=4,\n",
    "             color='gray',\n",
    "             ax=ax)\n",
    "\n",
    "plt.annotate(text=('R-squared error: '+ \"{:.2%}\".format(model.score(X_test,y_test)) +'\\n' +\n",
    "                  'Root Mean Squared Error: '+ \"{:.2f}\".format(mean_squared_error(y_test,y_predictions,squared=False))),\n",
    "             xy=(0,3000),\n",
    "             size='medium')\n",
    "\n",
    "xlabels = ['{:,.0f}'.format(x) for x in g.get_xticks()]\n",
    "g.set_xticklabels(xlabels)\n",
    "ylabels = ['{:,.0f}'.format(x) for x in g.get_yticks()]\n",
    "g.set_yticklabels(ylabels)\n",
    "sns.despine()\n",
    "\n",
    "# import graphviz\n",
    "# from sklearn import tree\n",
    "# # DOT data\n",
    "# dot_data = tree.export_graphviz(model, out_file=None, \n",
    "#                                 # feature_names=X.columns,  \n",
    "#                                 # class_names=['Benign','Malignant'],\n",
    "#                                 filled=True)\n",
    "\n",
    "# # Draw graph\n",
    "# graph = graphviz.Source(dot_data, format=\"png\") \n",
    "# graph\n",
    "\n",
    "R2E = []\n",
    "RMSE = []\n",
    "\n",
    "for nr in range(1,41):\n",
    "    model = DecisionTreeRegressor(min_samples_leaf=nr\n",
    "                                  ).fit(X_train,y_train)\n",
    "    y_predictions = model.predict(X_test) # These are the predictions from the test data.\n",
    "    R2E.append(model.score(X_test,y_test))\n",
    "    RMSE.append(mean_squared_error(y_test,y_predictions,squared=False))\n",
    " \n",
    "                                   \n",
    "\n",
    "plt.style.use('seaborn-whitegrid')\n",
    "plt.rcParams['figure.figsize']=10,10 \n",
    "plt.rcParams['font.family'] = 'Calibri'\n",
    "plt.rcParams['lines.linewidth'] = 3\n",
    "plt.rcParams['font.size']=16\n",
    "\n",
    "fig,ax = plt.subplots()\n",
    "plt.title('R-Squared error')\n",
    "plt.ylabel('error')\n",
    "plt.xlabel('minimum number of samples per leaf node')\n",
    "\n",
    "f = sns.lineplot(x=range(1,41),\n",
    "             y=R2E,\n",
    "             linewidth=3,\n",
    "             color='gray',\n",
    "             ax=ax,\n",
    "                )\n",
    "\n",
    "\n",
    "sns.despine()\n",
    "\n",
    "\n",
    "\n",
    "\n",
    "\n",
    "## kNN\n",
    "\n",
    "%%time\n",
    "from sklearn.neighbors import KNeighborsRegressor\n",
    "start = time.time()\n",
    "model = KNeighborsRegressor(n_neighbors=4).fit(X_train,y_train)\n",
    "end_train = time.time()\n",
    "y_predictions = model.predict(X_test) # These are the predictions from the test data.\n",
    "end_predict = time.time()\n",
    "\n",
    "model_performance.loc['kNN'] = [model.score(X_test,y_test), \n",
    "                                   mean_squared_error(y_test,y_predictions,squared=False),\n",
    "                                   end_train-start,\n",
    "                                   end_predict-end_train,\n",
    "                                   end_predict-start]\n",
    "\n",
    "print('R-squared error: '+ \"{:.2%}\".format(model.score(X_test,y_test)))\n",
    "print('Root Mean Squared Error: '+ \"{:.2f}\".format(mean_squared_error(y_test,y_predictions,squared=False)))\n",
    "\n",
    "plt.style.use('seaborn-white')\n",
    "plt.rcParams['figure.figsize']=10,10 \n",
    "\n",
    "fig,ax = plt.subplots()\n",
    "plt.title('Actual vs Predicted')\n",
    "plt.xlabel('Actual')\n",
    "plt.ylabel('Predicted')\n",
    "sns.scatterplot(x=y_test,\n",
    "                y=y_predictions,\n",
    "                s=100,\n",
    "                alpha=0.6,\n",
    "                linewidth=1,\n",
    "                edgecolor='black',\n",
    "                ax=ax)\n",
    "sns.lineplot(x=[min(y_test),max(y_test)],\n",
    "             y=[min(y_test),max(y_test)],\n",
    "             linewidth=4,\n",
    "             color='gray',\n",
    "             ax=ax)\n",
    "\n",
    "plt.annotate(text=('R-squared error: '+ \"{:.2%}\".format(model.score(X_test,y_test)) +'\\n' +\n",
    "                  'Root Mean Squared Error: '+ \"{:.2f}\".format(mean_squared_error(y_test,y_predictions,squared=False))),\n",
    "             xy=(0,3000),\n",
    "             size='medium')\n",
    "\n",
    "xlabels = ['{:,.0f}'.format(x) for x in g.get_xticks()]\n",
    "g.set_xticklabels(xlabels)\n",
    "ylabels = ['{:,.0f}'.format(x) for x in g.get_yticks()]\n",
    "g.set_yticklabels(ylabels)\n",
    "sns.despine()\n",
    "\n",
    "R2E = []\n",
    "RMSE = []\n",
    "\n",
    "for nr in range(1,41):\n",
    "    model = KNeighborsRegressor(n_neighbors=nr\n",
    "                                  ).fit(X_train,y_train)\n",
    "    y_predictions = model.predict(X_test) # These are the predictions from the test data.\n",
    "    R2E.append(model.score(X_test,y_test))\n",
    "    RMSE.append(mean_squared_error(y_test,y_predictions,squared=False))\n",
    " \n",
    "                                   \n",
    "\n",
    "plt.style.use('seaborn-whitegrid')\n",
    "plt.rcParams['figure.figsize']=10,10 \n",
    "\n",
    "fig,ax = plt.subplots()\n",
    "plt.title('R-Squared error')\n",
    "plt.ylabel('min samples per leaf node')\n",
    "plt.xlabel('minimum number of samples per leaf node')\n",
    "\n",
    "f = sns.lineplot(x=range(1,41),\n",
    "             y=R2E,\n",
    "             linewidth=3,\n",
    "             color='gray',\n",
    "             ax=ax,\n",
    "                )\n",
    "\n",
    "\n",
    "sns.despine()\n",
    "\n",
    "\n",
    "\n",
    "## Random Forest\n",
    "\n",
    "%%time\n",
    "from sklearn.ensemble import RandomForestRegressor\n",
    "start = time.time()\n",
    "model = RandomForestRegressor(n_jobs=-1,\n",
    "                              n_estimators=500,\n",
    "                              min_samples_leaf=2,\n",
    "                             ).fit(X_train,y_train)\n",
    "end_train = time.time()\n",
    "y_predictions = model.predict(X_test) # These are the predictions from the test data.\n",
    "end_predict = time.time()\n",
    "\n",
    "model_performance.loc['Random Forest'] = [model.score(X_test,y_test), \n",
    "                                   mean_squared_error(y_test,y_predictions,squared=False),\n",
    "                                   end_train-start,\n",
    "                                   end_predict-end_train,\n",
    "                                   end_predict-start]\n",
    "\n",
    "print('R-squared error: '+ \"{:.2%}\".format(model.score(X_test,y_test)))\n",
    "print('Root Mean Squared Error: '+ \"{:.2f}\".format(mean_squared_error(y_test,y_predictions,squared=False)))\n",
    "\n",
    "plt.style.use('seaborn-white')\n",
    "plt.rcParams['figure.figsize']=10,10 \n",
    "\n",
    "fig,ax = plt.subplots()\n",
    "plt.title('Actual vs Predicted')\n",
    "plt.xlabel('Actual')\n",
    "plt.ylabel('Predicted')\n",
    "g = sns.scatterplot(x=y_test,\n",
    "                y=y_predictions,\n",
    "                s=100,\n",
    "                alpha=0.6,\n",
    "                linewidth=1,\n",
    "                edgecolor='black',\n",
    "                ax=ax)\n",
    "f = sns.lineplot(x=[min(y_test),max(y_test)],\n",
    "             y=[min(y_test),max(y_test)],\n",
    "             linewidth=4,\n",
    "             color='gray',\n",
    "             ax=ax)\n",
    "\n",
    "plt.annotate(text=('R-squared error: '+ \"{:.2%}\".format(model.score(X_test,y_test)) +'\\n' +\n",
    "                  'Root Mean Squared Error: '+ \"{:.2f}\".format(mean_squared_error(y_test,y_predictions,squared=False))),\n",
    "             xy=(0,3000),\n",
    "             size='medium')\n",
    "\n",
    "xlabels = ['{:,.0f}'.format(x) for x in g.get_xticks()]\n",
    "g.set_xticklabels(xlabels)\n",
    "ylabels = ['{:,.0f}'.format(x) for x in g.get_yticks()]\n",
    "g.set_yticklabels(ylabels)\n",
    "sns.despine()\n",
    "\n",
    "R2E = []\n",
    "RMSE = []\n",
    "\n",
    "for nr in range(1,41):\n",
    "    model = RandomForestRegressor(n_jobs=-1,\n",
    "                                  n_estimators=500,\n",
    "                                  min_samples_leaf=nr\n",
    "                                  ).fit(X_train,y_train)\n",
    "    y_predictions = model.predict(X_test) # These are the predictions from the test data.\n",
    "    R2E.append(model.score(X_test,y_test))\n",
    "    RMSE.append(mean_squared_error(y_test,y_predictions,squared=False))\n",
    " \n",
    "                                   \n",
    "\n",
    "plt.style.use('seaborn-whitegrid')\n",
    "plt.rcParams['figure.figsize']=10,10 \n",
    "\n",
    "fig,ax = plt.subplots()\n",
    "plt.title('R-Squared error')\n",
    "plt.ylabel('error')\n",
    "plt.xlabel('minimum number of samples per leaf node')\n",
    "\n",
    "f = sns.lineplot(x=range(1,41),\n",
    "             y=R2E,\n",
    "             linewidth=3,\n",
    "             color='gray',\n",
    "             ax=ax,\n",
    "                )\n",
    "\n",
    "\n",
    "sns.despine()\n",
    "\n",
    "\n",
    "\n",
    "# Evaluate\n",
    "\n",
    "The models are compared in this chapter to determine which give the best performance.\n",
    "\n",
    "# model_performance\n",
    "\n",
    "# model_performance.fillna(.90,inplace=True)\n",
    "model_performance.style.background_gradient(cmap='RdYlBu_r').format({'R2': '{:.2%}',\n",
    "                                                                     'RMSE': '{:.2f}',\n",
    "                                                                     'time to train':'{:.3f}',\n",
    "                                                                     'time to predict':'{:.3f}',\n",
    "                                                                     'total time':'{:.3f}',\n",
    "                                                                     })"
   ]
  },
  {
   "cell_type": "code",
   "execution_count": null,
   "metadata": {},
   "outputs": [],
   "source": [
    "from sklearn.linear_model import LinearRegression, Ridge, HuberRegressor, ElasticNetCV\n",
    "from sklearn.tree import DecisionTreeRegressor\n",
    "from sklearn.ensemble import RandomForestRegressor, GradientBoostingRegressor, ExtraTreesRegressor\n",
    "\n",
    "models = [LinearRegression(),\n",
    "         Ridge(),\n",
    "         HuberRegressor(),\n",
    "         ElasticNetCV(),\n",
    "         DecisionTreeRegressor(),\n",
    "         RandomForestRegressor(),\n",
    "         ExtraTreesRegressor(),\n",
    "         GradientBoostingRegressor()]\n",
    "\n",
    "from sklearn import model_selection\n",
    "def train(model):\n",
    "    kfold = model_selection.KFold(n_splits=5, random_state=42)\n",
    "    pred = model_selection.cross_val_score(model, X, y, cv=kfold, scoring='neg_mean_squared_error')\n",
    "    cv_score = pred.mean()\n",
    "    print('Model:',model)\n",
    "    print('CV score:', abs(cv_score))\n",
    "\n",
    "for model in models:\n",
    "    train(model)\n",
    "\n",
    "from sklearn.model_selection import train_test_split\n",
    "x_train, x_test, y_train, y_test = train_test_split(X, y, test_size=0.25, random_state=42)\n",
    "\n",
    "model = RandomForestRegressor()\n",
    "model.fit(x_train, y_train)\n",
    "y_pred = model.predict(x_test)\n",
    "\n",
    "# plot the error difference\n",
    "error = y_test - y_pred\n",
    "fig, ax = plt.subplots()\n",
    "ax.scatter(y_test, error)\n",
    "ax.axhline(lw=3, color='black')\n",
    "ax.set_xlabel('Observed')\n",
    "ax.set_ylabel('Error')\n",
    "plt.show()\n",
    "\n",
    "from sklearn.metrics import mean_squared_error\n",
    "np.sqrt(mean_squared_error(y_test, y_pred))"
   ]
  }
 ],
 "metadata": {
  "_change_revision": 0,
  "_is_fork": false,
  "kernelspec": {
   "display_name": "Python 3 (ipykernel)",
   "language": "python",
   "name": "python3"
  },
  "language_info": {
   "codemirror_mode": {
    "name": "ipython",
    "version": 3
   },
   "file_extension": ".py",
   "mimetype": "text/x-python",
   "name": "python",
   "nbconvert_exporter": "python",
   "pygments_lexer": "ipython3",
   "version": "3.9.7"
  }
 },
 "nbformat": 4,
 "nbformat_minor": 4
}
