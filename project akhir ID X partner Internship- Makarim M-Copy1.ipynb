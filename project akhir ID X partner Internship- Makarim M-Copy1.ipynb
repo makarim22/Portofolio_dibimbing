{
 "cells": [
  {
   "cell_type": "markdown",
   "id": "d445672d",
   "metadata": {},
   "source": [
    "# <center> Final Project "
   ]
  },
  {
   "cell_type": "markdown",
   "id": "5765197e",
   "metadata": {},
   "source": [
    "catatan :\n",
    "    hanya bisa sampai tahap visualisasi data, pemodelan sudah mengerti langkahnya tapi codenya nge-bug "
   ]
  },
  {
   "cell_type": "code",
   "execution_count": 1,
   "id": "d14f307f",
   "metadata": {},
   "outputs": [],
   "source": [
    "# importing libraries\n",
    "import pandas as pd\n",
    "import numpy as np\n",
    "import matplotlib.pyplot as plt\n",
    "import seaborn as sns\n",
    "sns.set_style('whitegrid')\n",
    "import warnings\n",
    "import gc\n",
    "warnings.simplefilter(action='ignore', category=FutureWarning)\n",
    "warnings.simplefilter(action='ignore', category=DeprecationWarning)\n",
    "%matplotlib inline"
   ]
  },
  {
   "cell_type": "code",
   "execution_count": 2,
   "id": "65a261d5",
   "metadata": {},
   "outputs": [
    {
     "name": "stderr",
     "output_type": "stream",
     "text": [
      "C:\\Users\\ASUS\\anaconda3\\lib\\site-packages\\IPython\\core\\interactiveshell.py:3444: DtypeWarning: Columns (20) have mixed types.Specify dtype option on import or set low_memory=False.\n",
      "  exec(code_obj, self.user_global_ns, self.user_ns)\n"
     ]
    }
   ],
   "source": [
    "original_df = pd.read_csv(r\"C:\\Users\\ASUS\\Downloads\\loan_data_2007_2014.csv\",na_values=['.', '??'] )"
   ]
  },
  {
   "cell_type": "code",
   "execution_count": 3,
   "id": "70132329",
   "metadata": {
    "scrolled": true
   },
   "outputs": [
    {
     "data": {
      "text/html": [
       "<div>\n",
       "<style scoped>\n",
       "    .dataframe tbody tr th:only-of-type {\n",
       "        vertical-align: middle;\n",
       "    }\n",
       "\n",
       "    .dataframe tbody tr th {\n",
       "        vertical-align: top;\n",
       "    }\n",
       "\n",
       "    .dataframe thead th {\n",
       "        text-align: right;\n",
       "    }\n",
       "</style>\n",
       "<table border=\"1\" class=\"dataframe\">\n",
       "  <thead>\n",
       "    <tr style=\"text-align: right;\">\n",
       "      <th></th>\n",
       "      <th>Unnamed: 0</th>\n",
       "      <th>id</th>\n",
       "      <th>member_id</th>\n",
       "      <th>loan_amnt</th>\n",
       "      <th>funded_amnt</th>\n",
       "      <th>funded_amnt_inv</th>\n",
       "      <th>term</th>\n",
       "      <th>int_rate</th>\n",
       "      <th>installment</th>\n",
       "      <th>grade</th>\n",
       "      <th>...</th>\n",
       "      <th>total_bal_il</th>\n",
       "      <th>il_util</th>\n",
       "      <th>open_rv_12m</th>\n",
       "      <th>open_rv_24m</th>\n",
       "      <th>max_bal_bc</th>\n",
       "      <th>all_util</th>\n",
       "      <th>total_rev_hi_lim</th>\n",
       "      <th>inq_fi</th>\n",
       "      <th>total_cu_tl</th>\n",
       "      <th>inq_last_12m</th>\n",
       "    </tr>\n",
       "  </thead>\n",
       "  <tbody>\n",
       "    <tr>\n",
       "      <th>0</th>\n",
       "      <td>0</td>\n",
       "      <td>1077501</td>\n",
       "      <td>1296599</td>\n",
       "      <td>5000</td>\n",
       "      <td>5000</td>\n",
       "      <td>4975.0</td>\n",
       "      <td>36 months</td>\n",
       "      <td>10.65</td>\n",
       "      <td>162.87</td>\n",
       "      <td>B</td>\n",
       "      <td>...</td>\n",
       "      <td>NaN</td>\n",
       "      <td>NaN</td>\n",
       "      <td>NaN</td>\n",
       "      <td>NaN</td>\n",
       "      <td>NaN</td>\n",
       "      <td>NaN</td>\n",
       "      <td>NaN</td>\n",
       "      <td>NaN</td>\n",
       "      <td>NaN</td>\n",
       "      <td>NaN</td>\n",
       "    </tr>\n",
       "    <tr>\n",
       "      <th>1</th>\n",
       "      <td>1</td>\n",
       "      <td>1077430</td>\n",
       "      <td>1314167</td>\n",
       "      <td>2500</td>\n",
       "      <td>2500</td>\n",
       "      <td>2500.0</td>\n",
       "      <td>60 months</td>\n",
       "      <td>15.27</td>\n",
       "      <td>59.83</td>\n",
       "      <td>C</td>\n",
       "      <td>...</td>\n",
       "      <td>NaN</td>\n",
       "      <td>NaN</td>\n",
       "      <td>NaN</td>\n",
       "      <td>NaN</td>\n",
       "      <td>NaN</td>\n",
       "      <td>NaN</td>\n",
       "      <td>NaN</td>\n",
       "      <td>NaN</td>\n",
       "      <td>NaN</td>\n",
       "      <td>NaN</td>\n",
       "    </tr>\n",
       "    <tr>\n",
       "      <th>2</th>\n",
       "      <td>2</td>\n",
       "      <td>1077175</td>\n",
       "      <td>1313524</td>\n",
       "      <td>2400</td>\n",
       "      <td>2400</td>\n",
       "      <td>2400.0</td>\n",
       "      <td>36 months</td>\n",
       "      <td>15.96</td>\n",
       "      <td>84.33</td>\n",
       "      <td>C</td>\n",
       "      <td>...</td>\n",
       "      <td>NaN</td>\n",
       "      <td>NaN</td>\n",
       "      <td>NaN</td>\n",
       "      <td>NaN</td>\n",
       "      <td>NaN</td>\n",
       "      <td>NaN</td>\n",
       "      <td>NaN</td>\n",
       "      <td>NaN</td>\n",
       "      <td>NaN</td>\n",
       "      <td>NaN</td>\n",
       "    </tr>\n",
       "    <tr>\n",
       "      <th>3</th>\n",
       "      <td>3</td>\n",
       "      <td>1076863</td>\n",
       "      <td>1277178</td>\n",
       "      <td>10000</td>\n",
       "      <td>10000</td>\n",
       "      <td>10000.0</td>\n",
       "      <td>36 months</td>\n",
       "      <td>13.49</td>\n",
       "      <td>339.31</td>\n",
       "      <td>C</td>\n",
       "      <td>...</td>\n",
       "      <td>NaN</td>\n",
       "      <td>NaN</td>\n",
       "      <td>NaN</td>\n",
       "      <td>NaN</td>\n",
       "      <td>NaN</td>\n",
       "      <td>NaN</td>\n",
       "      <td>NaN</td>\n",
       "      <td>NaN</td>\n",
       "      <td>NaN</td>\n",
       "      <td>NaN</td>\n",
       "    </tr>\n",
       "    <tr>\n",
       "      <th>4</th>\n",
       "      <td>4</td>\n",
       "      <td>1075358</td>\n",
       "      <td>1311748</td>\n",
       "      <td>3000</td>\n",
       "      <td>3000</td>\n",
       "      <td>3000.0</td>\n",
       "      <td>60 months</td>\n",
       "      <td>12.69</td>\n",
       "      <td>67.79</td>\n",
       "      <td>B</td>\n",
       "      <td>...</td>\n",
       "      <td>NaN</td>\n",
       "      <td>NaN</td>\n",
       "      <td>NaN</td>\n",
       "      <td>NaN</td>\n",
       "      <td>NaN</td>\n",
       "      <td>NaN</td>\n",
       "      <td>NaN</td>\n",
       "      <td>NaN</td>\n",
       "      <td>NaN</td>\n",
       "      <td>NaN</td>\n",
       "    </tr>\n",
       "  </tbody>\n",
       "</table>\n",
       "<p>5 rows × 75 columns</p>\n",
       "</div>"
      ],
      "text/plain": [
       "   Unnamed: 0       id  member_id  loan_amnt  funded_amnt  funded_amnt_inv  \\\n",
       "0           0  1077501    1296599       5000         5000           4975.0   \n",
       "1           1  1077430    1314167       2500         2500           2500.0   \n",
       "2           2  1077175    1313524       2400         2400           2400.0   \n",
       "3           3  1076863    1277178      10000        10000          10000.0   \n",
       "4           4  1075358    1311748       3000         3000           3000.0   \n",
       "\n",
       "         term  int_rate  installment grade  ... total_bal_il il_util  \\\n",
       "0   36 months     10.65       162.87     B  ...          NaN     NaN   \n",
       "1   60 months     15.27        59.83     C  ...          NaN     NaN   \n",
       "2   36 months     15.96        84.33     C  ...          NaN     NaN   \n",
       "3   36 months     13.49       339.31     C  ...          NaN     NaN   \n",
       "4   60 months     12.69        67.79     B  ...          NaN     NaN   \n",
       "\n",
       "  open_rv_12m open_rv_24m  max_bal_bc all_util total_rev_hi_lim inq_fi  \\\n",
       "0         NaN         NaN         NaN      NaN              NaN    NaN   \n",
       "1         NaN         NaN         NaN      NaN              NaN    NaN   \n",
       "2         NaN         NaN         NaN      NaN              NaN    NaN   \n",
       "3         NaN         NaN         NaN      NaN              NaN    NaN   \n",
       "4         NaN         NaN         NaN      NaN              NaN    NaN   \n",
       "\n",
       "  total_cu_tl inq_last_12m  \n",
       "0         NaN          NaN  \n",
       "1         NaN          NaN  \n",
       "2         NaN          NaN  \n",
       "3         NaN          NaN  \n",
       "4         NaN          NaN  \n",
       "\n",
       "[5 rows x 75 columns]"
      ]
     },
     "execution_count": 3,
     "metadata": {},
     "output_type": "execute_result"
    }
   ],
   "source": [
    "# membuat copy dataframe\n",
    "df = original_df.copy(deep=True)\n",
    "df.head()"
   ]
  },
  {
   "cell_type": "code",
   "execution_count": 4,
   "id": "cc4775e0",
   "metadata": {},
   "outputs": [
    {
     "data": {
      "text/plain": [
       "Index(['Unnamed: 0', 'id', 'member_id', 'loan_amnt', 'funded_amnt',\n",
       "       'funded_amnt_inv', 'term', 'int_rate', 'installment', 'grade',\n",
       "       'sub_grade', 'emp_title', 'emp_length', 'home_ownership', 'annual_inc',\n",
       "       'verification_status', 'issue_d', 'loan_status', 'pymnt_plan', 'url',\n",
       "       'desc', 'purpose', 'title', 'zip_code', 'addr_state', 'dti',\n",
       "       'delinq_2yrs', 'earliest_cr_line', 'inq_last_6mths',\n",
       "       'mths_since_last_delinq', 'mths_since_last_record', 'open_acc',\n",
       "       'pub_rec', 'revol_bal', 'revol_util', 'total_acc',\n",
       "       'initial_list_status', 'out_prncp', 'out_prncp_inv', 'total_pymnt',\n",
       "       'total_pymnt_inv', 'total_rec_prncp', 'total_rec_int',\n",
       "       'total_rec_late_fee', 'recoveries', 'collection_recovery_fee',\n",
       "       'last_pymnt_d', 'last_pymnt_amnt', 'next_pymnt_d', 'last_credit_pull_d',\n",
       "       'collections_12_mths_ex_med', 'mths_since_last_major_derog',\n",
       "       'policy_code', 'application_type', 'annual_inc_joint', 'dti_joint',\n",
       "       'verification_status_joint', 'acc_now_delinq', 'tot_coll_amt',\n",
       "       'tot_cur_bal', 'open_acc_6m', 'open_il_6m', 'open_il_12m',\n",
       "       'open_il_24m', 'mths_since_rcnt_il', 'total_bal_il', 'il_util',\n",
       "       'open_rv_12m', 'open_rv_24m', 'max_bal_bc', 'all_util',\n",
       "       'total_rev_hi_lim', 'inq_fi', 'total_cu_tl', 'inq_last_12m'],\n",
       "      dtype='object')"
      ]
     },
     "execution_count": 4,
     "metadata": {},
     "output_type": "execute_result"
    }
   ],
   "source": [
    "df.columns"
   ]
  },
  {
   "cell_type": "code",
   "execution_count": 5,
   "id": "6720c3e3",
   "metadata": {},
   "outputs": [],
   "source": [
    "df.drop(['Unnamed: 0','id','funded_amnt','annual_inc_joint', 'dti_joint', 'verification_status_joint', 'open_acc_6m', 'open_il_6m' , 'open_il_12m' , 'open_il_24m', 'mths_since_rcnt_il', 'total_bal_il', 'il_util', 'open_rv_12m', 'open_rv_24m'\n",
    ",'max_bal_bc', 'all_util', 'inq_fi', 'total_cu_tl', 'inq_last_12m'], axis=1, inplace=True)"
   ]
  },
  {
   "cell_type": "markdown",
   "id": "16329578",
   "metadata": {},
   "source": [
    "alasan drop kolom :\n",
    "1. 17 kolom tidak memiliki nilai, setelah cek di excelnya pun hanya berisi whitespace\n",
    "2. kolom yg memuat informasi id dihapus\n",
    "3. funded_amnt dihapus karena isinya sama dengan kolom loan_amnt"
   ]
  },
  {
   "cell_type": "markdown",
   "id": "c63c33de",
   "metadata": {},
   "source": [
    "# Data Preprocessing"
   ]
  },
  {
   "cell_type": "markdown",
   "id": "c66e03c0",
   "metadata": {},
   "source": [
    "Informasi mengenai missing value dan duplikat"
   ]
  },
  {
   "cell_type": "code",
   "execution_count": 6,
   "id": "72a62f58",
   "metadata": {},
   "outputs": [
    {
     "data": {
      "text/plain": [
       "0"
      ]
     },
     "execution_count": 6,
     "metadata": {},
     "output_type": "execute_result"
    }
   ],
   "source": [
    "# Duplicate Rows?\n",
    "df.duplicated().sum()"
   ]
  },
  {
   "cell_type": "code",
   "execution_count": 7,
   "id": "aff320f7",
   "metadata": {},
   "outputs": [
    {
     "data": {
      "text/plain": [
       "member_id                       0.000000\n",
       "loan_amnt                       0.000000\n",
       "funded_amnt_inv                 0.000000\n",
       "term                            0.000000\n",
       "int_rate                        0.000000\n",
       "installment                     0.000000\n",
       "grade                           0.000000\n",
       "sub_grade                       0.000000\n",
       "emp_title                       5.916553\n",
       "emp_length                      4.505399\n",
       "home_ownership                  0.000000\n",
       "annual_inc                      0.000858\n",
       "verification_status             0.000000\n",
       "issue_d                         0.000000\n",
       "loan_status                     0.000000\n",
       "pymnt_plan                      0.000000\n",
       "url                             0.000000\n",
       "desc                           72.981760\n",
       "purpose                         0.000000\n",
       "title                           0.004718\n",
       "zip_code                        0.000000\n",
       "addr_state                      0.000000\n",
       "dti                             0.000000\n",
       "delinq_2yrs                     0.006219\n",
       "earliest_cr_line                0.006219\n",
       "inq_last_6mths                  0.006219\n",
       "mths_since_last_delinq         53.690554\n",
       "mths_since_last_record         86.566585\n",
       "open_acc                        0.006219\n",
       "pub_rec                         0.006219\n",
       "revol_bal                       0.000000\n",
       "revol_util                      0.072917\n",
       "total_acc                       0.006219\n",
       "initial_list_status             0.000000\n",
       "out_prncp                       0.000000\n",
       "out_prncp_inv                   0.000000\n",
       "total_pymnt                     0.000000\n",
       "total_pymnt_inv                 0.000000\n",
       "total_rec_prncp                 0.000000\n",
       "total_rec_int                   0.000000\n",
       "total_rec_late_fee              0.000000\n",
       "recoveries                      0.000000\n",
       "collection_recovery_fee         0.000000\n",
       "last_pymnt_d                    0.080637\n",
       "last_pymnt_amnt                 0.000000\n",
       "next_pymnt_d                   48.728567\n",
       "last_credit_pull_d              0.009007\n",
       "collections_12_mths_ex_med      0.031097\n",
       "mths_since_last_major_derog    78.773926\n",
       "policy_code                     0.000000\n",
       "application_type                0.000000\n",
       "acc_now_delinq                  0.006219\n",
       "tot_coll_amt                   15.071469\n",
       "tot_cur_bal                    15.071469\n",
       "total_rev_hi_lim               15.071469\n",
       "dtype: float64"
      ]
     },
     "execution_count": 7,
     "metadata": {},
     "output_type": "execute_result"
    }
   ],
   "source": [
    "# Missing Value Information in Percentage\n",
    "(100.00 * df.isnull().sum()) / df.shape[0]"
   ]
  },
  {
   "cell_type": "markdown",
   "id": "88ace52d",
   "metadata": {},
   "source": [
    "# Missing values\n",
    "\n",
    "cara mengatasi missing value : membagi dataframe ke dalam 2 kategori. membersihkan masing2 dataframe kemudian melakukan concat untuk menghasilkan dataframe yang sudah bersih."
   ]
  },
  {
   "cell_type": "code",
   "execution_count": 8,
   "id": "2c0df750",
   "metadata": {},
   "outputs": [],
   "source": [
    "# dropping kolom yang nilai missing valuenya di atas 50%\n",
    "df.drop(['desc','mths_since_last_major_derog', 'next_pymnt_d', 'mths_since_last_record', 'mths_since_last_delinq'], axis=1, inplace=True)"
   ]
  },
  {
   "cell_type": "markdown",
   "id": "76878960",
   "metadata": {},
   "source": [
    "# dataframe kolom numerik"
   ]
  },
  {
   "cell_type": "code",
   "execution_count": 9,
   "id": "1dc37810",
   "metadata": {},
   "outputs": [
    {
     "data": {
      "text/html": [
       "<div>\n",
       "<style scoped>\n",
       "    .dataframe tbody tr th:only-of-type {\n",
       "        vertical-align: middle;\n",
       "    }\n",
       "\n",
       "    .dataframe tbody tr th {\n",
       "        vertical-align: top;\n",
       "    }\n",
       "\n",
       "    .dataframe thead th {\n",
       "        text-align: right;\n",
       "    }\n",
       "</style>\n",
       "<table border=\"1\" class=\"dataframe\">\n",
       "  <thead>\n",
       "    <tr style=\"text-align: right;\">\n",
       "      <th></th>\n",
       "      <th>member_id</th>\n",
       "      <th>loan_amnt</th>\n",
       "      <th>funded_amnt_inv</th>\n",
       "      <th>int_rate</th>\n",
       "      <th>installment</th>\n",
       "      <th>annual_inc</th>\n",
       "      <th>dti</th>\n",
       "      <th>delinq_2yrs</th>\n",
       "      <th>inq_last_6mths</th>\n",
       "      <th>open_acc</th>\n",
       "      <th>...</th>\n",
       "      <th>total_rec_late_fee</th>\n",
       "      <th>recoveries</th>\n",
       "      <th>collection_recovery_fee</th>\n",
       "      <th>last_pymnt_amnt</th>\n",
       "      <th>collections_12_mths_ex_med</th>\n",
       "      <th>policy_code</th>\n",
       "      <th>acc_now_delinq</th>\n",
       "      <th>tot_coll_amt</th>\n",
       "      <th>tot_cur_bal</th>\n",
       "      <th>total_rev_hi_lim</th>\n",
       "    </tr>\n",
       "  </thead>\n",
       "  <tbody>\n",
       "    <tr>\n",
       "      <th>0</th>\n",
       "      <td>1296599</td>\n",
       "      <td>5000</td>\n",
       "      <td>4975.0</td>\n",
       "      <td>10.65</td>\n",
       "      <td>162.87</td>\n",
       "      <td>24000.0</td>\n",
       "      <td>27.65</td>\n",
       "      <td>0.0</td>\n",
       "      <td>1.0</td>\n",
       "      <td>3.0</td>\n",
       "      <td>...</td>\n",
       "      <td>0.00</td>\n",
       "      <td>0.00</td>\n",
       "      <td>0.00</td>\n",
       "      <td>171.62</td>\n",
       "      <td>0.0</td>\n",
       "      <td>1</td>\n",
       "      <td>0.0</td>\n",
       "      <td>NaN</td>\n",
       "      <td>NaN</td>\n",
       "      <td>NaN</td>\n",
       "    </tr>\n",
       "    <tr>\n",
       "      <th>1</th>\n",
       "      <td>1314167</td>\n",
       "      <td>2500</td>\n",
       "      <td>2500.0</td>\n",
       "      <td>15.27</td>\n",
       "      <td>59.83</td>\n",
       "      <td>30000.0</td>\n",
       "      <td>1.00</td>\n",
       "      <td>0.0</td>\n",
       "      <td>5.0</td>\n",
       "      <td>3.0</td>\n",
       "      <td>...</td>\n",
       "      <td>0.00</td>\n",
       "      <td>117.08</td>\n",
       "      <td>1.11</td>\n",
       "      <td>119.66</td>\n",
       "      <td>0.0</td>\n",
       "      <td>1</td>\n",
       "      <td>0.0</td>\n",
       "      <td>NaN</td>\n",
       "      <td>NaN</td>\n",
       "      <td>NaN</td>\n",
       "    </tr>\n",
       "    <tr>\n",
       "      <th>2</th>\n",
       "      <td>1313524</td>\n",
       "      <td>2400</td>\n",
       "      <td>2400.0</td>\n",
       "      <td>15.96</td>\n",
       "      <td>84.33</td>\n",
       "      <td>12252.0</td>\n",
       "      <td>8.72</td>\n",
       "      <td>0.0</td>\n",
       "      <td>2.0</td>\n",
       "      <td>2.0</td>\n",
       "      <td>...</td>\n",
       "      <td>0.00</td>\n",
       "      <td>0.00</td>\n",
       "      <td>0.00</td>\n",
       "      <td>649.91</td>\n",
       "      <td>0.0</td>\n",
       "      <td>1</td>\n",
       "      <td>0.0</td>\n",
       "      <td>NaN</td>\n",
       "      <td>NaN</td>\n",
       "      <td>NaN</td>\n",
       "    </tr>\n",
       "    <tr>\n",
       "      <th>3</th>\n",
       "      <td>1277178</td>\n",
       "      <td>10000</td>\n",
       "      <td>10000.0</td>\n",
       "      <td>13.49</td>\n",
       "      <td>339.31</td>\n",
       "      <td>49200.0</td>\n",
       "      <td>20.00</td>\n",
       "      <td>0.0</td>\n",
       "      <td>1.0</td>\n",
       "      <td>10.0</td>\n",
       "      <td>...</td>\n",
       "      <td>16.97</td>\n",
       "      <td>0.00</td>\n",
       "      <td>0.00</td>\n",
       "      <td>357.48</td>\n",
       "      <td>0.0</td>\n",
       "      <td>1</td>\n",
       "      <td>0.0</td>\n",
       "      <td>NaN</td>\n",
       "      <td>NaN</td>\n",
       "      <td>NaN</td>\n",
       "    </tr>\n",
       "    <tr>\n",
       "      <th>4</th>\n",
       "      <td>1311748</td>\n",
       "      <td>3000</td>\n",
       "      <td>3000.0</td>\n",
       "      <td>12.69</td>\n",
       "      <td>67.79</td>\n",
       "      <td>80000.0</td>\n",
       "      <td>17.94</td>\n",
       "      <td>0.0</td>\n",
       "      <td>0.0</td>\n",
       "      <td>15.0</td>\n",
       "      <td>...</td>\n",
       "      <td>0.00</td>\n",
       "      <td>0.00</td>\n",
       "      <td>0.00</td>\n",
       "      <td>67.79</td>\n",
       "      <td>0.0</td>\n",
       "      <td>1</td>\n",
       "      <td>0.0</td>\n",
       "      <td>NaN</td>\n",
       "      <td>NaN</td>\n",
       "      <td>NaN</td>\n",
       "    </tr>\n",
       "  </tbody>\n",
       "</table>\n",
       "<p>5 rows × 30 columns</p>\n",
       "</div>"
      ],
      "text/plain": [
       "   member_id  loan_amnt  funded_amnt_inv  int_rate  installment  annual_inc  \\\n",
       "0    1296599       5000           4975.0     10.65       162.87     24000.0   \n",
       "1    1314167       2500           2500.0     15.27        59.83     30000.0   \n",
       "2    1313524       2400           2400.0     15.96        84.33     12252.0   \n",
       "3    1277178      10000          10000.0     13.49       339.31     49200.0   \n",
       "4    1311748       3000           3000.0     12.69        67.79     80000.0   \n",
       "\n",
       "     dti  delinq_2yrs  inq_last_6mths  open_acc  ...  total_rec_late_fee  \\\n",
       "0  27.65          0.0             1.0       3.0  ...                0.00   \n",
       "1   1.00          0.0             5.0       3.0  ...                0.00   \n",
       "2   8.72          0.0             2.0       2.0  ...                0.00   \n",
       "3  20.00          0.0             1.0      10.0  ...               16.97   \n",
       "4  17.94          0.0             0.0      15.0  ...                0.00   \n",
       "\n",
       "   recoveries  collection_recovery_fee  last_pymnt_amnt  \\\n",
       "0        0.00                     0.00           171.62   \n",
       "1      117.08                     1.11           119.66   \n",
       "2        0.00                     0.00           649.91   \n",
       "3        0.00                     0.00           357.48   \n",
       "4        0.00                     0.00            67.79   \n",
       "\n",
       "   collections_12_mths_ex_med  policy_code  acc_now_delinq  tot_coll_amt  \\\n",
       "0                         0.0            1             0.0           NaN   \n",
       "1                         0.0            1             0.0           NaN   \n",
       "2                         0.0            1             0.0           NaN   \n",
       "3                         0.0            1             0.0           NaN   \n",
       "4                         0.0            1             0.0           NaN   \n",
       "\n",
       "   tot_cur_bal  total_rev_hi_lim  \n",
       "0          NaN               NaN  \n",
       "1          NaN               NaN  \n",
       "2          NaN               NaN  \n",
       "3          NaN               NaN  \n",
       "4          NaN               NaN  \n",
       "\n",
       "[5 rows x 30 columns]"
      ]
     },
     "execution_count": 9,
     "metadata": {},
     "output_type": "execute_result"
    }
   ],
   "source": [
    "df_numerical = df.select_dtypes(include=[\"int\",\"float\"]) #Mengambil kolom yang sifatnya data numerik\n",
    "df_numerical.head()"
   ]
  },
  {
   "cell_type": "code",
   "execution_count": 10,
   "id": "37a13719",
   "metadata": {},
   "outputs": [
    {
     "data": {
      "text/plain": [
       "member_id                      0.000000\n",
       "loan_amnt                      0.000000\n",
       "funded_amnt_inv                0.000000\n",
       "int_rate                       0.000000\n",
       "installment                    0.000000\n",
       "annual_inc                     0.000858\n",
       "dti                            0.000000\n",
       "delinq_2yrs                    0.006219\n",
       "inq_last_6mths                 0.006219\n",
       "open_acc                       0.006219\n",
       "pub_rec                        0.006219\n",
       "revol_bal                      0.000000\n",
       "revol_util                     0.072917\n",
       "total_acc                      0.006219\n",
       "out_prncp                      0.000000\n",
       "out_prncp_inv                  0.000000\n",
       "total_pymnt                    0.000000\n",
       "total_pymnt_inv                0.000000\n",
       "total_rec_prncp                0.000000\n",
       "total_rec_int                  0.000000\n",
       "total_rec_late_fee             0.000000\n",
       "recoveries                     0.000000\n",
       "collection_recovery_fee        0.000000\n",
       "last_pymnt_amnt                0.000000\n",
       "collections_12_mths_ex_med     0.031097\n",
       "policy_code                    0.000000\n",
       "acc_now_delinq                 0.006219\n",
       "tot_coll_amt                  15.071469\n",
       "tot_cur_bal                   15.071469\n",
       "total_rev_hi_lim              15.071469\n",
       "dtype: float64"
      ]
     },
     "execution_count": 10,
     "metadata": {},
     "output_type": "execute_result"
    }
   ],
   "source": [
    "# Missing Value Information in Percentage\n",
    "(100.00 * df_numerical.isnull().sum()) / df_numerical.shape[0]"
   ]
  },
  {
   "cell_type": "markdown",
   "id": "1bae2103",
   "metadata": {},
   "source": [
    "terdapat 3 kolom yang jumlah missing valuenya cukup besar, sekitar 15%"
   ]
  },
  {
   "cell_type": "code",
   "execution_count": 11,
   "id": "70c7a1a0",
   "metadata": {},
   "outputs": [
    {
     "name": "stderr",
     "output_type": "stream",
     "text": [
      "C:\\Users\\ASUS\\anaconda3\\lib\\site-packages\\pandas\\core\\generic.py:6392: SettingWithCopyWarning: \n",
      "A value is trying to be set on a copy of a slice from a DataFrame\n",
      "\n",
      "See the caveats in the documentation: https://pandas.pydata.org/pandas-docs/stable/user_guide/indexing.html#returning-a-view-versus-a-copy\n",
      "  return self._update_inplace(result)\n"
     ]
    }
   ],
   "source": [
    "# mengisi missing value dengan nilai median\n",
    "df_numerical.fillna(df_numerical.median().round(1), inplace=True)"
   ]
  },
  {
   "cell_type": "code",
   "execution_count": 12,
   "id": "21ef4845",
   "metadata": {},
   "outputs": [
    {
     "data": {
      "text/plain": [
       "member_id                     0.0\n",
       "loan_amnt                     0.0\n",
       "funded_amnt_inv               0.0\n",
       "int_rate                      0.0\n",
       "installment                   0.0\n",
       "annual_inc                    0.0\n",
       "dti                           0.0\n",
       "delinq_2yrs                   0.0\n",
       "inq_last_6mths                0.0\n",
       "open_acc                      0.0\n",
       "pub_rec                       0.0\n",
       "revol_bal                     0.0\n",
       "revol_util                    0.0\n",
       "total_acc                     0.0\n",
       "out_prncp                     0.0\n",
       "out_prncp_inv                 0.0\n",
       "total_pymnt                   0.0\n",
       "total_pymnt_inv               0.0\n",
       "total_rec_prncp               0.0\n",
       "total_rec_int                 0.0\n",
       "total_rec_late_fee            0.0\n",
       "recoveries                    0.0\n",
       "collection_recovery_fee       0.0\n",
       "last_pymnt_amnt               0.0\n",
       "collections_12_mths_ex_med    0.0\n",
       "policy_code                   0.0\n",
       "acc_now_delinq                0.0\n",
       "tot_coll_amt                  0.0\n",
       "tot_cur_bal                   0.0\n",
       "total_rev_hi_lim              0.0\n",
       "dtype: float64"
      ]
     },
     "execution_count": 12,
     "metadata": {},
     "output_type": "execute_result"
    }
   ],
   "source": [
    "# cek dan ricek\n",
    "# Missing Value Information in Percentage\n",
    "(100.00 * df_numerical.isnull().sum()) / df_numerical.shape[0]"
   ]
  },
  {
   "cell_type": "markdown",
   "id": "86a70afb",
   "metadata": {},
   "source": [
    "# dataframe kolom kategori"
   ]
  },
  {
   "cell_type": "code",
   "execution_count": 13,
   "id": "c953d365",
   "metadata": {},
   "outputs": [
    {
     "data": {
      "text/html": [
       "<div>\n",
       "<style scoped>\n",
       "    .dataframe tbody tr th:only-of-type {\n",
       "        vertical-align: middle;\n",
       "    }\n",
       "\n",
       "    .dataframe tbody tr th {\n",
       "        vertical-align: top;\n",
       "    }\n",
       "\n",
       "    .dataframe thead th {\n",
       "        text-align: right;\n",
       "    }\n",
       "</style>\n",
       "<table border=\"1\" class=\"dataframe\">\n",
       "  <thead>\n",
       "    <tr style=\"text-align: right;\">\n",
       "      <th></th>\n",
       "      <th>term</th>\n",
       "      <th>grade</th>\n",
       "      <th>sub_grade</th>\n",
       "      <th>emp_title</th>\n",
       "      <th>emp_length</th>\n",
       "      <th>home_ownership</th>\n",
       "      <th>verification_status</th>\n",
       "      <th>issue_d</th>\n",
       "      <th>loan_status</th>\n",
       "      <th>pymnt_plan</th>\n",
       "      <th>url</th>\n",
       "      <th>purpose</th>\n",
       "      <th>title</th>\n",
       "      <th>zip_code</th>\n",
       "      <th>addr_state</th>\n",
       "      <th>earliest_cr_line</th>\n",
       "      <th>initial_list_status</th>\n",
       "      <th>last_pymnt_d</th>\n",
       "      <th>last_credit_pull_d</th>\n",
       "      <th>application_type</th>\n",
       "    </tr>\n",
       "  </thead>\n",
       "  <tbody>\n",
       "    <tr>\n",
       "      <th>0</th>\n",
       "      <td>36 months</td>\n",
       "      <td>B</td>\n",
       "      <td>B2</td>\n",
       "      <td>NaN</td>\n",
       "      <td>10+ years</td>\n",
       "      <td>RENT</td>\n",
       "      <td>Verified</td>\n",
       "      <td>Dec-11</td>\n",
       "      <td>Fully Paid</td>\n",
       "      <td>n</td>\n",
       "      <td>https://www.lendingclub.com/browse/loanDetail....</td>\n",
       "      <td>credit_card</td>\n",
       "      <td>Computer</td>\n",
       "      <td>860xx</td>\n",
       "      <td>AZ</td>\n",
       "      <td>Jan-85</td>\n",
       "      <td>f</td>\n",
       "      <td>Jan-15</td>\n",
       "      <td>Jan-16</td>\n",
       "      <td>INDIVIDUAL</td>\n",
       "    </tr>\n",
       "    <tr>\n",
       "      <th>1</th>\n",
       "      <td>60 months</td>\n",
       "      <td>C</td>\n",
       "      <td>C4</td>\n",
       "      <td>Ryder</td>\n",
       "      <td>&lt; 1 year</td>\n",
       "      <td>RENT</td>\n",
       "      <td>Source Verified</td>\n",
       "      <td>Dec-11</td>\n",
       "      <td>Charged Off</td>\n",
       "      <td>n</td>\n",
       "      <td>https://www.lendingclub.com/browse/loanDetail....</td>\n",
       "      <td>car</td>\n",
       "      <td>bike</td>\n",
       "      <td>309xx</td>\n",
       "      <td>GA</td>\n",
       "      <td>Apr-99</td>\n",
       "      <td>f</td>\n",
       "      <td>Apr-13</td>\n",
       "      <td>Sep-13</td>\n",
       "      <td>INDIVIDUAL</td>\n",
       "    </tr>\n",
       "    <tr>\n",
       "      <th>2</th>\n",
       "      <td>36 months</td>\n",
       "      <td>C</td>\n",
       "      <td>C5</td>\n",
       "      <td>NaN</td>\n",
       "      <td>10+ years</td>\n",
       "      <td>RENT</td>\n",
       "      <td>Not Verified</td>\n",
       "      <td>Dec-11</td>\n",
       "      <td>Fully Paid</td>\n",
       "      <td>n</td>\n",
       "      <td>https://www.lendingclub.com/browse/loanDetail....</td>\n",
       "      <td>small_business</td>\n",
       "      <td>real estate business</td>\n",
       "      <td>606xx</td>\n",
       "      <td>IL</td>\n",
       "      <td>Nov-01</td>\n",
       "      <td>f</td>\n",
       "      <td>Jun-14</td>\n",
       "      <td>Jan-16</td>\n",
       "      <td>INDIVIDUAL</td>\n",
       "    </tr>\n",
       "    <tr>\n",
       "      <th>3</th>\n",
       "      <td>36 months</td>\n",
       "      <td>C</td>\n",
       "      <td>C1</td>\n",
       "      <td>AIR RESOURCES BOARD</td>\n",
       "      <td>10+ years</td>\n",
       "      <td>RENT</td>\n",
       "      <td>Source Verified</td>\n",
       "      <td>Dec-11</td>\n",
       "      <td>Fully Paid</td>\n",
       "      <td>n</td>\n",
       "      <td>https://www.lendingclub.com/browse/loanDetail....</td>\n",
       "      <td>other</td>\n",
       "      <td>personel</td>\n",
       "      <td>917xx</td>\n",
       "      <td>CA</td>\n",
       "      <td>Feb-96</td>\n",
       "      <td>f</td>\n",
       "      <td>Jan-15</td>\n",
       "      <td>Jan-15</td>\n",
       "      <td>INDIVIDUAL</td>\n",
       "    </tr>\n",
       "    <tr>\n",
       "      <th>4</th>\n",
       "      <td>60 months</td>\n",
       "      <td>B</td>\n",
       "      <td>B5</td>\n",
       "      <td>University Medical Group</td>\n",
       "      <td>1 year</td>\n",
       "      <td>RENT</td>\n",
       "      <td>Source Verified</td>\n",
       "      <td>Dec-11</td>\n",
       "      <td>Current</td>\n",
       "      <td>n</td>\n",
       "      <td>https://www.lendingclub.com/browse/loanDetail....</td>\n",
       "      <td>other</td>\n",
       "      <td>Personal</td>\n",
       "      <td>972xx</td>\n",
       "      <td>OR</td>\n",
       "      <td>Jan-96</td>\n",
       "      <td>f</td>\n",
       "      <td>Jan-16</td>\n",
       "      <td>Jan-16</td>\n",
       "      <td>INDIVIDUAL</td>\n",
       "    </tr>\n",
       "  </tbody>\n",
       "</table>\n",
       "</div>"
      ],
      "text/plain": [
       "         term grade sub_grade                 emp_title emp_length  \\\n",
       "0   36 months     B        B2                       NaN  10+ years   \n",
       "1   60 months     C        C4                     Ryder   < 1 year   \n",
       "2   36 months     C        C5                       NaN  10+ years   \n",
       "3   36 months     C        C1       AIR RESOURCES BOARD  10+ years   \n",
       "4   60 months     B        B5  University Medical Group     1 year   \n",
       "\n",
       "  home_ownership verification_status issue_d  loan_status pymnt_plan  \\\n",
       "0           RENT            Verified  Dec-11   Fully Paid          n   \n",
       "1           RENT     Source Verified  Dec-11  Charged Off          n   \n",
       "2           RENT        Not Verified  Dec-11   Fully Paid          n   \n",
       "3           RENT     Source Verified  Dec-11   Fully Paid          n   \n",
       "4           RENT     Source Verified  Dec-11      Current          n   \n",
       "\n",
       "                                                 url         purpose  \\\n",
       "0  https://www.lendingclub.com/browse/loanDetail....     credit_card   \n",
       "1  https://www.lendingclub.com/browse/loanDetail....             car   \n",
       "2  https://www.lendingclub.com/browse/loanDetail....  small_business   \n",
       "3  https://www.lendingclub.com/browse/loanDetail....           other   \n",
       "4  https://www.lendingclub.com/browse/loanDetail....           other   \n",
       "\n",
       "                  title zip_code addr_state earliest_cr_line  \\\n",
       "0              Computer    860xx         AZ           Jan-85   \n",
       "1                  bike    309xx         GA           Apr-99   \n",
       "2  real estate business    606xx         IL           Nov-01   \n",
       "3              personel    917xx         CA           Feb-96   \n",
       "4              Personal    972xx         OR           Jan-96   \n",
       "\n",
       "  initial_list_status last_pymnt_d last_credit_pull_d application_type  \n",
       "0                   f       Jan-15             Jan-16       INDIVIDUAL  \n",
       "1                   f       Apr-13             Sep-13       INDIVIDUAL  \n",
       "2                   f       Jun-14             Jan-16       INDIVIDUAL  \n",
       "3                   f       Jan-15             Jan-15       INDIVIDUAL  \n",
       "4                   f       Jan-16             Jan-16       INDIVIDUAL  "
      ]
     },
     "execution_count": 13,
     "metadata": {},
     "output_type": "execute_result"
    }
   ],
   "source": [
    "df_categorical = df.select_dtypes(exclude=[\"int\",\"float\"])\n",
    "df_categorical.head()"
   ]
  },
  {
   "cell_type": "code",
   "execution_count": 14,
   "id": "5cee9026",
   "metadata": {},
   "outputs": [
    {
     "data": {
      "text/plain": [
       "term                   0.000000\n",
       "grade                  0.000000\n",
       "sub_grade              0.000000\n",
       "emp_title              5.916553\n",
       "emp_length             4.505399\n",
       "home_ownership         0.000000\n",
       "verification_status    0.000000\n",
       "issue_d                0.000000\n",
       "loan_status            0.000000\n",
       "pymnt_plan             0.000000\n",
       "url                    0.000000\n",
       "purpose                0.000000\n",
       "title                  0.004718\n",
       "zip_code               0.000000\n",
       "addr_state             0.000000\n",
       "earliest_cr_line       0.006219\n",
       "initial_list_status    0.000000\n",
       "last_pymnt_d           0.080637\n",
       "last_credit_pull_d     0.009007\n",
       "application_type       0.000000\n",
       "dtype: float64"
      ]
     },
     "execution_count": 14,
     "metadata": {},
     "output_type": "execute_result"
    }
   ],
   "source": [
    "# Missing Value Information in Percentage\n",
    "(100.00 * df_categorical.isnull().sum()) / df_categorical.shape[0]"
   ]
  },
  {
   "cell_type": "markdown",
   "id": "a980bea2",
   "metadata": {},
   "source": [
    "terlihat pada data bertipe kategori, jumlah missing value tidak ada yang lebih dari 6 persen."
   ]
  },
  {
   "cell_type": "code",
   "execution_count": 15,
   "id": "c6cf3bd3",
   "metadata": {},
   "outputs": [
    {
     "name": "stderr",
     "output_type": "stream",
     "text": [
      "C:\\Users\\ASUS\\anaconda3\\lib\\site-packages\\pandas\\core\\generic.py:6392: SettingWithCopyWarning: \n",
      "A value is trying to be set on a copy of a slice from a DataFrame\n",
      "\n",
      "See the caveats in the documentation: https://pandas.pydata.org/pandas-docs/stable/user_guide/indexing.html#returning-a-view-versus-a-copy\n",
      "  return self._update_inplace(result)\n"
     ]
    },
    {
     "name": "stdout",
     "output_type": "stream",
     "text": [
      "              term grade sub_grade                              emp_title  \\\n",
      "0        36 months     B        B2                                Teacher   \n",
      "1        60 months     C        C4                                  Ryder   \n",
      "2        36 months     C        C5                                Teacher   \n",
      "3        36 months     C        C1                    AIR RESOURCES BOARD   \n",
      "4        60 months     B        B5               University Medical Group   \n",
      "...            ...   ...       ...                                    ...   \n",
      "466280   60 months     C        C2                     Financial Advisor    \n",
      "466281   60 months     D        D5  Chief of Interpretation (Park Ranger)   \n",
      "466282   60 months     D        D1                                 patrol   \n",
      "466283   36 months     A        A4                   Server Engineer Lead   \n",
      "466284   36 months     D        D3                                Teacher   \n",
      "\n",
      "       emp_length home_ownership verification_status issue_d  loan_status  \\\n",
      "0       10+ years           RENT            Verified  Dec-11   Fully Paid   \n",
      "1        < 1 year           RENT     Source Verified  Dec-11  Charged Off   \n",
      "2       10+ years           RENT        Not Verified  Dec-11   Fully Paid   \n",
      "3       10+ years           RENT     Source Verified  Dec-11   Fully Paid   \n",
      "4          1 year           RENT     Source Verified  Dec-11      Current   \n",
      "...           ...            ...                 ...     ...          ...   \n",
      "466280    4 years       MORTGAGE     Source Verified  Jan-14      Current   \n",
      "466281  10+ years       MORTGAGE            Verified  Jan-14  Charged Off   \n",
      "466282    7 years       MORTGAGE            Verified  Jan-14      Current   \n",
      "466283    3 years            OWN            Verified  Jan-14   Fully Paid   \n",
      "466284  10+ years       MORTGAGE            Verified  Jan-14      Current   \n",
      "\n",
      "       pymnt_plan                                                url  \\\n",
      "0               n  https://www.lendingclub.com/browse/loanDetail....   \n",
      "1               n  https://www.lendingclub.com/browse/loanDetail....   \n",
      "2               n  https://www.lendingclub.com/browse/loanDetail....   \n",
      "3               n  https://www.lendingclub.com/browse/loanDetail....   \n",
      "4               n  https://www.lendingclub.com/browse/loanDetail....   \n",
      "...           ...                                                ...   \n",
      "466280          n  https://www.lendingclub.com/browse/loanDetail....   \n",
      "466281          n  https://www.lendingclub.com/browse/loanDetail....   \n",
      "466282          n  https://www.lendingclub.com/browse/loanDetail....   \n",
      "466283          n  https://www.lendingclub.com/browse/loanDetail....   \n",
      "466284          n  https://www.lendingclub.com/browse/loanDetail....   \n",
      "\n",
      "                   purpose                    title zip_code addr_state  \\\n",
      "0              credit_card                 Computer    860xx         AZ   \n",
      "1                      car                     bike    309xx         GA   \n",
      "2           small_business     real estate business    606xx         IL   \n",
      "3                    other                 personel    917xx         CA   \n",
      "4                    other                 Personal    972xx         OR   \n",
      "...                    ...                      ...      ...        ...   \n",
      "466280  debt_consolidation       Debt consolidation    773xx         TX   \n",
      "466281  debt_consolidation       Debt consolidation    377xx         TN   \n",
      "466282  debt_consolidation       Debt consolidation    458xx         OH   \n",
      "466283         credit_card  Credit card refinancing    913xx         CA   \n",
      "466284               other                    Other    950xx         CA   \n",
      "\n",
      "       earliest_cr_line initial_list_status last_pymnt_d last_credit_pull_d  \\\n",
      "0                Jan-85                   f       Jan-15             Jan-16   \n",
      "1                Apr-99                   f       Apr-13             Sep-13   \n",
      "2                Nov-01                   f       Jun-14             Jan-16   \n",
      "3                Feb-96                   f       Jan-15             Jan-15   \n",
      "4                Jan-96                   f       Jan-16             Jan-16   \n",
      "...                 ...                 ...          ...                ...   \n",
      "466280           Apr-03                   w       Jan-16             Jan-16   \n",
      "466281           Jun-97                   f       Dec-14             Jan-16   \n",
      "466282           Dec-01                   f       Jan-16             Dec-15   \n",
      "466283           Feb-03                   w       Dec-14             Apr-15   \n",
      "466284           Feb-00                   f       Jan-16             Jan-16   \n",
      "\n",
      "       application_type  \n",
      "0            INDIVIDUAL  \n",
      "1            INDIVIDUAL  \n",
      "2            INDIVIDUAL  \n",
      "3            INDIVIDUAL  \n",
      "4            INDIVIDUAL  \n",
      "...                 ...  \n",
      "466280       INDIVIDUAL  \n",
      "466281       INDIVIDUAL  \n",
      "466282       INDIVIDUAL  \n",
      "466283       INDIVIDUAL  \n",
      "466284       INDIVIDUAL  \n",
      "\n",
      "[466285 rows x 20 columns]\n"
     ]
    }
   ],
   "source": [
    "for i in df_categorical.columns:\n",
    " df_categorical[i].fillna(df_categorical[i].mode()[0], inplace=True)\n",
    "print(df_categorical)"
   ]
  },
  {
   "cell_type": "code",
   "execution_count": 16,
   "id": "b6fa16f4",
   "metadata": {},
   "outputs": [
    {
     "data": {
      "text/plain": [
       "term                   0.0\n",
       "grade                  0.0\n",
       "sub_grade              0.0\n",
       "emp_title              0.0\n",
       "emp_length             0.0\n",
       "home_ownership         0.0\n",
       "verification_status    0.0\n",
       "issue_d                0.0\n",
       "loan_status            0.0\n",
       "pymnt_plan             0.0\n",
       "url                    0.0\n",
       "purpose                0.0\n",
       "title                  0.0\n",
       "zip_code               0.0\n",
       "addr_state             0.0\n",
       "earliest_cr_line       0.0\n",
       "initial_list_status    0.0\n",
       "last_pymnt_d           0.0\n",
       "last_credit_pull_d     0.0\n",
       "application_type       0.0\n",
       "dtype: float64"
      ]
     },
     "execution_count": 16,
     "metadata": {},
     "output_type": "execute_result"
    }
   ],
   "source": [
    "# cek dan ricek\n",
    "# Missing Value Information in Percentage\n",
    "(100.00 * df_categorical.isnull().sum()) / df_categorical.shape[0]"
   ]
  },
  {
   "cell_type": "code",
   "execution_count": 17,
   "id": "a266bf74",
   "metadata": {},
   "outputs": [
    {
     "data": {
      "text/plain": [
       "term                        2\n",
       "grade                       7\n",
       "sub_grade                  35\n",
       "emp_title              205475\n",
       "emp_length                 11\n",
       "home_ownership              6\n",
       "verification_status         3\n",
       "issue_d                    91\n",
       "loan_status                 9\n",
       "pymnt_plan                  2\n",
       "url                    466285\n",
       "purpose                    14\n",
       "title                   63098\n",
       "zip_code                  888\n",
       "addr_state                 50\n",
       "earliest_cr_line          664\n",
       "initial_list_status         2\n",
       "last_pymnt_d               98\n",
       "last_credit_pull_d        103\n",
       "application_type            1\n",
       "dtype: int64"
      ]
     },
     "execution_count": 17,
     "metadata": {},
     "output_type": "execute_result"
    }
   ],
   "source": [
    "df_categorical.select_dtypes('object').apply(pd.Series.nunique, axis = 0)"
   ]
  },
  {
   "cell_type": "code",
   "execution_count": 18,
   "id": "ef6011b0",
   "metadata": {},
   "outputs": [
    {
     "name": "stderr",
     "output_type": "stream",
     "text": [
      "C:\\Users\\ASUS\\anaconda3\\lib\\site-packages\\pandas\\core\\frame.py:4906: SettingWithCopyWarning: \n",
      "A value is trying to be set on a copy of a slice from a DataFrame\n",
      "\n",
      "See the caveats in the documentation: https://pandas.pydata.org/pandas-docs/stable/user_guide/indexing.html#returning-a-view-versus-a-copy\n",
      "  return super().drop(\n"
     ]
    }
   ],
   "source": [
    "# drop kolom yang nilai unique valuenya terlalu banyak\n",
    "df_categorical.drop(['url','title','zip_code','emp_title'], axis=1, inplace=True)"
   ]
  },
  {
   "cell_type": "code",
   "execution_count": 19,
   "id": "56182659",
   "metadata": {},
   "outputs": [
    {
     "data": {
      "text/html": [
       "<div>\n",
       "<style scoped>\n",
       "    .dataframe tbody tr th:only-of-type {\n",
       "        vertical-align: middle;\n",
       "    }\n",
       "\n",
       "    .dataframe tbody tr th {\n",
       "        vertical-align: top;\n",
       "    }\n",
       "\n",
       "    .dataframe thead th {\n",
       "        text-align: right;\n",
       "    }\n",
       "</style>\n",
       "<table border=\"1\" class=\"dataframe\">\n",
       "  <thead>\n",
       "    <tr style=\"text-align: right;\">\n",
       "      <th></th>\n",
       "      <th>member_id</th>\n",
       "      <th>loan_amnt</th>\n",
       "      <th>funded_amnt_inv</th>\n",
       "      <th>int_rate</th>\n",
       "      <th>installment</th>\n",
       "      <th>annual_inc</th>\n",
       "      <th>dti</th>\n",
       "      <th>delinq_2yrs</th>\n",
       "      <th>inq_last_6mths</th>\n",
       "      <th>open_acc</th>\n",
       "      <th>...</th>\n",
       "      <th>issue_d</th>\n",
       "      <th>loan_status</th>\n",
       "      <th>pymnt_plan</th>\n",
       "      <th>purpose</th>\n",
       "      <th>addr_state</th>\n",
       "      <th>earliest_cr_line</th>\n",
       "      <th>initial_list_status</th>\n",
       "      <th>last_pymnt_d</th>\n",
       "      <th>last_credit_pull_d</th>\n",
       "      <th>application_type</th>\n",
       "    </tr>\n",
       "  </thead>\n",
       "  <tbody>\n",
       "    <tr>\n",
       "      <th>0</th>\n",
       "      <td>1296599</td>\n",
       "      <td>5000</td>\n",
       "      <td>4975.0</td>\n",
       "      <td>10.65</td>\n",
       "      <td>162.87</td>\n",
       "      <td>24000.0</td>\n",
       "      <td>27.65</td>\n",
       "      <td>0.0</td>\n",
       "      <td>1.0</td>\n",
       "      <td>3.0</td>\n",
       "      <td>...</td>\n",
       "      <td>Dec-11</td>\n",
       "      <td>Fully Paid</td>\n",
       "      <td>n</td>\n",
       "      <td>credit_card</td>\n",
       "      <td>AZ</td>\n",
       "      <td>Jan-85</td>\n",
       "      <td>f</td>\n",
       "      <td>Jan-15</td>\n",
       "      <td>Jan-16</td>\n",
       "      <td>INDIVIDUAL</td>\n",
       "    </tr>\n",
       "    <tr>\n",
       "      <th>1</th>\n",
       "      <td>1314167</td>\n",
       "      <td>2500</td>\n",
       "      <td>2500.0</td>\n",
       "      <td>15.27</td>\n",
       "      <td>59.83</td>\n",
       "      <td>30000.0</td>\n",
       "      <td>1.00</td>\n",
       "      <td>0.0</td>\n",
       "      <td>5.0</td>\n",
       "      <td>3.0</td>\n",
       "      <td>...</td>\n",
       "      <td>Dec-11</td>\n",
       "      <td>Charged Off</td>\n",
       "      <td>n</td>\n",
       "      <td>car</td>\n",
       "      <td>GA</td>\n",
       "      <td>Apr-99</td>\n",
       "      <td>f</td>\n",
       "      <td>Apr-13</td>\n",
       "      <td>Sep-13</td>\n",
       "      <td>INDIVIDUAL</td>\n",
       "    </tr>\n",
       "    <tr>\n",
       "      <th>2</th>\n",
       "      <td>1313524</td>\n",
       "      <td>2400</td>\n",
       "      <td>2400.0</td>\n",
       "      <td>15.96</td>\n",
       "      <td>84.33</td>\n",
       "      <td>12252.0</td>\n",
       "      <td>8.72</td>\n",
       "      <td>0.0</td>\n",
       "      <td>2.0</td>\n",
       "      <td>2.0</td>\n",
       "      <td>...</td>\n",
       "      <td>Dec-11</td>\n",
       "      <td>Fully Paid</td>\n",
       "      <td>n</td>\n",
       "      <td>small_business</td>\n",
       "      <td>IL</td>\n",
       "      <td>Nov-01</td>\n",
       "      <td>f</td>\n",
       "      <td>Jun-14</td>\n",
       "      <td>Jan-16</td>\n",
       "      <td>INDIVIDUAL</td>\n",
       "    </tr>\n",
       "    <tr>\n",
       "      <th>3</th>\n",
       "      <td>1277178</td>\n",
       "      <td>10000</td>\n",
       "      <td>10000.0</td>\n",
       "      <td>13.49</td>\n",
       "      <td>339.31</td>\n",
       "      <td>49200.0</td>\n",
       "      <td>20.00</td>\n",
       "      <td>0.0</td>\n",
       "      <td>1.0</td>\n",
       "      <td>10.0</td>\n",
       "      <td>...</td>\n",
       "      <td>Dec-11</td>\n",
       "      <td>Fully Paid</td>\n",
       "      <td>n</td>\n",
       "      <td>other</td>\n",
       "      <td>CA</td>\n",
       "      <td>Feb-96</td>\n",
       "      <td>f</td>\n",
       "      <td>Jan-15</td>\n",
       "      <td>Jan-15</td>\n",
       "      <td>INDIVIDUAL</td>\n",
       "    </tr>\n",
       "    <tr>\n",
       "      <th>4</th>\n",
       "      <td>1311748</td>\n",
       "      <td>3000</td>\n",
       "      <td>3000.0</td>\n",
       "      <td>12.69</td>\n",
       "      <td>67.79</td>\n",
       "      <td>80000.0</td>\n",
       "      <td>17.94</td>\n",
       "      <td>0.0</td>\n",
       "      <td>0.0</td>\n",
       "      <td>15.0</td>\n",
       "      <td>...</td>\n",
       "      <td>Dec-11</td>\n",
       "      <td>Current</td>\n",
       "      <td>n</td>\n",
       "      <td>other</td>\n",
       "      <td>OR</td>\n",
       "      <td>Jan-96</td>\n",
       "      <td>f</td>\n",
       "      <td>Jan-16</td>\n",
       "      <td>Jan-16</td>\n",
       "      <td>INDIVIDUAL</td>\n",
       "    </tr>\n",
       "  </tbody>\n",
       "</table>\n",
       "<p>5 rows × 46 columns</p>\n",
       "</div>"
      ],
      "text/plain": [
       "   member_id  loan_amnt  funded_amnt_inv  int_rate  installment  annual_inc  \\\n",
       "0    1296599       5000           4975.0     10.65       162.87     24000.0   \n",
       "1    1314167       2500           2500.0     15.27        59.83     30000.0   \n",
       "2    1313524       2400           2400.0     15.96        84.33     12252.0   \n",
       "3    1277178      10000          10000.0     13.49       339.31     49200.0   \n",
       "4    1311748       3000           3000.0     12.69        67.79     80000.0   \n",
       "\n",
       "     dti  delinq_2yrs  inq_last_6mths  open_acc  ...  issue_d  loan_status  \\\n",
       "0  27.65          0.0             1.0       3.0  ...   Dec-11   Fully Paid   \n",
       "1   1.00          0.0             5.0       3.0  ...   Dec-11  Charged Off   \n",
       "2   8.72          0.0             2.0       2.0  ...   Dec-11   Fully Paid   \n",
       "3  20.00          0.0             1.0      10.0  ...   Dec-11   Fully Paid   \n",
       "4  17.94          0.0             0.0      15.0  ...   Dec-11      Current   \n",
       "\n",
       "   pymnt_plan         purpose  addr_state  earliest_cr_line  \\\n",
       "0           n     credit_card          AZ            Jan-85   \n",
       "1           n             car          GA            Apr-99   \n",
       "2           n  small_business          IL            Nov-01   \n",
       "3           n           other          CA            Feb-96   \n",
       "4           n           other          OR            Jan-96   \n",
       "\n",
       "   initial_list_status  last_pymnt_d  last_credit_pull_d  application_type  \n",
       "0                    f        Jan-15              Jan-16        INDIVIDUAL  \n",
       "1                    f        Apr-13              Sep-13        INDIVIDUAL  \n",
       "2                    f        Jun-14              Jan-16        INDIVIDUAL  \n",
       "3                    f        Jan-15              Jan-15        INDIVIDUAL  \n",
       "4                    f        Jan-16              Jan-16        INDIVIDUAL  \n",
       "\n",
       "[5 rows x 46 columns]"
      ]
     },
     "execution_count": 19,
     "metadata": {},
     "output_type": "execute_result"
    }
   ],
   "source": [
    "# Finalize (combine both numerical and categorical data frame using concat)\n",
    "# Concat axis 1 --> Column\n",
    "# Concat axis 0 --> Row\n",
    "df = pd.concat([df_numerical,df_categorical],axis=1)\n",
    "df.head()"
   ]
  },
  {
   "cell_type": "code",
   "execution_count": 20,
   "id": "76a351d7",
   "metadata": {},
   "outputs": [
    {
     "name": "stdout",
     "output_type": "stream",
     "text": [
      "<class 'pandas.core.frame.DataFrame'>\n",
      "RangeIndex: 466285 entries, 0 to 466284\n",
      "Data columns (total 46 columns):\n",
      " #   Column                      Non-Null Count   Dtype  \n",
      "---  ------                      --------------   -----  \n",
      " 0   member_id                   466285 non-null  int64  \n",
      " 1   loan_amnt                   466285 non-null  int64  \n",
      " 2   funded_amnt_inv             466285 non-null  float64\n",
      " 3   int_rate                    466285 non-null  float64\n",
      " 4   installment                 466285 non-null  float64\n",
      " 5   annual_inc                  466285 non-null  float64\n",
      " 6   dti                         466285 non-null  float64\n",
      " 7   delinq_2yrs                 466285 non-null  float64\n",
      " 8   inq_last_6mths              466285 non-null  float64\n",
      " 9   open_acc                    466285 non-null  float64\n",
      " 10  pub_rec                     466285 non-null  float64\n",
      " 11  revol_bal                   466285 non-null  int64  \n",
      " 12  revol_util                  466285 non-null  float64\n",
      " 13  total_acc                   466285 non-null  float64\n",
      " 14  out_prncp                   466285 non-null  float64\n",
      " 15  out_prncp_inv               466285 non-null  float64\n",
      " 16  total_pymnt                 466285 non-null  float64\n",
      " 17  total_pymnt_inv             466285 non-null  float64\n",
      " 18  total_rec_prncp             466285 non-null  float64\n",
      " 19  total_rec_int               466285 non-null  float64\n",
      " 20  total_rec_late_fee          466285 non-null  float64\n",
      " 21  recoveries                  466285 non-null  float64\n",
      " 22  collection_recovery_fee     466285 non-null  float64\n",
      " 23  last_pymnt_amnt             466285 non-null  float64\n",
      " 24  collections_12_mths_ex_med  466285 non-null  float64\n",
      " 25  policy_code                 466285 non-null  int64  \n",
      " 26  acc_now_delinq              466285 non-null  float64\n",
      " 27  tot_coll_amt                466285 non-null  float64\n",
      " 28  tot_cur_bal                 466285 non-null  float64\n",
      " 29  total_rev_hi_lim            466285 non-null  float64\n",
      " 30  term                        466285 non-null  object \n",
      " 31  grade                       466285 non-null  object \n",
      " 32  sub_grade                   466285 non-null  object \n",
      " 33  emp_length                  466285 non-null  object \n",
      " 34  home_ownership              466285 non-null  object \n",
      " 35  verification_status         466285 non-null  object \n",
      " 36  issue_d                     466285 non-null  object \n",
      " 37  loan_status                 466285 non-null  object \n",
      " 38  pymnt_plan                  466285 non-null  object \n",
      " 39  purpose                     466285 non-null  object \n",
      " 40  addr_state                  466285 non-null  object \n",
      " 41  earliest_cr_line            466285 non-null  object \n",
      " 42  initial_list_status         466285 non-null  object \n",
      " 43  last_pymnt_d                466285 non-null  object \n",
      " 44  last_credit_pull_d          466285 non-null  object \n",
      " 45  application_type            466285 non-null  object \n",
      "dtypes: float64(26), int64(4), object(16)\n",
      "memory usage: 163.6+ MB\n"
     ]
    }
   ],
   "source": [
    "df.shape\n",
    "df.info()"
   ]
  },
  {
   "cell_type": "code",
   "execution_count": 21,
   "id": "d121ee33",
   "metadata": {},
   "outputs": [],
   "source": [
    "df.drop('member_id', axis=1,inplace=True)"
   ]
  },
  {
   "cell_type": "markdown",
   "id": "c50b95bf",
   "metadata": {},
   "source": [
    "# handling outlier"
   ]
  },
  {
   "cell_type": "markdown",
   "id": "c4b8fbb9",
   "metadata": {},
   "source": [
    "a. Sigma Rule for Outlier Management\n",
    "When to remove outlier:\n",
    "\n",
    "1. Data collection process is affordable / not pricey\n",
    "2. Be careful to delete medical data\n",
    "3. Data range is unimaginably high (far from the normal state)\n",
    "   Normal human height ranging from 140 - 180. When you find a human height > 300 cm, its not normal.\n",
    "4. Data is enough (Not applied on a small-sized dataset)\n",
    "5. Won't remove >= 25% of all rows\n",
    "6. Won't change the distribution/characteristic of all features\n",
    "   Let say you have human height and continent features. You find that the average height is around 160 on all regions except      Europe (average > 175). You accidentally remove the european user data because you think that the height is outlier. This is    a malpractice of outlier removal. You will lose the characteristic from european data once you consider their height are        outliers."
   ]
  },
  {
   "cell_type": "code",
   "execution_count": 65,
   "id": "c4c1ecab",
   "metadata": {},
   "outputs": [],
   "source": [
    "import itertools\n",
    "\n",
    "def remove_outliers(df,verbose=True,keep=[],imputation=\"median\"):\n",
    "    \"\"\"\n",
    "    Version 1.04: Add imputation method\n",
    "    \n",
    "    Version 1.03: Add 'Keep' on Hyperparameter\n",
    "    \n",
    "    Function to remove outlier by iteration\n",
    "    Using Lower Bound Q1 - 1.5 IQR and Upper Bound Q3 + 1.5 IQR\n",
    "    \n",
    "    Version 2 Update: Add exception for categorical data type\n",
    "    \"\"\"\n",
    "    \n",
    "    outlier_presence = True\n",
    "    temp_df = df.copy()\n",
    "    iteration = 0\n",
    "    first_length = temp_df.shape[0]\n",
    "    \n",
    "    all_columns = [x for x in temp_df.columns if x not in keep]\n",
    "    \n",
    "    # Iteration\n",
    "    while outlier_presence:\n",
    "        iteration += 1\n",
    "        list_all_outlier = {}\n",
    "        # Detect all outliers in all columns\n",
    "        for col in all_columns:\n",
    "            if temp_df[col].dtypes in ['float64','int64']:\n",
    "                # Imputation Method\n",
    "                if imputation == \"mean\":\n",
    "                    temp_df_imputation = temp_df[col].fillna(temp_df[col].mean())\n",
    "                elif imputation == \"median\":\n",
    "                    temp_df_imputation = temp_df[col].fillna(temp_df[col].median())\n",
    "                elif imputation == \"mode\":\n",
    "                    temp_df_imputation = temp_df[col].fillna(temp_df[col].mode())\n",
    "                else:\n",
    "                    temp_df_imputation = temp_df[col].fillna(temp_df[col].median())\n",
    "                    \n",
    "                temp_value = temp_df_imputation.tolist()\n",
    "                # Calculate Q1, Q3, and IQR\n",
    "                q1 = np.quantile(temp_value,0.25)\n",
    "                q3 = np.quantile(temp_value,0.75)\n",
    "                iqr = q3 - q1\n",
    "                # Create the lower & upper bound \n",
    "                lower_bound = q1 - 1.5*iqr\n",
    "                upper_bound = q3 + 1.5*iqr\n",
    "                # Create empty list\n",
    "                outlier_index = []\n",
    "                # Iterate every column values\n",
    "                for index,value in enumerate(temp_value):\n",
    "                    if lower_bound <= value <= upper_bound:\n",
    "                        # Do nothing when the column value inside the safe boundary\n",
    "                        continue\n",
    "                    else:\n",
    "                        # Append the index when the value is out of safe boundary as an outlier\n",
    "                        outlier_index.append(index)\n",
    "                # Store the result to a dictionary\n",
    "                list_all_outlier[col] = outlier_index\n",
    "\n",
    "        list_of_outliers = list(itertools.chain(*list_all_outlier.values()))\n",
    "        list_of_outliers = list(set(list_of_outliers)) #Unique \n",
    "        if verbose:\n",
    "            print(f\"Iteration {iteration}, {len(list_of_outliers)} rows dropped\")\n",
    "        temp_df = temp_df.drop(list_of_outliers,axis=0).reset_index(drop=True)\n",
    "        if len(list_of_outliers) == 0 or temp_df.shape[0] < 100:\n",
    "            if verbose:\n",
    "                print(f\"Rows dropped from {first_length} to {temp_df.shape[0]}\")\n",
    "            break\n",
    "    return(temp_df)"
   ]
  },
  {
   "cell_type": "code",
   "execution_count": 66,
   "id": "2b93a1a6",
   "metadata": {},
   "outputs": [
    {
     "name": "stdout",
     "output_type": "stream",
     "text": [
      "Iteration 1, 466285 rows dropped\n",
      "Rows dropped from 466285 to 0\n"
     ]
    },
    {
     "data": {
      "image/png": "[encoded data removed]",
      "text/plain": [
       "<Figure size 1152x576 with 1 Axes>"
      ]
     },
     "metadata": {
      "needs_background": "light"
     },
     "output_type": "display_data"
    }
   ],
   "source": [
    "import matplotlib.pyplot as plt\n",
    "df_clean = remove_outliers(df)\n",
    "\n",
    "# Make the same plot\n",
    "plt.figure(figsize=(16, 8))\n",
    "\n",
    "# Create Boxplot\n",
    "df_clean.boxplot(vert=False)\n",
    "plt.subplots_adjust(left=0.25)\n",
    "plt.show()"
   ]
  },
  {
   "cell_type": "code",
   "execution_count": null,
   "id": "69ab5afe",
   "metadata": {},
   "outputs": [],
   "source": [
    "# terlalu banyak jumlah baris yang dihilangkan, sehingga df_clean tidak dipakai\n",
    "df.shape"
   ]
  },
  {
   "cell_type": "code",
   "execution_count": null,
   "id": "a2bac39b",
   "metadata": {},
   "outputs": [],
   "source": [
    "df.isna().sum()"
   ]
  },
  {
   "cell_type": "markdown",
   "id": "c911f7e9",
   "metadata": {},
   "source": [
    "# menentukan kolom target"
   ]
  },
  {
   "cell_type": "code",
   "execution_count": 22,
   "id": "a91c29e6",
   "metadata": {},
   "outputs": [
    {
     "data": {
      "text/plain": [
       "0    465453\n",
       "1       832\n",
       "Name: TARGET, dtype: int64"
      ]
     },
     "execution_count": 22,
     "metadata": {},
     "output_type": "execute_result"
    }
   ],
   "source": [
    "target_list = [1 if i=='Default' else 0 for i in df['loan_status']]\n",
    "\n",
    "df['TARGET'] = target_list\n",
    "df['TARGET'].value_counts()"
   ]
  },
  {
   "cell_type": "code",
   "execution_count": 23,
   "id": "9b4f85fc",
   "metadata": {},
   "outputs": [
    {
     "data": {
      "text/plain": [
       "Current                                                224226\n",
       "Fully Paid                                             184739\n",
       "Charged Off                                             42475\n",
       "Late (31-120 days)                                       6900\n",
       "In Grace Period                                          3146\n",
       "Does not meet the credit policy. Status:Fully Paid       1988\n",
       "Late (16-30 days)                                        1218\n",
       "Default                                                   832\n",
       "Does not meet the credit policy. Status:Charged Off       761\n",
       "Name: loan_status, dtype: int64"
      ]
     },
     "execution_count": 23,
     "metadata": {},
     "output_type": "execute_result"
    }
   ],
   "source": [
    "df['loan_status'].value_counts()"
   ]
  },
  {
   "cell_type": "markdown",
   "id": "9739fcfd",
   "metadata": {
    "_uuid": "59bfd74eeb2c29184f5d9a28794f0163f0dc391f"
   },
   "source": [
    "## Anomaly Detection"
   ]
  },
  {
   "cell_type": "markdown",
   "id": "bed21852",
   "metadata": {
    "_uuid": "dc9831550615fc78a1bf722b626a7d1a167b00ce"
   },
   "source": [
    "mengecek anomali yang terdapat dalam data"
   ]
  },
  {
   "cell_type": "code",
   "execution_count": 24,
   "id": "845fecdf",
   "metadata": {
    "_uuid": "09b08890e74d780077209481c273c606172cc4b0"
   },
   "outputs": [
    {
     "data": {
      "text/plain": [
       "0    10+ years\n",
       "1     < 1 year\n",
       "2    10+ years\n",
       "Name: emp_length, dtype: object"
      ]
     },
     "execution_count": 24,
     "metadata": {},
     "output_type": "execute_result"
    }
   ],
   "source": [
    "df['emp_length'].head(3)"
   ]
  },
  {
   "cell_type": "markdown",
   "id": "8ffe843b",
   "metadata": {
    "_uuid": "4f963b2964302008c7b5df6848d7ace48efbaa93"
   },
   "source": [
    "\n",
    "\n",
    "null value akan diisi dengan 0 dengan asumsi peminjam belum bekerja pada saat data dibukukan."
   ]
  },
  {
   "cell_type": "code",
   "execution_count": 25,
   "id": "88bb1da3",
   "metadata": {
    "_uuid": "f4a9b10c31c32be99a995fbf3181d82c6a354e02"
   },
   "outputs": [
    {
     "data": {
      "image/png": "[encoded data removed]",
      "text/plain": [
       "<Figure size 1296x576 with 1 Axes>"
      ]
     },
     "metadata": {
      "needs_background": "light"
     },
     "output_type": "display_data"
    }
   ],
   "source": [
    "df['emp_length'].fillna(value=0,inplace=True)\n",
    "\n",
    "df['emp_length'].replace(to_replace='[^0-9]+', value='', inplace=True, regex=True)\n",
    "\n",
    "df['emp_length'].value_counts().sort_values().plot(kind='barh',figsize=(18,8))\n",
    "plt.title('Number of loans distributed by Employment Years',fontsize=20)\n",
    "plt.xlabel('Number of loans',fontsize=15)\n",
    "plt.ylabel('Years worked',fontsize=15);"
   ]
  },
  {
   "cell_type": "markdown",
   "id": "6963b31b",
   "metadata": {
    "_uuid": "4ecb0ce275fadb9b5a02a099ddeaf1b85e7d87f8"
   },
   "source": [
    "> dapat dilihat bahwa orang yang bekerja lebih lama lebih besar pinjamannya"
   ]
  },
  {
   "cell_type": "code",
   "execution_count": 26,
   "id": "b6027ba3",
   "metadata": {
    "_uuid": "a95f04bf915cdf70755b01604ff8ea4d3b8a6854"
   },
   "outputs": [
    {
     "data": {
      "image/png": "[encoded data removed]",
      "text/plain": [
       "<Figure size 864x432 with 1 Axes>"
      ]
     },
     "metadata": {
      "needs_background": "light"
     },
     "output_type": "display_data"
    }
   ],
   "source": [
    "fig = plt.figure(figsize=(12,6))\n",
    "sns.violinplot(x=\"TARGET\",y=\"loan_amnt\",data=df, hue=\"pymnt_plan\", split=True)\n",
    "plt.title(\"Payment plan - Loan Amount\", fontsize=20)\n",
    "plt.xlabel(\"TARGET\", fontsize=15)\n",
    "plt.ylabel(\"Loan Amount\", fontsize=15);"
   ]
  },
  {
   "cell_type": "markdown",
   "id": "f40f46d6",
   "metadata": {},
   "source": [
    "peminjam yang mengalamin default tidak memiliki 'payment plan'"
   ]
  },
  {
   "cell_type": "code",
   "execution_count": 28,
   "id": "aae60e49",
   "metadata": {},
   "outputs": [],
   "source": [
    "df.drop('policy_code',axis=1,inplace=True)"
   ]
  },
  {
   "cell_type": "code",
   "execution_count": 29,
   "id": "0898cef1",
   "metadata": {
    "_uuid": "54fc1e848175f740002e83b97f6857ac7cb51d61",
    "scrolled": true
   },
   "outputs": [
    {
     "data": {
      "text/plain": [
       "revol_bal     0.143380\n",
       "int_rate      0.159657\n",
       "revol_util    0.200284\n",
       "total_acc     0.228222\n",
       "open_acc      0.303914\n",
       "dti           1.000000\n",
       "Name: dti, dtype: float64"
      ]
     },
     "execution_count": 29,
     "metadata": {},
     "output_type": "execute_result"
    }
   ],
   "source": [
    "df.corr()['dti'].sort_values().tail(6)"
   ]
  },
  {
   "cell_type": "markdown",
   "id": "7eb072a9",
   "metadata": {},
   "source": [
    "membuat KDE plot\n",
    "\n"
   ]
  },
  {
   "cell_type": "code",
   "execution_count": 30,
   "id": "bef2d8fb",
   "metadata": {
    "_uuid": "10adefebe3c1a972417b8fe7895acd0b46e907b5"
   },
   "outputs": [
    {
     "data": {
      "image/png": "[encoded data removed]",
      "text/plain": [
       "<Figure size 1584x432 with 1 Axes>"
      ]
     },
     "metadata": {
      "needs_background": "light"
     },
     "output_type": "display_data"
    }
   ],
   "source": [
    "fig = plt.figure(figsize=(22,6))\n",
    "sns.kdeplot(df.loc[df['TARGET'] == 1, 'int_rate'], label = 'target = 1')\n",
    "sns.kdeplot(df.loc[df['TARGET'] == 0, 'int_rate'], label = 'target = 0');\n",
    "plt.xlabel('Interest Rate (%)',fontsize=15)\n",
    "plt.ylabel('Density',fontsize=15)\n",
    "plt.title('Distribution of Interest Rate',fontsize=20);"
   ]
  },
  {
   "cell_type": "markdown",
   "id": "bfa09d46",
   "metadata": {
    "_uuid": "fe59a13472e3a49f373edbb911ad572994112820"
   },
   "source": [
    "> The density of interest rates follow kind of a Gaussian distribution with more density on interest rates between 10%-15%."
   ]
  },
  {
   "cell_type": "markdown",
   "id": "bf1fa455",
   "metadata": {
    "_uuid": "125d315a1703f2c9f0521af8b385c8a6141a6f28"
   },
   "source": [
    "While we are looking at distributions, some other distributions that would be interesting to examine are,"
   ]
  },
  {
   "cell_type": "markdown",
   "id": "c9d6ad46",
   "metadata": {
    "_uuid": "7baaa7b653dd5812d90b0eeafc43991699e0a6b9"
   },
   "source": [
    "* Violin-plot of TARGET classes with distribution of loan amount differentiated by the terms. "
   ]
  },
  {
   "cell_type": "code",
   "execution_count": 31,
   "id": "b63b8044",
   "metadata": {
    "_uuid": "5394b68d274bba20bc5133c8b76bdbc486b59eaf",
    "scrolled": true
   },
   "outputs": [
    {
     "data": {
      "image/png": "[encoded data removed]",
      "text/plain": [
       "<Figure size 864x432 with 1 Axes>"
      ]
     },
     "metadata": {
      "needs_background": "light"
     },
     "output_type": "display_data"
    }
   ],
   "source": [
    "fig = plt.figure(figsize=(12,6))\n",
    "sns.violinplot(x=\"TARGET\",y=\"loan_amnt\",data=df, hue=\"term\", split=True,color='pink')\n",
    "plt.title(\"Term - Loan Amount\", fontsize=20)\n",
    "plt.xlabel(\"TARGET\", fontsize=15)\n",
    "plt.ylabel(\"Loan Amount\", fontsize=15);"
   ]
  },
  {
   "cell_type": "markdown",
   "id": "3dba6a07",
   "metadata": {
    "_uuid": "98395736864cc1b22b70a47c5208150efd8aff2e"
   },
   "source": [
    "> Most of the Loans of higher terms have high amount and vice versa for the TARGET classes."
   ]
  },
  {
   "cell_type": "markdown",
   "id": "dc97ac17",
   "metadata": {
    "_uuid": "bec4425767f560b963115817d35d8c176507ef17"
   },
   "source": [
    "** Violin-plot of TARGET classes with distribution of loan amount differentiated by the application type. **"
   ]
  },
  {
   "cell_type": "markdown",
   "id": "5600c6d2",
   "metadata": {
    "_uuid": "a14d6a84e8b47c278b75ba3f8f8a1eac2abffe71"
   },
   "source": [
    "** Violin-plot of TARGET classes with distribution of interest rate differentiated by the loan grades. **"
   ]
  },
  {
   "cell_type": "code",
   "execution_count": 33,
   "id": "fc53c1f4",
   "metadata": {},
   "outputs": [
    {
     "data": {
      "text/plain": [
       "INDIVIDUAL    466285\n",
       "Name: application_type, dtype: int64"
      ]
     },
     "execution_count": 33,
     "metadata": {},
     "output_type": "execute_result"
    }
   ],
   "source": [
    "df['application_type'].value_counts()"
   ]
  },
  {
   "cell_type": "code",
   "execution_count": 32,
   "id": "03774e76",
   "metadata": {
    "_uuid": "1147a2915ff2c061410d905beb3768e12718c39d"
   },
   "outputs": [
    {
     "data": {
      "image/png": "[encoded data removed]",
      "text/plain": [
       "<Figure size 1296x576 with 1 Axes>"
      ]
     },
     "metadata": {
      "needs_background": "light"
     },
     "output_type": "display_data"
    }
   ],
   "source": [
    "fig = plt.figure(figsize=(18,8))\n",
    "sns.violinplot(x=\"TARGET\",y=\"int_rate\",data=df, hue=\"grade\")\n",
    "plt.title(\"Grade - Interest Rate\", fontsize=20)\n",
    "plt.xlabel(\"TARGET\", fontsize=15)\n",
    "plt.ylabel(\"Interest Rate\", fontsize=15);"
   ]
  },
  {
   "cell_type": "markdown",
   "id": "e8eca2eb",
   "metadata": {
    "_uuid": "5107e7922245c561c5e8523265e769800be95750"
   },
   "source": [
    "> Both target classes have similar kind of interest rates by grades.\n",
    "\n",
    "> lihat polanya yang serupa"
   ]
  },
  {
   "cell_type": "markdown",
   "id": "c2adc509",
   "metadata": {
    "_uuid": "28105fdcb490a4f69ab29ad035d56ce129748cd9"
   },
   "source": [
    "Let us also check the correlation of annual income with loan amount taken. "
   ]
  },
  {
   "cell_type": "code",
   "execution_count": 34,
   "id": "d611a526",
   "metadata": {
    "_uuid": "2961954d34a2e81798521b06ef98bf10c43903ae"
   },
   "outputs": [
    {
     "data": {
      "text/plain": [
       "total_rev_hi_lim    0.269239\n",
       "total_rec_prncp     0.275824\n",
       "total_pymnt_inv     0.298728\n",
       "total_pymnt         0.299784\n",
       "revol_bal           0.332316\n",
       "funded_amnt_inv     0.367805\n",
       "installment         0.368145\n",
       "loan_amnt           0.370893\n",
       "tot_cur_bal         0.445423\n",
       "annual_inc          1.000000\n",
       "Name: annual_inc, dtype: float64"
      ]
     },
     "execution_count": 34,
     "metadata": {},
     "output_type": "execute_result"
    }
   ],
   "source": [
    "df.corr()['annual_inc'].sort_values().tail(10)"
   ]
  },
  {
   "cell_type": "markdown",
   "id": "c22ba2b4",
   "metadata": {
    "_uuid": "6cbbc8a6785a9873377f839ea0419f5fc12165fe"
   },
   "source": [
    "> The annual income of the applicant has high positive correlation with the amount of loan they have taken."
   ]
  },
  {
   "cell_type": "markdown",
   "id": "3e899d75",
   "metadata": {
    "_uuid": "288a6b87a1b60e3241a60c23806c271a76ce8571"
   },
   "source": [
    "** From where do most of the loans tend to be defaulted? **"
   ]
  },
  {
   "cell_type": "code",
   "execution_count": 35,
   "id": "f3218ca1",
   "metadata": {
    "_uuid": "95de9ba6c0df3129208da815f3e2e4bab918ab64"
   },
   "outputs": [
    {
     "data": {
      "image/png": "[encoded data removed]",
      "text/plain": [
       "<Figure size 1296x720 with 1 Axes>"
      ]
     },
     "metadata": {
      "needs_background": "light"
     },
     "output_type": "display_data"
    }
   ],
   "source": [
    "fig = plt.figure(figsize=(18,10))\n",
    "df[df['TARGET']==1].groupby('addr_state')['TARGET'].count().sort_values().plot(kind='barh')\n",
    "plt.ylabel('State',fontsize=15)\n",
    "plt.xlabel('Number of loans',fontsize=15)\n",
    "plt.title('Number of defaulted loans per state',fontsize=20);"
   ]
  },
  {
   "cell_type": "code",
   "execution_count": 36,
   "id": "a7c8a77e",
   "metadata": {
    "_uuid": "166fc5f080061ddec1371f90b8780c91420a7b6c"
   },
   "outputs": [
    {
     "data": {
      "image/png": "[encoded data removed]",
      "text/plain": [
       "<Figure size 1296x720 with 1 Axes>"
      ]
     },
     "metadata": {
      "needs_background": "light"
     },
     "output_type": "display_data"
    }
   ],
   "source": [
    "fig = plt.figure(figsize=(18,10))\n",
    "df[df['TARGET']==0].groupby('addr_state')['TARGET'].count().sort_values().plot(kind='barh')\n",
    "plt.ylabel('State')\n",
    "plt.xlabel('Number of loans')\n",
    "plt.title('Number of not-defaulted loans per state');"
   ]
  },
  {
   "cell_type": "markdown",
   "id": "24930e6e",
   "metadata": {
    "_uuid": "00d9ea1b27f4be92b906a0c59fbebd2eba6dcb09"
   },
   "source": [
    "> It can be seen that there are more number of loans taken amount from the same states where there are more number of defaulted risk. This is why the state cannot be taken as a major feature for knowing if a loan will be defaulted or not.\n"
   ]
  },
  {
   "cell_type": "code",
   "execution_count": 37,
   "id": "00c0dbcd",
   "metadata": {
    "scrolled": true
   },
   "outputs": [
    {
     "name": "stdout",
     "output_type": "stream",
     "text": [
      "Most Positive Correlations:\n",
      " funded_amnt_inv       0.005389\n",
      "delinq_2yrs           0.006065\n",
      "open_acc              0.006647\n",
      "total_rec_int         0.007410\n",
      "dti                   0.010955\n",
      "total_rec_late_fee    0.013726\n",
      "int_rate              0.022385\n",
      "out_prncp             0.040708\n",
      "out_prncp_inv         0.040712\n",
      "TARGET                1.000000\n",
      "Name: TARGET, dtype: float64\n",
      "\n",
      "Most Negative Correlations:\n",
      " total_rec_prncp           -0.024713\n",
      "last_pymnt_amnt           -0.020145\n",
      "total_pymnt               -0.019225\n",
      "total_pymnt_inv           -0.018906\n",
      "recoveries                -0.006534\n",
      "tot_cur_bal               -0.006208\n",
      "annual_inc                -0.005896\n",
      "collection_recovery_fee   -0.004432\n",
      "total_rev_hi_lim          -0.002636\n",
      "revol_bal                 -0.001414\n",
      "Name: TARGET, dtype: float64\n"
     ]
    }
   ],
   "source": [
    "corr = df.corr()['TARGET'].sort_values()\n",
    "\n",
    "# Display correlations\n",
    "print('Most Positive Correlations:\\n', corr.tail(10))\n",
    "print('\\nMost Negative Correlations:\\n', corr.head(10))"
   ]
  },
  {
   "cell_type": "code",
   "execution_count": 38,
   "id": "d3c8ef99",
   "metadata": {},
   "outputs": [
    {
     "name": "stdout",
     "output_type": "stream",
     "text": [
      "<class 'pandas.core.frame.DataFrame'>\n",
      "RangeIndex: 466285 entries, 0 to 466284\n",
      "Data columns (total 45 columns):\n",
      " #   Column                      Non-Null Count   Dtype  \n",
      "---  ------                      --------------   -----  \n",
      " 0   loan_amnt                   466285 non-null  int64  \n",
      " 1   funded_amnt_inv             466285 non-null  float64\n",
      " 2   int_rate                    466285 non-null  float64\n",
      " 3   installment                 466285 non-null  float64\n",
      " 4   annual_inc                  466285 non-null  float64\n",
      " 5   dti                         466285 non-null  float64\n",
      " 6   delinq_2yrs                 466285 non-null  float64\n",
      " 7   inq_last_6mths              466285 non-null  float64\n",
      " 8   open_acc                    466285 non-null  float64\n",
      " 9   pub_rec                     466285 non-null  float64\n",
      " 10  revol_bal                   466285 non-null  int64  \n",
      " 11  revol_util                  466285 non-null  float64\n",
      " 12  total_acc                   466285 non-null  float64\n",
      " 13  out_prncp                   466285 non-null  float64\n",
      " 14  out_prncp_inv               466285 non-null  float64\n",
      " 15  total_pymnt                 466285 non-null  float64\n",
      " 16  total_pymnt_inv             466285 non-null  float64\n",
      " 17  total_rec_prncp             466285 non-null  float64\n",
      " 18  total_rec_int               466285 non-null  float64\n",
      " 19  total_rec_late_fee          466285 non-null  float64\n",
      " 20  recoveries                  466285 non-null  float64\n",
      " 21  collection_recovery_fee     466285 non-null  float64\n",
      " 22  last_pymnt_amnt             466285 non-null  float64\n",
      " 23  collections_12_mths_ex_med  466285 non-null  float64\n",
      " 24  acc_now_delinq              466285 non-null  float64\n",
      " 25  tot_coll_amt                466285 non-null  float64\n",
      " 26  tot_cur_bal                 466285 non-null  float64\n",
      " 27  total_rev_hi_lim            466285 non-null  float64\n",
      " 28  term                        466285 non-null  object \n",
      " 29  grade                       466285 non-null  object \n",
      " 30  sub_grade                   466285 non-null  object \n",
      " 31  emp_length                  466285 non-null  object \n",
      " 32  home_ownership              466285 non-null  object \n",
      " 33  verification_status         466285 non-null  object \n",
      " 34  issue_d                     466285 non-null  object \n",
      " 35  loan_status                 466285 non-null  object \n",
      " 36  pymnt_plan                  466285 non-null  object \n",
      " 37  purpose                     466285 non-null  object \n",
      " 38  addr_state                  466285 non-null  object \n",
      " 39  earliest_cr_line            466285 non-null  object \n",
      " 40  initial_list_status         466285 non-null  object \n",
      " 41  last_pymnt_d                466285 non-null  object \n",
      " 42  last_credit_pull_d          466285 non-null  object \n",
      " 43  application_type            466285 non-null  object \n",
      " 44  TARGET                      466285 non-null  int64  \n",
      "dtypes: float64(26), int64(3), object(16)\n",
      "memory usage: 160.1+ MB\n"
     ]
    }
   ],
   "source": [
    "df.info()"
   ]
  },
  {
   "cell_type": "code",
   "execution_count": 44,
   "id": "6e0cb6cc",
   "metadata": {},
   "outputs": [],
   "source": [
    "df['issue_d']= pd.to_datetime(df['issue_d'],errors = 'coerce').dt.strftime('%Y')\n",
    "df['last_pymnt_d']= pd.to_datetime(df['last_pymnt_d'].fillna('2016-01-01'),errors = 'coerce').dt.strftime('%m')\n",
    "df['last_credit_pull_d']= pd.to_datetime(df['last_credit_pull_d'].fillna(\"2016-01-01\"),errors = 'coerce').dt.strftime('%m')\n",
    "df['earliest_cr_line']= pd.to_datetime(df['earliest_cr_line'].fillna('2001-08-01'),errors = 'coerce').dt.strftime('%m')\n",
    "#df['next_pymnt_d'] = pd.to_datetime(df['next_pymnt_d'].fillna(value = '2016-02-01'),errors = 'coerce').dt.strftime('%Y')"
   ]
  },
  {
   "cell_type": "markdown",
   "id": "74656388",
   "metadata": {
    "_uuid": "0d2f59985dbca1746a10b44bdd5dd62660c35d16"
   },
   "source": [
    "# Modeling"
   ]
  },
  {
   "cell_type": "markdown",
   "id": "8c78037f",
   "metadata": {
    "_uuid": "82cad6592663ae114303aead155f1ccf167ce32b"
   },
   "source": [
    "Now, for modeling I will be using two ensemble methods and comparing them.\n",
    "\n",
    "i) Bootstrap Aggregrating or Bagging\n",
    "\n",
    "ii) Boosting"
   ]
  },
  {
   "cell_type": "markdown",
   "id": "59b822aa",
   "metadata": {
    "_uuid": "728db0b5e5f15eda02ab3a2bd11f12e4b135aab1"
   },
   "source": [
    "# 1) Bagging - Random Forest\n",
    "\n",
    "* Ensemble of Decision Trees\n",
    "\n",
    "* Training via the bagging method (Repeated sampling with replacement)\n",
    "  * Bagging: Sample from samples\n",
    "  * RF: Sample from predictors. $m=sqrt(p)$ for classification and $m=p/3$ for regression problems.\n",
    "\n",
    "* Utilise uncorrelated trees"
   ]
  },
  {
   "cell_type": "code",
   "execution_count": 45,
   "id": "19f3c065",
   "metadata": {
    "_uuid": "b2a40b5f4d8603d185c993de581ab60f29ebffb0",
    "jupyter": {
     "outputs_hidden": true
    }
   },
   "outputs": [],
   "source": [
    "from sklearn.ensemble import RandomForestClassifier\n",
    "from sklearn.model_selection import cross_val_score, cross_val_predict\n",
    "from sklearn.metrics import accuracy_score, classification_report, confusion_matrix"
   ]
  },
  {
   "cell_type": "markdown",
   "id": "ad78b0ad",
   "metadata": {
    "_uuid": "642af35915e508aaef47c6e5f2feba1c323eb099"
   },
   "source": [
    "Creating a classification report function,"
   ]
  },
  {
   "cell_type": "code",
   "execution_count": 46,
   "id": "4d1c21d9",
   "metadata": {
    "_uuid": "da4cf4ea3fa80740321b1344a311d560a78f2ea3",
    "jupyter": {
     "outputs_hidden": true
    }
   },
   "outputs": [],
   "source": [
    "def print_score(clf, X_train, y_train, X_test, y_test, train=True):\n",
    "    if train:\n",
    "        print(\"Train Result:\\n\")\n",
    "        print(\"accuracy score: {0:.4f}\\n\".format(accuracy_score(y_train, clf.predict(X_train))))\n",
    "        print(\"Classification Report: \\n {}\\n\".format(classification_report(y_train, clf.predict(X_train))))\n",
    "        print(\"Confusion Matrix: \\n {}\\n\".format(confusion_matrix(y_train, clf.predict(X_train))))\n",
    "\n",
    "        res = cross_val_score(clf, X_train, y_train, cv=10, scoring='accuracy')\n",
    "        print(\"Average Accuracy: \\t {0:.4f}\".format(np.mean(res)))\n",
    "        print(\"Accuracy SD: \\t\\t {0:.4f}\".format(np.std(res)))\n",
    "        \n",
    "    elif train==False:\n",
    "        print(\"Test Result:\\n\")        \n",
    "        print(\"accuracy score: {0:.4f}\\n\".format(accuracy_score(y_test, clf.predict(X_test))))\n",
    "        print(\"Classification Report: \\n {}\\n\".format(classification_report(y_test, clf.predict(X_test))))\n",
    "        print(\"Confusion Matrix: \\n {}\\n\".format(confusion_matrix(y_test, clf.predict(X_test))))    \n",
    "        "
   ]
  },
  {
   "cell_type": "markdown",
   "id": "9f921a1e",
   "metadata": {
    "_uuid": "30fe6c04f194a31d517a7656af06241343d4e4a6"
   },
   "source": [
    "Conducting train test split."
   ]
  },
  {
   "cell_type": "code",
   "execution_count": 47,
   "id": "d42e8d12",
   "metadata": {
    "_uuid": "bfde34d1796e2f5fa1910fde18ad831b930599bc",
    "jupyter": {
     "outputs_hidden": true
    }
   },
   "outputs": [],
   "source": [
    "from sklearn.model_selection import train_test_split"
   ]
  },
  {
   "cell_type": "code",
   "execution_count": 48,
   "id": "51be4f1e",
   "metadata": {
    "_uuid": "b6e018cdff71158d658145afc397cf5a4855ec84",
    "jupyter": {
     "outputs_hidden": true
    }
   },
   "outputs": [],
   "source": [
    "X_train, X_test, y_train, y_test = train_test_split(df.drop('TARGET',axis=1),df['TARGET'],test_size=0.15,random_state=101)"
   ]
  },
  {
   "cell_type": "markdown",
   "id": "e090e112",
   "metadata": {
    "_uuid": "01cd9f36048e47a45882efd244cf6de705b7e015"
   },
   "source": [
    "Freeing up the memory."
   ]
  },
  {
   "cell_type": "code",
   "execution_count": 49,
   "id": "ffc7f415",
   "metadata": {
    "_uuid": "b1d069f61ba00d9eab3e776993ab703b87bfb8af",
    "jupyter": {
     "outputs_hidden": true
    }
   },
   "outputs": [
    {
     "data": {
      "text/plain": [
       "0"
      ]
     },
     "execution_count": 49,
     "metadata": {},
     "output_type": "execute_result"
    }
   ],
   "source": [
    "import gc\n",
    "del original_df\n",
    "gc.collect()"
   ]
  },
  {
   "cell_type": "markdown",
   "id": "54992150",
   "metadata": {
    "_uuid": "34ec277688a7e781775dcf4884552597337b24d0"
   },
   "source": [
    "Standardizing features by removing the mean and scaling to unit variance"
   ]
  },
  {
   "cell_type": "code",
   "execution_count": 50,
   "id": "94a8afe6",
   "metadata": {
    "_uuid": "6210def8ab1c05905131dbbefb94d9010b459ed9",
    "jupyter": {
     "outputs_hidden": true
    }
   },
   "outputs": [],
   "source": [
    "from sklearn.preprocessing import StandardScaler"
   ]
  },
  {
   "cell_type": "code",
   "execution_count": 51,
   "id": "5b9af54f",
   "metadata": {
    "_uuid": "3d7af86ed67ed7a016c5655ac132378f327adc52",
    "jupyter": {
     "outputs_hidden": true
    }
   },
   "outputs": [
    {
     "ename": "ValueError",
     "evalue": "could not convert string to float: ' 36 months'",
     "output_type": "error",
     "traceback": [
      "\u001b[1;31m---------------------------------------------------------------------------\u001b[0m",
      "\u001b[1;31mValueError\u001b[0m                                Traceback (most recent call last)",
      "\u001b[1;32m~\\AppData\\Local\\Temp/ipykernel_1408/4130010193.py\u001b[0m in \u001b[0;36m<module>\u001b[1;34m\u001b[0m\n\u001b[0;32m      1\u001b[0m \u001b[0msc\u001b[0m \u001b[1;33m=\u001b[0m \u001b[0mStandardScaler\u001b[0m\u001b[1;33m(\u001b[0m\u001b[1;33m)\u001b[0m\u001b[1;33m\u001b[0m\u001b[1;33m\u001b[0m\u001b[0m\n\u001b[1;32m----> 2\u001b[1;33m \u001b[0mX_train\u001b[0m \u001b[1;33m=\u001b[0m \u001b[0msc\u001b[0m\u001b[1;33m.\u001b[0m\u001b[0mfit_transform\u001b[0m\u001b[1;33m(\u001b[0m\u001b[0mX_train\u001b[0m\u001b[1;33m)\u001b[0m\u001b[1;33m\u001b[0m\u001b[1;33m\u001b[0m\u001b[0m\n\u001b[0m\u001b[0;32m      3\u001b[0m \u001b[0mX_test\u001b[0m\u001b[1;33m=\u001b[0m\u001b[0msc\u001b[0m\u001b[1;33m.\u001b[0m\u001b[0mtransform\u001b[0m\u001b[1;33m(\u001b[0m\u001b[0mX_test\u001b[0m\u001b[1;33m)\u001b[0m\u001b[1;33m\u001b[0m\u001b[1;33m\u001b[0m\u001b[0m\n",
      "\u001b[1;32m~\\anaconda3\\lib\\site-packages\\sklearn\\base.py\u001b[0m in \u001b[0;36mfit_transform\u001b[1;34m(self, X, y, **fit_params)\u001b[0m\n\u001b[0;32m    850\u001b[0m         \u001b[1;32mif\u001b[0m \u001b[0my\u001b[0m \u001b[1;32mis\u001b[0m \u001b[1;32mNone\u001b[0m\u001b[1;33m:\u001b[0m\u001b[1;33m\u001b[0m\u001b[1;33m\u001b[0m\u001b[0m\n\u001b[0;32m    851\u001b[0m             \u001b[1;31m# fit method of arity 1 (unsupervised transformation)\u001b[0m\u001b[1;33m\u001b[0m\u001b[1;33m\u001b[0m\u001b[0m\n\u001b[1;32m--> 852\u001b[1;33m             \u001b[1;32mreturn\u001b[0m \u001b[0mself\u001b[0m\u001b[1;33m.\u001b[0m\u001b[0mfit\u001b[0m\u001b[1;33m(\u001b[0m\u001b[0mX\u001b[0m\u001b[1;33m,\u001b[0m \u001b[1;33m**\u001b[0m\u001b[0mfit_params\u001b[0m\u001b[1;33m)\u001b[0m\u001b[1;33m.\u001b[0m\u001b[0mtransform\u001b[0m\u001b[1;33m(\u001b[0m\u001b[0mX\u001b[0m\u001b[1;33m)\u001b[0m\u001b[1;33m\u001b[0m\u001b[1;33m\u001b[0m\u001b[0m\n\u001b[0m\u001b[0;32m    853\u001b[0m         \u001b[1;32melse\u001b[0m\u001b[1;33m:\u001b[0m\u001b[1;33m\u001b[0m\u001b[1;33m\u001b[0m\u001b[0m\n\u001b[0;32m    854\u001b[0m             \u001b[1;31m# fit method of arity 2 (supervised transformation)\u001b[0m\u001b[1;33m\u001b[0m\u001b[1;33m\u001b[0m\u001b[0m\n",
      "\u001b[1;32m~\\anaconda3\\lib\\site-packages\\sklearn\\preprocessing\\_data.py\u001b[0m in \u001b[0;36mfit\u001b[1;34m(self, X, y, sample_weight)\u001b[0m\n\u001b[0;32m    804\u001b[0m         \u001b[1;31m# Reset internal state before fitting\u001b[0m\u001b[1;33m\u001b[0m\u001b[1;33m\u001b[0m\u001b[0m\n\u001b[0;32m    805\u001b[0m         \u001b[0mself\u001b[0m\u001b[1;33m.\u001b[0m\u001b[0m_reset\u001b[0m\u001b[1;33m(\u001b[0m\u001b[1;33m)\u001b[0m\u001b[1;33m\u001b[0m\u001b[1;33m\u001b[0m\u001b[0m\n\u001b[1;32m--> 806\u001b[1;33m         \u001b[1;32mreturn\u001b[0m \u001b[0mself\u001b[0m\u001b[1;33m.\u001b[0m\u001b[0mpartial_fit\u001b[0m\u001b[1;33m(\u001b[0m\u001b[0mX\u001b[0m\u001b[1;33m,\u001b[0m \u001b[0my\u001b[0m\u001b[1;33m,\u001b[0m \u001b[0msample_weight\u001b[0m\u001b[1;33m)\u001b[0m\u001b[1;33m\u001b[0m\u001b[1;33m\u001b[0m\u001b[0m\n\u001b[0m\u001b[0;32m    807\u001b[0m \u001b[1;33m\u001b[0m\u001b[0m\n\u001b[0;32m    808\u001b[0m     \u001b[1;32mdef\u001b[0m \u001b[0mpartial_fit\u001b[0m\u001b[1;33m(\u001b[0m\u001b[0mself\u001b[0m\u001b[1;33m,\u001b[0m \u001b[0mX\u001b[0m\u001b[1;33m,\u001b[0m \u001b[0my\u001b[0m\u001b[1;33m=\u001b[0m\u001b[1;32mNone\u001b[0m\u001b[1;33m,\u001b[0m \u001b[0msample_weight\u001b[0m\u001b[1;33m=\u001b[0m\u001b[1;32mNone\u001b[0m\u001b[1;33m)\u001b[0m\u001b[1;33m:\u001b[0m\u001b[1;33m\u001b[0m\u001b[1;33m\u001b[0m\u001b[0m\n",
      "\u001b[1;32m~\\anaconda3\\lib\\site-packages\\sklearn\\preprocessing\\_data.py\u001b[0m in \u001b[0;36mpartial_fit\u001b[1;34m(self, X, y, sample_weight)\u001b[0m\n\u001b[0;32m    839\u001b[0m         \"\"\"\n\u001b[0;32m    840\u001b[0m         \u001b[0mfirst_call\u001b[0m \u001b[1;33m=\u001b[0m \u001b[1;32mnot\u001b[0m \u001b[0mhasattr\u001b[0m\u001b[1;33m(\u001b[0m\u001b[0mself\u001b[0m\u001b[1;33m,\u001b[0m \u001b[1;34m\"n_samples_seen_\"\u001b[0m\u001b[1;33m)\u001b[0m\u001b[1;33m\u001b[0m\u001b[1;33m\u001b[0m\u001b[0m\n\u001b[1;32m--> 841\u001b[1;33m         X = self._validate_data(\n\u001b[0m\u001b[0;32m    842\u001b[0m             \u001b[0mX\u001b[0m\u001b[1;33m,\u001b[0m\u001b[1;33m\u001b[0m\u001b[1;33m\u001b[0m\u001b[0m\n\u001b[0;32m    843\u001b[0m             \u001b[0maccept_sparse\u001b[0m\u001b[1;33m=\u001b[0m\u001b[1;33m(\u001b[0m\u001b[1;34m\"csr\"\u001b[0m\u001b[1;33m,\u001b[0m \u001b[1;34m\"csc\"\u001b[0m\u001b[1;33m)\u001b[0m\u001b[1;33m,\u001b[0m\u001b[1;33m\u001b[0m\u001b[1;33m\u001b[0m\u001b[0m\n",
      "\u001b[1;32m~\\anaconda3\\lib\\site-packages\\sklearn\\base.py\u001b[0m in \u001b[0;36m_validate_data\u001b[1;34m(self, X, y, reset, validate_separately, **check_params)\u001b[0m\n\u001b[0;32m    564\u001b[0m             \u001b[1;32mraise\u001b[0m \u001b[0mValueError\u001b[0m\u001b[1;33m(\u001b[0m\u001b[1;34m\"Validation should be done on X, y or both.\"\u001b[0m\u001b[1;33m)\u001b[0m\u001b[1;33m\u001b[0m\u001b[1;33m\u001b[0m\u001b[0m\n\u001b[0;32m    565\u001b[0m         \u001b[1;32melif\u001b[0m \u001b[1;32mnot\u001b[0m \u001b[0mno_val_X\u001b[0m \u001b[1;32mand\u001b[0m \u001b[0mno_val_y\u001b[0m\u001b[1;33m:\u001b[0m\u001b[1;33m\u001b[0m\u001b[1;33m\u001b[0m\u001b[0m\n\u001b[1;32m--> 566\u001b[1;33m             \u001b[0mX\u001b[0m \u001b[1;33m=\u001b[0m \u001b[0mcheck_array\u001b[0m\u001b[1;33m(\u001b[0m\u001b[0mX\u001b[0m\u001b[1;33m,\u001b[0m \u001b[1;33m**\u001b[0m\u001b[0mcheck_params\u001b[0m\u001b[1;33m)\u001b[0m\u001b[1;33m\u001b[0m\u001b[1;33m\u001b[0m\u001b[0m\n\u001b[0m\u001b[0;32m    567\u001b[0m             \u001b[0mout\u001b[0m \u001b[1;33m=\u001b[0m \u001b[0mX\u001b[0m\u001b[1;33m\u001b[0m\u001b[1;33m\u001b[0m\u001b[0m\n\u001b[0;32m    568\u001b[0m         \u001b[1;32melif\u001b[0m \u001b[0mno_val_X\u001b[0m \u001b[1;32mand\u001b[0m \u001b[1;32mnot\u001b[0m \u001b[0mno_val_y\u001b[0m\u001b[1;33m:\u001b[0m\u001b[1;33m\u001b[0m\u001b[1;33m\u001b[0m\u001b[0m\n",
      "\u001b[1;32m~\\anaconda3\\lib\\site-packages\\sklearn\\utils\\validation.py\u001b[0m in \u001b[0;36mcheck_array\u001b[1;34m(array, accept_sparse, accept_large_sparse, dtype, order, copy, force_all_finite, ensure_2d, allow_nd, ensure_min_samples, ensure_min_features, estimator)\u001b[0m\n\u001b[0;32m    744\u001b[0m                     \u001b[0marray\u001b[0m \u001b[1;33m=\u001b[0m \u001b[0marray\u001b[0m\u001b[1;33m.\u001b[0m\u001b[0mastype\u001b[0m\u001b[1;33m(\u001b[0m\u001b[0mdtype\u001b[0m\u001b[1;33m,\u001b[0m \u001b[0mcasting\u001b[0m\u001b[1;33m=\u001b[0m\u001b[1;34m\"unsafe\"\u001b[0m\u001b[1;33m,\u001b[0m \u001b[0mcopy\u001b[0m\u001b[1;33m=\u001b[0m\u001b[1;32mFalse\u001b[0m\u001b[1;33m)\u001b[0m\u001b[1;33m\u001b[0m\u001b[1;33m\u001b[0m\u001b[0m\n\u001b[0;32m    745\u001b[0m                 \u001b[1;32melse\u001b[0m\u001b[1;33m:\u001b[0m\u001b[1;33m\u001b[0m\u001b[1;33m\u001b[0m\u001b[0m\n\u001b[1;32m--> 746\u001b[1;33m                     \u001b[0marray\u001b[0m \u001b[1;33m=\u001b[0m \u001b[0mnp\u001b[0m\u001b[1;33m.\u001b[0m\u001b[0masarray\u001b[0m\u001b[1;33m(\u001b[0m\u001b[0marray\u001b[0m\u001b[1;33m,\u001b[0m \u001b[0morder\u001b[0m\u001b[1;33m=\u001b[0m\u001b[0morder\u001b[0m\u001b[1;33m,\u001b[0m \u001b[0mdtype\u001b[0m\u001b[1;33m=\u001b[0m\u001b[0mdtype\u001b[0m\u001b[1;33m)\u001b[0m\u001b[1;33m\u001b[0m\u001b[1;33m\u001b[0m\u001b[0m\n\u001b[0m\u001b[0;32m    747\u001b[0m             \u001b[1;32mexcept\u001b[0m \u001b[0mComplexWarning\u001b[0m \u001b[1;32mas\u001b[0m \u001b[0mcomplex_warning\u001b[0m\u001b[1;33m:\u001b[0m\u001b[1;33m\u001b[0m\u001b[1;33m\u001b[0m\u001b[0m\n\u001b[0;32m    748\u001b[0m                 raise ValueError(\n",
      "\u001b[1;32m~\\anaconda3\\lib\\site-packages\\numpy\\core\\_asarray.py\u001b[0m in \u001b[0;36masarray\u001b[1;34m(a, dtype, order, like)\u001b[0m\n\u001b[0;32m    100\u001b[0m         \u001b[1;32mreturn\u001b[0m \u001b[0m_asarray_with_like\u001b[0m\u001b[1;33m(\u001b[0m\u001b[0ma\u001b[0m\u001b[1;33m,\u001b[0m \u001b[0mdtype\u001b[0m\u001b[1;33m=\u001b[0m\u001b[0mdtype\u001b[0m\u001b[1;33m,\u001b[0m \u001b[0morder\u001b[0m\u001b[1;33m=\u001b[0m\u001b[0morder\u001b[0m\u001b[1;33m,\u001b[0m \u001b[0mlike\u001b[0m\u001b[1;33m=\u001b[0m\u001b[0mlike\u001b[0m\u001b[1;33m)\u001b[0m\u001b[1;33m\u001b[0m\u001b[1;33m\u001b[0m\u001b[0m\n\u001b[0;32m    101\u001b[0m \u001b[1;33m\u001b[0m\u001b[0m\n\u001b[1;32m--> 102\u001b[1;33m     \u001b[1;32mreturn\u001b[0m \u001b[0marray\u001b[0m\u001b[1;33m(\u001b[0m\u001b[0ma\u001b[0m\u001b[1;33m,\u001b[0m \u001b[0mdtype\u001b[0m\u001b[1;33m,\u001b[0m \u001b[0mcopy\u001b[0m\u001b[1;33m=\u001b[0m\u001b[1;32mFalse\u001b[0m\u001b[1;33m,\u001b[0m \u001b[0morder\u001b[0m\u001b[1;33m=\u001b[0m\u001b[0morder\u001b[0m\u001b[1;33m)\u001b[0m\u001b[1;33m\u001b[0m\u001b[1;33m\u001b[0m\u001b[0m\n\u001b[0m\u001b[0;32m    103\u001b[0m \u001b[1;33m\u001b[0m\u001b[0m\n\u001b[0;32m    104\u001b[0m \u001b[1;33m\u001b[0m\u001b[0m\n",
      "\u001b[1;32m~\\anaconda3\\lib\\site-packages\\pandas\\core\\generic.py\u001b[0m in \u001b[0;36m__array__\u001b[1;34m(self, dtype)\u001b[0m\n\u001b[0;32m   1991\u001b[0m \u001b[1;33m\u001b[0m\u001b[0m\n\u001b[0;32m   1992\u001b[0m     \u001b[1;32mdef\u001b[0m \u001b[0m__array__\u001b[0m\u001b[1;33m(\u001b[0m\u001b[0mself\u001b[0m\u001b[1;33m,\u001b[0m \u001b[0mdtype\u001b[0m\u001b[1;33m:\u001b[0m \u001b[0mNpDtype\u001b[0m \u001b[1;33m|\u001b[0m \u001b[1;32mNone\u001b[0m \u001b[1;33m=\u001b[0m \u001b[1;32mNone\u001b[0m\u001b[1;33m)\u001b[0m \u001b[1;33m->\u001b[0m \u001b[0mnp\u001b[0m\u001b[1;33m.\u001b[0m\u001b[0mndarray\u001b[0m\u001b[1;33m:\u001b[0m\u001b[1;33m\u001b[0m\u001b[1;33m\u001b[0m\u001b[0m\n\u001b[1;32m-> 1993\u001b[1;33m         \u001b[1;32mreturn\u001b[0m \u001b[0mnp\u001b[0m\u001b[1;33m.\u001b[0m\u001b[0masarray\u001b[0m\u001b[1;33m(\u001b[0m\u001b[0mself\u001b[0m\u001b[1;33m.\u001b[0m\u001b[0m_values\u001b[0m\u001b[1;33m,\u001b[0m \u001b[0mdtype\u001b[0m\u001b[1;33m=\u001b[0m\u001b[0mdtype\u001b[0m\u001b[1;33m)\u001b[0m\u001b[1;33m\u001b[0m\u001b[1;33m\u001b[0m\u001b[0m\n\u001b[0m\u001b[0;32m   1994\u001b[0m \u001b[1;33m\u001b[0m\u001b[0m\n\u001b[0;32m   1995\u001b[0m     def __array_wrap__(\n",
      "\u001b[1;32m~\\anaconda3\\lib\\site-packages\\numpy\\core\\_asarray.py\u001b[0m in \u001b[0;36masarray\u001b[1;34m(a, dtype, order, like)\u001b[0m\n\u001b[0;32m    100\u001b[0m         \u001b[1;32mreturn\u001b[0m \u001b[0m_asarray_with_like\u001b[0m\u001b[1;33m(\u001b[0m\u001b[0ma\u001b[0m\u001b[1;33m,\u001b[0m \u001b[0mdtype\u001b[0m\u001b[1;33m=\u001b[0m\u001b[0mdtype\u001b[0m\u001b[1;33m,\u001b[0m \u001b[0morder\u001b[0m\u001b[1;33m=\u001b[0m\u001b[0morder\u001b[0m\u001b[1;33m,\u001b[0m \u001b[0mlike\u001b[0m\u001b[1;33m=\u001b[0m\u001b[0mlike\u001b[0m\u001b[1;33m)\u001b[0m\u001b[1;33m\u001b[0m\u001b[1;33m\u001b[0m\u001b[0m\n\u001b[0;32m    101\u001b[0m \u001b[1;33m\u001b[0m\u001b[0m\n\u001b[1;32m--> 102\u001b[1;33m     \u001b[1;32mreturn\u001b[0m \u001b[0marray\u001b[0m\u001b[1;33m(\u001b[0m\u001b[0ma\u001b[0m\u001b[1;33m,\u001b[0m \u001b[0mdtype\u001b[0m\u001b[1;33m,\u001b[0m \u001b[0mcopy\u001b[0m\u001b[1;33m=\u001b[0m\u001b[1;32mFalse\u001b[0m\u001b[1;33m,\u001b[0m \u001b[0morder\u001b[0m\u001b[1;33m=\u001b[0m\u001b[0morder\u001b[0m\u001b[1;33m)\u001b[0m\u001b[1;33m\u001b[0m\u001b[1;33m\u001b[0m\u001b[0m\n\u001b[0m\u001b[0;32m    103\u001b[0m \u001b[1;33m\u001b[0m\u001b[0m\n\u001b[0;32m    104\u001b[0m \u001b[1;33m\u001b[0m\u001b[0m\n",
      "\u001b[1;31mValueError\u001b[0m: could not convert string to float: ' 36 months'"
     ]
    }
   ],
   "source": [
    "sc = StandardScaler()\n",
    "X_train = sc.fit_transform(X_train)\n",
    "X_test=sc.transform(X_test)"
   ]
  },
  {
   "cell_type": "code",
   "execution_count": 63,
   "id": "960fc9d0",
   "metadata": {},
   "outputs": [
    {
     "data": {
      "text/html": [
       "<div>\n",
       "<style scoped>\n",
       "    .dataframe tbody tr th:only-of-type {\n",
       "        vertical-align: middle;\n",
       "    }\n",
       "\n",
       "    .dataframe tbody tr th {\n",
       "        vertical-align: top;\n",
       "    }\n",
       "\n",
       "    .dataframe thead th {\n",
       "        text-align: right;\n",
       "    }\n",
       "</style>\n",
       "<table border=\"1\" class=\"dataframe\">\n",
       "  <thead>\n",
       "    <tr style=\"text-align: right;\">\n",
       "      <th></th>\n",
       "      <th>loan_amnt</th>\n",
       "      <th>funded_amnt_inv</th>\n",
       "      <th>int_rate</th>\n",
       "      <th>installment</th>\n",
       "      <th>annual_inc</th>\n",
       "      <th>dti</th>\n",
       "      <th>delinq_2yrs</th>\n",
       "      <th>inq_last_6mths</th>\n",
       "      <th>open_acc</th>\n",
       "      <th>pub_rec</th>\n",
       "      <th>...</th>\n",
       "      <th>loan_status</th>\n",
       "      <th>pymnt_plan</th>\n",
       "      <th>purpose</th>\n",
       "      <th>addr_state</th>\n",
       "      <th>earliest_cr_line</th>\n",
       "      <th>initial_list_status</th>\n",
       "      <th>last_pymnt_d</th>\n",
       "      <th>last_credit_pull_d</th>\n",
       "      <th>application_type</th>\n",
       "      <th>TARGET</th>\n",
       "    </tr>\n",
       "  </thead>\n",
       "  <tbody>\n",
       "    <tr>\n",
       "      <th>0</th>\n",
       "      <td>5000</td>\n",
       "      <td>4975.0</td>\n",
       "      <td>10.65</td>\n",
       "      <td>162.87</td>\n",
       "      <td>24000.0</td>\n",
       "      <td>27.65</td>\n",
       "      <td>0.0</td>\n",
       "      <td>1.0</td>\n",
       "      <td>3.0</td>\n",
       "      <td>0.0</td>\n",
       "      <td>...</td>\n",
       "      <td>Fully Paid</td>\n",
       "      <td>n</td>\n",
       "      <td>credit_card</td>\n",
       "      <td>AZ</td>\n",
       "      <td>NaN</td>\n",
       "      <td>f</td>\n",
       "      <td>01</td>\n",
       "      <td>01</td>\n",
       "      <td>INDIVIDUAL</td>\n",
       "      <td>0</td>\n",
       "    </tr>\n",
       "    <tr>\n",
       "      <th>2</th>\n",
       "      <td>2400</td>\n",
       "      <td>2400.0</td>\n",
       "      <td>15.96</td>\n",
       "      <td>84.33</td>\n",
       "      <td>12252.0</td>\n",
       "      <td>8.72</td>\n",
       "      <td>0.0</td>\n",
       "      <td>2.0</td>\n",
       "      <td>2.0</td>\n",
       "      <td>0.0</td>\n",
       "      <td>...</td>\n",
       "      <td>Fully Paid</td>\n",
       "      <td>n</td>\n",
       "      <td>small_business</td>\n",
       "      <td>IL</td>\n",
       "      <td>08</td>\n",
       "      <td>f</td>\n",
       "      <td>01</td>\n",
       "      <td>01</td>\n",
       "      <td>INDIVIDUAL</td>\n",
       "      <td>0</td>\n",
       "    </tr>\n",
       "    <tr>\n",
       "      <th>3</th>\n",
       "      <td>10000</td>\n",
       "      <td>10000.0</td>\n",
       "      <td>13.49</td>\n",
       "      <td>339.31</td>\n",
       "      <td>49200.0</td>\n",
       "      <td>20.00</td>\n",
       "      <td>0.0</td>\n",
       "      <td>1.0</td>\n",
       "      <td>10.0</td>\n",
       "      <td>0.0</td>\n",
       "      <td>...</td>\n",
       "      <td>Fully Paid</td>\n",
       "      <td>n</td>\n",
       "      <td>other</td>\n",
       "      <td>CA</td>\n",
       "      <td>NaN</td>\n",
       "      <td>f</td>\n",
       "      <td>01</td>\n",
       "      <td>01</td>\n",
       "      <td>INDIVIDUAL</td>\n",
       "      <td>0</td>\n",
       "    </tr>\n",
       "    <tr>\n",
       "      <th>5</th>\n",
       "      <td>5000</td>\n",
       "      <td>5000.0</td>\n",
       "      <td>7.90</td>\n",
       "      <td>156.46</td>\n",
       "      <td>36000.0</td>\n",
       "      <td>11.20</td>\n",
       "      <td>0.0</td>\n",
       "      <td>3.0</td>\n",
       "      <td>9.0</td>\n",
       "      <td>0.0</td>\n",
       "      <td>...</td>\n",
       "      <td>Fully Paid</td>\n",
       "      <td>n</td>\n",
       "      <td>wedding</td>\n",
       "      <td>AZ</td>\n",
       "      <td>08</td>\n",
       "      <td>f</td>\n",
       "      <td>01</td>\n",
       "      <td>01</td>\n",
       "      <td>INDIVIDUAL</td>\n",
       "      <td>0</td>\n",
       "    </tr>\n",
       "    <tr>\n",
       "      <th>7</th>\n",
       "      <td>3000</td>\n",
       "      <td>3000.0</td>\n",
       "      <td>18.64</td>\n",
       "      <td>109.43</td>\n",
       "      <td>48000.0</td>\n",
       "      <td>5.35</td>\n",
       "      <td>0.0</td>\n",
       "      <td>2.0</td>\n",
       "      <td>4.0</td>\n",
       "      <td>0.0</td>\n",
       "      <td>...</td>\n",
       "      <td>Fully Paid</td>\n",
       "      <td>n</td>\n",
       "      <td>car</td>\n",
       "      <td>CA</td>\n",
       "      <td>08</td>\n",
       "      <td>f</td>\n",
       "      <td>01</td>\n",
       "      <td>01</td>\n",
       "      <td>INDIVIDUAL</td>\n",
       "      <td>0</td>\n",
       "    </tr>\n",
       "    <tr>\n",
       "      <th>...</th>\n",
       "      <td>...</td>\n",
       "      <td>...</td>\n",
       "      <td>...</td>\n",
       "      <td>...</td>\n",
       "      <td>...</td>\n",
       "      <td>...</td>\n",
       "      <td>...</td>\n",
       "      <td>...</td>\n",
       "      <td>...</td>\n",
       "      <td>...</td>\n",
       "      <td>...</td>\n",
       "      <td>...</td>\n",
       "      <td>...</td>\n",
       "      <td>...</td>\n",
       "      <td>...</td>\n",
       "      <td>...</td>\n",
       "      <td>...</td>\n",
       "      <td>...</td>\n",
       "      <td>...</td>\n",
       "      <td>...</td>\n",
       "      <td>...</td>\n",
       "    </tr>\n",
       "    <tr>\n",
       "      <th>466277</th>\n",
       "      <td>18000</td>\n",
       "      <td>17975.0</td>\n",
       "      <td>7.90</td>\n",
       "      <td>563.23</td>\n",
       "      <td>90000.0</td>\n",
       "      <td>10.33</td>\n",
       "      <td>1.0</td>\n",
       "      <td>0.0</td>\n",
       "      <td>16.0</td>\n",
       "      <td>0.0</td>\n",
       "      <td>...</td>\n",
       "      <td>Charged Off</td>\n",
       "      <td>n</td>\n",
       "      <td>debt_consolidation</td>\n",
       "      <td>MD</td>\n",
       "      <td>NaN</td>\n",
       "      <td>f</td>\n",
       "      <td>01</td>\n",
       "      <td>01</td>\n",
       "      <td>INDIVIDUAL</td>\n",
       "      <td>0</td>\n",
       "    </tr>\n",
       "    <tr>\n",
       "      <th>466278</th>\n",
       "      <td>10000</td>\n",
       "      <td>10000.0</td>\n",
       "      <td>18.25</td>\n",
       "      <td>362.78</td>\n",
       "      <td>42000.0</td>\n",
       "      <td>11.57</td>\n",
       "      <td>0.0</td>\n",
       "      <td>0.0</td>\n",
       "      <td>9.0</td>\n",
       "      <td>0.0</td>\n",
       "      <td>...</td>\n",
       "      <td>Fully Paid</td>\n",
       "      <td>n</td>\n",
       "      <td>vacation</td>\n",
       "      <td>VA</td>\n",
       "      <td>08</td>\n",
       "      <td>f</td>\n",
       "      <td>01</td>\n",
       "      <td>01</td>\n",
       "      <td>INDIVIDUAL</td>\n",
       "      <td>0</td>\n",
       "    </tr>\n",
       "    <tr>\n",
       "      <th>466279</th>\n",
       "      <td>15000</td>\n",
       "      <td>15000.0</td>\n",
       "      <td>13.53</td>\n",
       "      <td>509.25</td>\n",
       "      <td>66000.0</td>\n",
       "      <td>16.22</td>\n",
       "      <td>0.0</td>\n",
       "      <td>0.0</td>\n",
       "      <td>8.0</td>\n",
       "      <td>0.0</td>\n",
       "      <td>...</td>\n",
       "      <td>Current</td>\n",
       "      <td>n</td>\n",
       "      <td>credit_card</td>\n",
       "      <td>MD</td>\n",
       "      <td>NaN</td>\n",
       "      <td>w</td>\n",
       "      <td>01</td>\n",
       "      <td>01</td>\n",
       "      <td>INDIVIDUAL</td>\n",
       "      <td>0</td>\n",
       "    </tr>\n",
       "    <tr>\n",
       "      <th>466283</th>\n",
       "      <td>2000</td>\n",
       "      <td>2000.0</td>\n",
       "      <td>7.90</td>\n",
       "      <td>62.59</td>\n",
       "      <td>83000.0</td>\n",
       "      <td>5.39</td>\n",
       "      <td>3.0</td>\n",
       "      <td>1.0</td>\n",
       "      <td>21.0</td>\n",
       "      <td>0.0</td>\n",
       "      <td>...</td>\n",
       "      <td>Fully Paid</td>\n",
       "      <td>n</td>\n",
       "      <td>credit_card</td>\n",
       "      <td>CA</td>\n",
       "      <td>08</td>\n",
       "      <td>w</td>\n",
       "      <td>01</td>\n",
       "      <td>01</td>\n",
       "      <td>INDIVIDUAL</td>\n",
       "      <td>0</td>\n",
       "    </tr>\n",
       "    <tr>\n",
       "      <th>466284</th>\n",
       "      <td>10000</td>\n",
       "      <td>9975.0</td>\n",
       "      <td>19.20</td>\n",
       "      <td>367.58</td>\n",
       "      <td>46000.0</td>\n",
       "      <td>22.78</td>\n",
       "      <td>1.0</td>\n",
       "      <td>0.0</td>\n",
       "      <td>6.0</td>\n",
       "      <td>0.0</td>\n",
       "      <td>...</td>\n",
       "      <td>Current</td>\n",
       "      <td>n</td>\n",
       "      <td>other</td>\n",
       "      <td>CA</td>\n",
       "      <td>08</td>\n",
       "      <td>f</td>\n",
       "      <td>01</td>\n",
       "      <td>01</td>\n",
       "      <td>INDIVIDUAL</td>\n",
       "      <td>0</td>\n",
       "    </tr>\n",
       "  </tbody>\n",
       "</table>\n",
       "<p>337953 rows × 45 columns</p>\n",
       "</div>"
      ],
      "text/plain": [
       "        loan_amnt  funded_amnt_inv  int_rate  installment  annual_inc    dti  \\\n",
       "0            5000           4975.0     10.65       162.87     24000.0  27.65   \n",
       "2            2400           2400.0     15.96        84.33     12252.0   8.72   \n",
       "3           10000          10000.0     13.49       339.31     49200.0  20.00   \n",
       "5            5000           5000.0      7.90       156.46     36000.0  11.20   \n",
       "7            3000           3000.0     18.64       109.43     48000.0   5.35   \n",
       "...           ...              ...       ...          ...         ...    ...   \n",
       "466277      18000          17975.0      7.90       563.23     90000.0  10.33   \n",
       "466278      10000          10000.0     18.25       362.78     42000.0  11.57   \n",
       "466279      15000          15000.0     13.53       509.25     66000.0  16.22   \n",
       "466283       2000           2000.0      7.90        62.59     83000.0   5.39   \n",
       "466284      10000           9975.0     19.20       367.58     46000.0  22.78   \n",
       "\n",
       "        delinq_2yrs  inq_last_6mths  open_acc  pub_rec  ...  loan_status  \\\n",
       "0               0.0             1.0       3.0      0.0  ...   Fully Paid   \n",
       "2               0.0             2.0       2.0      0.0  ...   Fully Paid   \n",
       "3               0.0             1.0      10.0      0.0  ...   Fully Paid   \n",
       "5               0.0             3.0       9.0      0.0  ...   Fully Paid   \n",
       "7               0.0             2.0       4.0      0.0  ...   Fully Paid   \n",
       "...             ...             ...       ...      ...  ...          ...   \n",
       "466277          1.0             0.0      16.0      0.0  ...  Charged Off   \n",
       "466278          0.0             0.0       9.0      0.0  ...   Fully Paid   \n",
       "466279          0.0             0.0       8.0      0.0  ...      Current   \n",
       "466283          3.0             1.0      21.0      0.0  ...   Fully Paid   \n",
       "466284          1.0             0.0       6.0      0.0  ...      Current   \n",
       "\n",
       "        pymnt_plan             purpose  addr_state  earliest_cr_line  \\\n",
       "0                n         credit_card          AZ               NaN   \n",
       "2                n      small_business          IL                08   \n",
       "3                n               other          CA               NaN   \n",
       "5                n             wedding          AZ                08   \n",
       "7                n                 car          CA                08   \n",
       "...            ...                 ...         ...               ...   \n",
       "466277           n  debt_consolidation          MD               NaN   \n",
       "466278           n            vacation          VA                08   \n",
       "466279           n         credit_card          MD               NaN   \n",
       "466283           n         credit_card          CA                08   \n",
       "466284           n               other          CA                08   \n",
       "\n",
       "        initial_list_status  last_pymnt_d  last_credit_pull_d  \\\n",
       "0                         f            01                  01   \n",
       "2                         f            01                  01   \n",
       "3                         f            01                  01   \n",
       "5                         f            01                  01   \n",
       "7                         f            01                  01   \n",
       "...                     ...           ...                 ...   \n",
       "466277                    f            01                  01   \n",
       "466278                    f            01                  01   \n",
       "466279                    w            01                  01   \n",
       "466283                    w            01                  01   \n",
       "466284                    f            01                  01   \n",
       "\n",
       "        application_type  TARGET  \n",
       "0             INDIVIDUAL       0  \n",
       "2             INDIVIDUAL       0  \n",
       "3             INDIVIDUAL       0  \n",
       "5             INDIVIDUAL       0  \n",
       "7             INDIVIDUAL       0  \n",
       "...                  ...     ...  \n",
       "466277        INDIVIDUAL       0  \n",
       "466278        INDIVIDUAL       0  \n",
       "466279        INDIVIDUAL       0  \n",
       "466283        INDIVIDUAL       0  \n",
       "466284        INDIVIDUAL       0  \n",
       "\n",
       "[337953 rows x 45 columns]"
      ]
     },
     "execution_count": 63,
     "metadata": {},
     "output_type": "execute_result"
    }
   ],
   "source": [
    "df[df.eq(\" 36 months\").any(1)]"
   ]
  },
  {
   "cell_type": "code",
   "execution_count": 64,
   "id": "a4df0a6d",
   "metadata": {},
   "outputs": [
    {
     "data": {
      "text/html": [
       "<div>\n",
       "<style scoped>\n",
       "    .dataframe tbody tr th:only-of-type {\n",
       "        vertical-align: middle;\n",
       "    }\n",
       "\n",
       "    .dataframe tbody tr th {\n",
       "        vertical-align: top;\n",
       "    }\n",
       "\n",
       "    .dataframe thead th {\n",
       "        text-align: right;\n",
       "    }\n",
       "</style>\n",
       "<table border=\"1\" class=\"dataframe\">\n",
       "  <thead>\n",
       "    <tr style=\"text-align: right;\">\n",
       "      <th></th>\n",
       "      <th>loan_amnt</th>\n",
       "      <th>funded_amnt_inv</th>\n",
       "      <th>int_rate</th>\n",
       "      <th>installment</th>\n",
       "      <th>annual_inc</th>\n",
       "      <th>dti</th>\n",
       "      <th>delinq_2yrs</th>\n",
       "      <th>inq_last_6mths</th>\n",
       "      <th>open_acc</th>\n",
       "      <th>pub_rec</th>\n",
       "      <th>...</th>\n",
       "      <th>loan_status</th>\n",
       "      <th>pymnt_plan</th>\n",
       "      <th>purpose</th>\n",
       "      <th>addr_state</th>\n",
       "      <th>earliest_cr_line</th>\n",
       "      <th>initial_list_status</th>\n",
       "      <th>last_pymnt_d</th>\n",
       "      <th>last_credit_pull_d</th>\n",
       "      <th>application_type</th>\n",
       "      <th>TARGET</th>\n",
       "    </tr>\n",
       "  </thead>\n",
       "  <tbody>\n",
       "    <tr>\n",
       "      <th>0</th>\n",
       "      <td>NaN</td>\n",
       "      <td>NaN</td>\n",
       "      <td>NaN</td>\n",
       "      <td>NaN</td>\n",
       "      <td>NaN</td>\n",
       "      <td>NaN</td>\n",
       "      <td>NaN</td>\n",
       "      <td>NaN</td>\n",
       "      <td>NaN</td>\n",
       "      <td>NaN</td>\n",
       "      <td>...</td>\n",
       "      <td>NaN</td>\n",
       "      <td>NaN</td>\n",
       "      <td>NaN</td>\n",
       "      <td>NaN</td>\n",
       "      <td>NaN</td>\n",
       "      <td>NaN</td>\n",
       "      <td>NaN</td>\n",
       "      <td>NaN</td>\n",
       "      <td>NaN</td>\n",
       "      <td>NaN</td>\n",
       "    </tr>\n",
       "    <tr>\n",
       "      <th>1</th>\n",
       "      <td>NaN</td>\n",
       "      <td>NaN</td>\n",
       "      <td>NaN</td>\n",
       "      <td>NaN</td>\n",
       "      <td>NaN</td>\n",
       "      <td>NaN</td>\n",
       "      <td>NaN</td>\n",
       "      <td>NaN</td>\n",
       "      <td>NaN</td>\n",
       "      <td>NaN</td>\n",
       "      <td>...</td>\n",
       "      <td>NaN</td>\n",
       "      <td>NaN</td>\n",
       "      <td>NaN</td>\n",
       "      <td>NaN</td>\n",
       "      <td>NaN</td>\n",
       "      <td>NaN</td>\n",
       "      <td>NaN</td>\n",
       "      <td>NaN</td>\n",
       "      <td>NaN</td>\n",
       "      <td>NaN</td>\n",
       "    </tr>\n",
       "    <tr>\n",
       "      <th>2</th>\n",
       "      <td>NaN</td>\n",
       "      <td>NaN</td>\n",
       "      <td>NaN</td>\n",
       "      <td>NaN</td>\n",
       "      <td>NaN</td>\n",
       "      <td>NaN</td>\n",
       "      <td>NaN</td>\n",
       "      <td>NaN</td>\n",
       "      <td>NaN</td>\n",
       "      <td>NaN</td>\n",
       "      <td>...</td>\n",
       "      <td>NaN</td>\n",
       "      <td>NaN</td>\n",
       "      <td>NaN</td>\n",
       "      <td>NaN</td>\n",
       "      <td>NaN</td>\n",
       "      <td>NaN</td>\n",
       "      <td>NaN</td>\n",
       "      <td>NaN</td>\n",
       "      <td>NaN</td>\n",
       "      <td>NaN</td>\n",
       "    </tr>\n",
       "    <tr>\n",
       "      <th>3</th>\n",
       "      <td>NaN</td>\n",
       "      <td>NaN</td>\n",
       "      <td>NaN</td>\n",
       "      <td>NaN</td>\n",
       "      <td>NaN</td>\n",
       "      <td>NaN</td>\n",
       "      <td>NaN</td>\n",
       "      <td>NaN</td>\n",
       "      <td>NaN</td>\n",
       "      <td>NaN</td>\n",
       "      <td>...</td>\n",
       "      <td>NaN</td>\n",
       "      <td>NaN</td>\n",
       "      <td>NaN</td>\n",
       "      <td>NaN</td>\n",
       "      <td>NaN</td>\n",
       "      <td>NaN</td>\n",
       "      <td>NaN</td>\n",
       "      <td>NaN</td>\n",
       "      <td>NaN</td>\n",
       "      <td>NaN</td>\n",
       "    </tr>\n",
       "    <tr>\n",
       "      <th>4</th>\n",
       "      <td>NaN</td>\n",
       "      <td>NaN</td>\n",
       "      <td>NaN</td>\n",
       "      <td>NaN</td>\n",
       "      <td>NaN</td>\n",
       "      <td>NaN</td>\n",
       "      <td>NaN</td>\n",
       "      <td>NaN</td>\n",
       "      <td>NaN</td>\n",
       "      <td>NaN</td>\n",
       "      <td>...</td>\n",
       "      <td>NaN</td>\n",
       "      <td>NaN</td>\n",
       "      <td>NaN</td>\n",
       "      <td>NaN</td>\n",
       "      <td>NaN</td>\n",
       "      <td>NaN</td>\n",
       "      <td>NaN</td>\n",
       "      <td>NaN</td>\n",
       "      <td>NaN</td>\n",
       "      <td>NaN</td>\n",
       "    </tr>\n",
       "    <tr>\n",
       "      <th>...</th>\n",
       "      <td>...</td>\n",
       "      <td>...</td>\n",
       "      <td>...</td>\n",
       "      <td>...</td>\n",
       "      <td>...</td>\n",
       "      <td>...</td>\n",
       "      <td>...</td>\n",
       "      <td>...</td>\n",
       "      <td>...</td>\n",
       "      <td>...</td>\n",
       "      <td>...</td>\n",
       "      <td>...</td>\n",
       "      <td>...</td>\n",
       "      <td>...</td>\n",
       "      <td>...</td>\n",
       "      <td>...</td>\n",
       "      <td>...</td>\n",
       "      <td>...</td>\n",
       "      <td>...</td>\n",
       "      <td>...</td>\n",
       "      <td>...</td>\n",
       "    </tr>\n",
       "    <tr>\n",
       "      <th>466280</th>\n",
       "      <td>NaN</td>\n",
       "      <td>NaN</td>\n",
       "      <td>NaN</td>\n",
       "      <td>NaN</td>\n",
       "      <td>NaN</td>\n",
       "      <td>NaN</td>\n",
       "      <td>NaN</td>\n",
       "      <td>NaN</td>\n",
       "      <td>NaN</td>\n",
       "      <td>NaN</td>\n",
       "      <td>...</td>\n",
       "      <td>NaN</td>\n",
       "      <td>NaN</td>\n",
       "      <td>NaN</td>\n",
       "      <td>NaN</td>\n",
       "      <td>NaN</td>\n",
       "      <td>NaN</td>\n",
       "      <td>NaN</td>\n",
       "      <td>NaN</td>\n",
       "      <td>NaN</td>\n",
       "      <td>NaN</td>\n",
       "    </tr>\n",
       "    <tr>\n",
       "      <th>466281</th>\n",
       "      <td>NaN</td>\n",
       "      <td>NaN</td>\n",
       "      <td>NaN</td>\n",
       "      <td>NaN</td>\n",
       "      <td>NaN</td>\n",
       "      <td>NaN</td>\n",
       "      <td>NaN</td>\n",
       "      <td>NaN</td>\n",
       "      <td>NaN</td>\n",
       "      <td>NaN</td>\n",
       "      <td>...</td>\n",
       "      <td>NaN</td>\n",
       "      <td>NaN</td>\n",
       "      <td>NaN</td>\n",
       "      <td>NaN</td>\n",
       "      <td>NaN</td>\n",
       "      <td>NaN</td>\n",
       "      <td>NaN</td>\n",
       "      <td>NaN</td>\n",
       "      <td>NaN</td>\n",
       "      <td>NaN</td>\n",
       "    </tr>\n",
       "    <tr>\n",
       "      <th>466282</th>\n",
       "      <td>NaN</td>\n",
       "      <td>NaN</td>\n",
       "      <td>NaN</td>\n",
       "      <td>NaN</td>\n",
       "      <td>NaN</td>\n",
       "      <td>NaN</td>\n",
       "      <td>NaN</td>\n",
       "      <td>NaN</td>\n",
       "      <td>NaN</td>\n",
       "      <td>NaN</td>\n",
       "      <td>...</td>\n",
       "      <td>NaN</td>\n",
       "      <td>NaN</td>\n",
       "      <td>NaN</td>\n",
       "      <td>NaN</td>\n",
       "      <td>NaN</td>\n",
       "      <td>NaN</td>\n",
       "      <td>NaN</td>\n",
       "      <td>NaN</td>\n",
       "      <td>NaN</td>\n",
       "      <td>NaN</td>\n",
       "    </tr>\n",
       "    <tr>\n",
       "      <th>466283</th>\n",
       "      <td>NaN</td>\n",
       "      <td>NaN</td>\n",
       "      <td>NaN</td>\n",
       "      <td>NaN</td>\n",
       "      <td>NaN</td>\n",
       "      <td>NaN</td>\n",
       "      <td>NaN</td>\n",
       "      <td>NaN</td>\n",
       "      <td>NaN</td>\n",
       "      <td>NaN</td>\n",
       "      <td>...</td>\n",
       "      <td>NaN</td>\n",
       "      <td>NaN</td>\n",
       "      <td>NaN</td>\n",
       "      <td>NaN</td>\n",
       "      <td>NaN</td>\n",
       "      <td>NaN</td>\n",
       "      <td>NaN</td>\n",
       "      <td>NaN</td>\n",
       "      <td>NaN</td>\n",
       "      <td>NaN</td>\n",
       "    </tr>\n",
       "    <tr>\n",
       "      <th>466284</th>\n",
       "      <td>NaN</td>\n",
       "      <td>NaN</td>\n",
       "      <td>NaN</td>\n",
       "      <td>NaN</td>\n",
       "      <td>NaN</td>\n",
       "      <td>NaN</td>\n",
       "      <td>NaN</td>\n",
       "      <td>NaN</td>\n",
       "      <td>NaN</td>\n",
       "      <td>NaN</td>\n",
       "      <td>...</td>\n",
       "      <td>NaN</td>\n",
       "      <td>NaN</td>\n",
       "      <td>NaN</td>\n",
       "      <td>NaN</td>\n",
       "      <td>NaN</td>\n",
       "      <td>NaN</td>\n",
       "      <td>NaN</td>\n",
       "      <td>NaN</td>\n",
       "      <td>NaN</td>\n",
       "      <td>NaN</td>\n",
       "    </tr>\n",
       "  </tbody>\n",
       "</table>\n",
       "<p>466285 rows × 45 columns</p>\n",
       "</div>"
      ],
      "text/plain": [
       "        loan_amnt  funded_amnt_inv  int_rate  installment  annual_inc  dti  \\\n",
       "0             NaN              NaN       NaN          NaN         NaN  NaN   \n",
       "1             NaN              NaN       NaN          NaN         NaN  NaN   \n",
       "2             NaN              NaN       NaN          NaN         NaN  NaN   \n",
       "3             NaN              NaN       NaN          NaN         NaN  NaN   \n",
       "4             NaN              NaN       NaN          NaN         NaN  NaN   \n",
       "...           ...              ...       ...          ...         ...  ...   \n",
       "466280        NaN              NaN       NaN          NaN         NaN  NaN   \n",
       "466281        NaN              NaN       NaN          NaN         NaN  NaN   \n",
       "466282        NaN              NaN       NaN          NaN         NaN  NaN   \n",
       "466283        NaN              NaN       NaN          NaN         NaN  NaN   \n",
       "466284        NaN              NaN       NaN          NaN         NaN  NaN   \n",
       "\n",
       "        delinq_2yrs  inq_last_6mths  open_acc  pub_rec  ...  loan_status  \\\n",
       "0               NaN             NaN       NaN      NaN  ...          NaN   \n",
       "1               NaN             NaN       NaN      NaN  ...          NaN   \n",
       "2               NaN             NaN       NaN      NaN  ...          NaN   \n",
       "3               NaN             NaN       NaN      NaN  ...          NaN   \n",
       "4               NaN             NaN       NaN      NaN  ...          NaN   \n",
       "...             ...             ...       ...      ...  ...          ...   \n",
       "466280          NaN             NaN       NaN      NaN  ...          NaN   \n",
       "466281          NaN             NaN       NaN      NaN  ...          NaN   \n",
       "466282          NaN             NaN       NaN      NaN  ...          NaN   \n",
       "466283          NaN             NaN       NaN      NaN  ...          NaN   \n",
       "466284          NaN             NaN       NaN      NaN  ...          NaN   \n",
       "\n",
       "        pymnt_plan  purpose  addr_state  earliest_cr_line  \\\n",
       "0              NaN      NaN         NaN               NaN   \n",
       "1              NaN      NaN         NaN               NaN   \n",
       "2              NaN      NaN         NaN               NaN   \n",
       "3              NaN      NaN         NaN               NaN   \n",
       "4              NaN      NaN         NaN               NaN   \n",
       "...            ...      ...         ...               ...   \n",
       "466280         NaN      NaN         NaN               NaN   \n",
       "466281         NaN      NaN         NaN               NaN   \n",
       "466282         NaN      NaN         NaN               NaN   \n",
       "466283         NaN      NaN         NaN               NaN   \n",
       "466284         NaN      NaN         NaN               NaN   \n",
       "\n",
       "        initial_list_status  last_pymnt_d  last_credit_pull_d  \\\n",
       "0                       NaN           NaN                 NaN   \n",
       "1                       NaN           NaN                 NaN   \n",
       "2                       NaN           NaN                 NaN   \n",
       "3                       NaN           NaN                 NaN   \n",
       "4                       NaN           NaN                 NaN   \n",
       "...                     ...           ...                 ...   \n",
       "466280                  NaN           NaN                 NaN   \n",
       "466281                  NaN           NaN                 NaN   \n",
       "466282                  NaN           NaN                 NaN   \n",
       "466283                  NaN           NaN                 NaN   \n",
       "466284                  NaN           NaN                 NaN   \n",
       "\n",
       "        application_type  TARGET  \n",
       "0                    NaN     NaN  \n",
       "1                    NaN     NaN  \n",
       "2                    NaN     NaN  \n",
       "3                    NaN     NaN  \n",
       "4                    NaN     NaN  \n",
       "...                  ...     ...  \n",
       "466280               NaN     NaN  \n",
       "466281               NaN     NaN  \n",
       "466282               NaN     NaN  \n",
       "466283               NaN     NaN  \n",
       "466284               NaN     NaN  \n",
       "\n",
       "[466285 rows x 45 columns]"
      ]
     },
     "execution_count": 64,
     "metadata": {},
     "output_type": "execute_result"
    }
   ],
   "source": [
    "df.where(df == ' 36 months')"
   ]
  },
  {
   "cell_type": "code",
   "execution_count": 55,
   "id": "04c72162",
   "metadata": {
    "_uuid": "1d20e1559b50c1837b2ec2be7c5edf1b62b829df",
    "jupyter": {
     "outputs_hidden": true
    }
   },
   "outputs": [],
   "source": [
    "from imblearn.over_sampling import SMOTE"
   ]
  },
  {
   "cell_type": "code",
   "execution_count": 56,
   "id": "f1e8199e",
   "metadata": {
    "_uuid": "af1c9017ed7ee69d3c1d44ac4617441d607c05c2",
    "jupyter": {
     "outputs_hidden": true
    }
   },
   "outputs": [
    {
     "ename": "TypeError",
     "evalue": "__init__() got an unexpected keyword argument 'ratio'",
     "output_type": "error",
     "traceback": [
      "\u001b[1;31m---------------------------------------------------------------------------\u001b[0m",
      "\u001b[1;31mTypeError\u001b[0m                                 Traceback (most recent call last)",
      "\u001b[1;32m~\\AppData\\Local\\Temp/ipykernel_1408/1837712566.py\u001b[0m in \u001b[0;36m<module>\u001b[1;34m\u001b[0m\n\u001b[1;32m----> 1\u001b[1;33m \u001b[0msm\u001b[0m \u001b[1;33m=\u001b[0m \u001b[0mSMOTE\u001b[0m\u001b[1;33m(\u001b[0m\u001b[0mrandom_state\u001b[0m\u001b[1;33m=\u001b[0m\u001b[1;36m12\u001b[0m\u001b[1;33m,\u001b[0m \u001b[0mratio\u001b[0m \u001b[1;33m=\u001b[0m \u001b[1;36m1.0\u001b[0m\u001b[1;33m)\u001b[0m\u001b[1;33m\u001b[0m\u001b[1;33m\u001b[0m\u001b[0m\n\u001b[0m\u001b[0;32m      2\u001b[0m \u001b[0mx_train_r\u001b[0m\u001b[1;33m,\u001b[0m \u001b[0my_train_r\u001b[0m \u001b[1;33m=\u001b[0m \u001b[0msm\u001b[0m\u001b[1;33m.\u001b[0m\u001b[0mfit_sample\u001b[0m\u001b[1;33m(\u001b[0m\u001b[0mX_train\u001b[0m\u001b[1;33m,\u001b[0m \u001b[0my_train\u001b[0m\u001b[1;33m)\u001b[0m\u001b[1;33m\u001b[0m\u001b[1;33m\u001b[0m\u001b[0m\n",
      "\u001b[1;32m~\\anaconda3\\lib\\site-packages\\imblearn\\utils\\_validation.py\u001b[0m in \u001b[0;36minner_f\u001b[1;34m(*args, **kwargs)\u001b[0m\n\u001b[0;32m    638\u001b[0m                           FutureWarning)\n\u001b[0;32m    639\u001b[0m         \u001b[0mkwargs\u001b[0m\u001b[1;33m.\u001b[0m\u001b[0mupdate\u001b[0m\u001b[1;33m(\u001b[0m\u001b[1;33m{\u001b[0m\u001b[0mk\u001b[0m\u001b[1;33m:\u001b[0m \u001b[0marg\u001b[0m \u001b[1;32mfor\u001b[0m \u001b[0mk\u001b[0m\u001b[1;33m,\u001b[0m \u001b[0marg\u001b[0m \u001b[1;32min\u001b[0m \u001b[0mzip\u001b[0m\u001b[1;33m(\u001b[0m\u001b[0msig\u001b[0m\u001b[1;33m.\u001b[0m\u001b[0mparameters\u001b[0m\u001b[1;33m,\u001b[0m \u001b[0margs\u001b[0m\u001b[1;33m)\u001b[0m\u001b[1;33m}\u001b[0m\u001b[1;33m)\u001b[0m\u001b[1;33m\u001b[0m\u001b[1;33m\u001b[0m\u001b[0m\n\u001b[1;32m--> 640\u001b[1;33m         \u001b[1;32mreturn\u001b[0m \u001b[0mf\u001b[0m\u001b[1;33m(\u001b[0m\u001b[1;33m**\u001b[0m\u001b[0mkwargs\u001b[0m\u001b[1;33m)\u001b[0m\u001b[1;33m\u001b[0m\u001b[1;33m\u001b[0m\u001b[0m\n\u001b[0m\u001b[0;32m    641\u001b[0m     \u001b[1;32mreturn\u001b[0m \u001b[0minner_f\u001b[0m\u001b[1;33m\u001b[0m\u001b[1;33m\u001b[0m\u001b[0m\n",
      "\u001b[1;31mTypeError\u001b[0m: __init__() got an unexpected keyword argument 'ratio'"
     ]
    }
   ],
   "source": [
    "sm = SMOTE(random_state=12, ratio = 1.0)\n",
    "x_train_r, y_train_r = sm.fit_sample(X_train, y_train)"
   ]
  },
  {
   "cell_type": "code",
   "execution_count": 57,
   "id": "62da29a2",
   "metadata": {
    "_uuid": "2b0a73a4f3a6c4f1c0beb1afad84dd4e7e7a4d46",
    "jupyter": {
     "outputs_hidden": true
    },
    "scrolled": true
   },
   "outputs": [
    {
     "ename": "NameError",
     "evalue": "name 'x_train_r' is not defined",
     "output_type": "error",
     "traceback": [
      "\u001b[1;31m---------------------------------------------------------------------------\u001b[0m",
      "\u001b[1;31mNameError\u001b[0m                                 Traceback (most recent call last)",
      "\u001b[1;32m~\\AppData\\Local\\Temp/ipykernel_1408/3229723972.py\u001b[0m in \u001b[0;36m<module>\u001b[1;34m\u001b[0m\n\u001b[0;32m      3\u001b[0m \u001b[0mlog_reg\u001b[0m \u001b[1;33m=\u001b[0m \u001b[0mLogisticRegression\u001b[0m\u001b[1;33m(\u001b[0m\u001b[0mC\u001b[0m \u001b[1;33m=\u001b[0m \u001b[1;36m0.0001\u001b[0m\u001b[1;33m,\u001b[0m\u001b[0mrandom_state\u001b[0m\u001b[1;33m=\u001b[0m\u001b[1;36m21\u001b[0m\u001b[1;33m)\u001b[0m\u001b[1;33m\u001b[0m\u001b[1;33m\u001b[0m\u001b[0m\n\u001b[0;32m      4\u001b[0m \u001b[1;33m\u001b[0m\u001b[0m\n\u001b[1;32m----> 5\u001b[1;33m \u001b[0mlog_reg\u001b[0m\u001b[1;33m.\u001b[0m\u001b[0mfit\u001b[0m\u001b[1;33m(\u001b[0m\u001b[0mx_train_r\u001b[0m\u001b[1;33m,\u001b[0m \u001b[0my_train_r\u001b[0m\u001b[1;33m)\u001b[0m\u001b[1;33m\u001b[0m\u001b[1;33m\u001b[0m\u001b[0m\n\u001b[0m",
      "\u001b[1;31mNameError\u001b[0m: name 'x_train_r' is not defined"
     ]
    }
   ],
   "source": [
    "from sklearn.linear_model import LogisticRegression\n",
    "\n",
    "log_reg = LogisticRegression(C = 0.0001,random_state=21)\n",
    "\n",
    "log_reg.fit(x_train_r, y_train_r)"
   ]
  },
  {
   "cell_type": "code",
   "execution_count": 58,
   "id": "52324c7a",
   "metadata": {
    "_uuid": "167bf11153597d53c93829f01764fa195d85103d",
    "jupyter": {
     "outputs_hidden": true
    }
   },
   "outputs": [
    {
     "ename": "NameError",
     "evalue": "name 'x_train_r' is not defined",
     "output_type": "error",
     "traceback": [
      "\u001b[1;31m---------------------------------------------------------------------------\u001b[0m",
      "\u001b[1;31mNameError\u001b[0m                                 Traceback (most recent call last)",
      "\u001b[1;32m~\\AppData\\Local\\Temp/ipykernel_1408/419473539.py\u001b[0m in \u001b[0;36m<module>\u001b[1;34m\u001b[0m\n\u001b[1;32m----> 1\u001b[1;33m \u001b[0mprint_score\u001b[0m\u001b[1;33m(\u001b[0m\u001b[0mlog_reg\u001b[0m\u001b[1;33m,\u001b[0m \u001b[0mx_train_r\u001b[0m\u001b[1;33m,\u001b[0m \u001b[0my_train_r\u001b[0m\u001b[1;33m,\u001b[0m \u001b[0mX_test\u001b[0m\u001b[1;33m,\u001b[0m \u001b[0my_test\u001b[0m\u001b[1;33m,\u001b[0m \u001b[0mtrain\u001b[0m\u001b[1;33m=\u001b[0m\u001b[1;32mFalse\u001b[0m\u001b[1;33m)\u001b[0m\u001b[1;33m\u001b[0m\u001b[1;33m\u001b[0m\u001b[0m\n\u001b[0m",
      "\u001b[1;31mNameError\u001b[0m: name 'x_train_r' is not defined"
     ]
    }
   ],
   "source": [
    "print_score(log_reg, x_train_r, y_train_r, X_test, y_test, train=False)"
   ]
  },
  {
   "cell_type": "code",
   "execution_count": 59,
   "id": "745b9e99",
   "metadata": {
    "_uuid": "82d54fd81da66b23e320293fc87254e96c4c8ecb",
    "jupyter": {
     "outputs_hidden": true
    }
   },
   "outputs": [],
   "source": [
    "from sklearn.ensemble import RandomForestClassifier"
   ]
  },
  {
   "cell_type": "code",
   "execution_count": 60,
   "id": "76fb5954",
   "metadata": {
    "_uuid": "cdf0316bc64dd6539b2a78220c6c64ef0cf3a46f",
    "jupyter": {
     "outputs_hidden": true
    }
   },
   "outputs": [
    {
     "ename": "NameError",
     "evalue": "name 'x_train_r' is not defined",
     "output_type": "error",
     "traceback": [
      "\u001b[1;31m---------------------------------------------------------------------------\u001b[0m",
      "\u001b[1;31mNameError\u001b[0m                                 Traceback (most recent call last)",
      "\u001b[1;32m~\\AppData\\Local\\Temp/ipykernel_1408/227762242.py\u001b[0m in \u001b[0;36m<module>\u001b[1;34m\u001b[0m\n\u001b[0;32m      1\u001b[0m \u001b[0mclf_rf\u001b[0m \u001b[1;33m=\u001b[0m \u001b[0mRandomForestClassifier\u001b[0m\u001b[1;33m(\u001b[0m\u001b[0mn_estimators\u001b[0m\u001b[1;33m=\u001b[0m\u001b[1;36m40\u001b[0m\u001b[1;33m,\u001b[0m \u001b[0mrandom_state\u001b[0m\u001b[1;33m=\u001b[0m\u001b[1;36m21\u001b[0m\u001b[1;33m)\u001b[0m\u001b[1;33m\u001b[0m\u001b[1;33m\u001b[0m\u001b[0m\n\u001b[1;32m----> 2\u001b[1;33m \u001b[0mclf_rf\u001b[0m\u001b[1;33m.\u001b[0m\u001b[0mfit\u001b[0m\u001b[1;33m(\u001b[0m\u001b[0mx_train_r\u001b[0m\u001b[1;33m,\u001b[0m \u001b[0my_train_r\u001b[0m\u001b[1;33m)\u001b[0m\u001b[1;33m\u001b[0m\u001b[1;33m\u001b[0m\u001b[0m\n\u001b[0m",
      "\u001b[1;31mNameError\u001b[0m: name 'x_train_r' is not defined"
     ]
    }
   ],
   "source": [
    "clf_rf = RandomForestClassifier(n_estimators=40, random_state=21)\n",
    "clf_rf.fit(x_train_r, y_train_r)"
   ]
  },
  {
   "cell_type": "code",
   "execution_count": 61,
   "id": "e7c6fc89",
   "metadata": {
    "_uuid": "2d0849504f79e309e919a374a472fb5d7d991496",
    "jupyter": {
     "outputs_hidden": true
    }
   },
   "outputs": [
    {
     "ename": "NameError",
     "evalue": "name 'x_train_r' is not defined",
     "output_type": "error",
     "traceback": [
      "\u001b[1;31m---------------------------------------------------------------------------\u001b[0m",
      "\u001b[1;31mNameError\u001b[0m                                 Traceback (most recent call last)",
      "\u001b[1;32m~\\AppData\\Local\\Temp/ipykernel_1408/3016174650.py\u001b[0m in \u001b[0;36m<module>\u001b[1;34m\u001b[0m\n\u001b[1;32m----> 1\u001b[1;33m \u001b[0mprint_score\u001b[0m\u001b[1;33m(\u001b[0m\u001b[0mclf_rf\u001b[0m\u001b[1;33m,\u001b[0m \u001b[0mx_train_r\u001b[0m\u001b[1;33m,\u001b[0m \u001b[0my_train_r\u001b[0m\u001b[1;33m,\u001b[0m \u001b[0mX_test\u001b[0m\u001b[1;33m,\u001b[0m \u001b[0my_test\u001b[0m\u001b[1;33m,\u001b[0m \u001b[0mtrain\u001b[0m\u001b[1;33m=\u001b[0m\u001b[1;32mFalse\u001b[0m\u001b[1;33m)\u001b[0m\u001b[1;33m\u001b[0m\u001b[1;33m\u001b[0m\u001b[0m\n\u001b[0m",
      "\u001b[1;31mNameError\u001b[0m: name 'x_train_r' is not defined"
     ]
    }
   ],
   "source": [
    "print_score(clf_rf, x_train_r, y_train_r, X_test, y_test, train=False)"
   ]
  },
  {
   "cell_type": "code",
   "execution_count": null,
   "id": "e30ad253",
   "metadata": {},
   "outputs": [],
   "source": []
  },
  {
   "cell_type": "code",
   "execution_count": null,
   "id": "87b84b28",
   "metadata": {},
   "outputs": [],
   "source": []
  }
 ],
 "metadata": {
  "kernelspec": {
   "display_name": "Python 3 (ipykernel)",
   "language": "python",
   "name": "python3"
  },
  "language_info": {
   "codemirror_mode": {
    "name": "ipython",
    "version": 3
   },
   "file_extension": ".py",
   "mimetype": "text/x-python",
   "name": "python",
   "nbconvert_exporter": "python",
   "pygments_lexer": "ipython3",
   "version": "3.9.7"
  }
 },
 "nbformat": 4,
 "nbformat_minor": 5
}
